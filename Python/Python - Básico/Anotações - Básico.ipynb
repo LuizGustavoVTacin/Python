{
 "cells": [
  {
   "attachments": {},
   "cell_type": "markdown",
   "metadata": {},
   "source": [
    "## Função print()\n",
    "\n",
    "Sintaxe Geral: print(\"[Texto]\")"
   ]
  },
  {
   "cell_type": "code",
   "execution_count": 1,
   "metadata": {},
   "outputs": [
    {
     "name": "stdout",
     "output_type": "stream",
     "text": [
      "Texto qualquer para ser exibido\n"
     ]
    }
   ],
   "source": [
    "print(\"Texto qualquer para ser exibido\")"
   ]
  },
  {
   "attachments": {},
   "cell_type": "markdown",
   "metadata": {},
   "source": [
    "## Relacionadores"
   ]
  },
  {
   "attachments": {},
   "cell_type": "markdown",
   "metadata": {},
   "source": [
    "#### Operações Básicas em Python:\n",
    "\n",
    "Operação | Símbolo\n",
    "---------|---------\n",
    "Soma     |     +\n",
    "Subtração| -\n",
    "Multiplicação | *\n",
    "Divisão | /\n",
    "Potência | **\n",
    "Resto de Divisão | %"
   ]
  },
  {
   "attachments": {},
   "cell_type": "markdown",
   "metadata": {},
   "source": [
    "#### Operadores Relacionais em Python:\n",
    "\n",
    "Operador | Operação\n",
    "---------|----------\n",
    "== | Igual\n",
    "\\>  | Maior que\n",
    "< | Menor que\n",
    "!= | Diferente\n",
    "\\>= | Maior ou Igual\n",
    "<= | Menor ou Igual"
   ]
  },
  {
   "attachments": {},
   "cell_type": "markdown",
   "metadata": {},
   "source": [
    "#### Operadores Lógicos:\n",
    "\n",
    "Operador | Operação\n",
    "---------|----------\n",
    "not | Não\n",
    "and | E\n",
    "or | Ou"
   ]
  },
  {
   "attachments": {},
   "cell_type": "markdown",
   "metadata": {},
   "source": [
    "## Strings\n",
    "\n",
    "len([\"String\" ou variável com string])\n",
    "                   \n",
    "Variável[Posição da String]"
   ]
  },
  {
   "cell_type": "code",
   "execution_count": 23,
   "metadata": {},
   "outputs": [
    {
     "name": "stdout",
     "output_type": "stream",
     "text": [
      "4\n",
      "z\n"
     ]
    }
   ],
   "source": [
    "a = 'Luiz'\n",
    "print(len(a))\n",
    "print(a[3])"
   ]
  },
  {
   "attachments": {},
   "cell_type": "markdown",
   "metadata": {},
   "source": [
    "#### Concatenação\n",
    "\n",
    "[Variável da String] + [\"String\"]"
   ]
  },
  {
   "cell_type": "code",
   "execution_count": 24,
   "metadata": {},
   "outputs": [
    {
     "name": "stdout",
     "output_type": "stream",
     "text": [
      "Luiz Gustavo\n"
     ]
    }
   ],
   "source": [
    "a = 'Luiz'\n",
    "a = a + ' Gustavo'\n",
    "print(a)"
   ]
  },
  {
   "attachments": {},
   "cell_type": "markdown",
   "metadata": {},
   "source": [
    "#### Composição\n",
    "\n",
    "\"[String] + [Marcador] + [String]\" %([Variável])"
   ]
  },
  {
   "cell_type": "code",
   "execution_count": 25,
   "metadata": {},
   "outputs": [
    {
     "name": "stdout",
     "output_type": "stream",
     "text": [
      "Olá, Luiz\n"
     ]
    }
   ],
   "source": [
    "a = 'Luiz'\n",
    "print('Olá, %s' % a)"
   ]
  },
  {
   "attachments": {},
   "cell_type": "markdown",
   "metadata": {},
   "source": [
    "#### Marcadores\n",
    "\n",
    "Marcador | Tipo\n",
    "---------|-------\n",
    "%d | Nº Inteiros\n",
    "%s | Strings\n",
    "%f | Nº Decimal"
   ]
  },
  {
   "attachments": {},
   "cell_type": "markdown",
   "metadata": {},
   "source": [
    "#### Fatiamento\n",
    "\n",
    "Variável[posição1:posição2]                         \n",
    "Variável[:posição2]                             \n",
    "Variável[posição1:]                         \n",
    "Variável[0:-posição2]                           \n",
    "Variável[-posição:0]                            \n"
   ]
  },
  {
   "cell_type": "code",
   "execution_count": 26,
   "metadata": {},
   "outputs": [
    {
     "name": "stdout",
     "output_type": "stream",
     "text": [
      "iz G\n",
      "Luiz Gu\n",
      "iz Gustavo\n",
      "Luiz Gu\n",
      "\n"
     ]
    }
   ],
   "source": [
    "Nome = 'Luiz Gustavo'\n",
    "print(Nome[2:6])\n",
    "print(Nome[:7])\n",
    "print(Nome[2:])\n",
    "print(Nome[0:-5])\n",
    "print(Nome[-9:0])"
   ]
  },
  {
   "attachments": {},
   "cell_type": "markdown",
   "metadata": {},
   "source": [
    "#### Entrada de Dados\n",
    "\n",
    "[Variável] = input(\"[Mensagem]\")"
   ]
  },
  {
   "cell_type": "code",
   "execution_count": 27,
   "metadata": {},
   "outputs": [
    {
     "name": "stdout",
     "output_type": "stream",
     "text": [
      "Seu nome é Alberto\n"
     ]
    }
   ],
   "source": [
    "a = input(\"Qual seu nome? \")\n",
    "print(\"Seu nome é \" + a)"
   ]
  },
  {
   "attachments": {},
   "cell_type": "markdown",
   "metadata": {},
   "source": [
    "#### Conversão de dados:\n",
    "\n",
    "[Variável] = [Tipo de Variável]\\(Variável\\)"
   ]
  },
  {
   "cell_type": "code",
   "execution_count": 28,
   "metadata": {},
   "outputs": [
    {
     "name": "stdout",
     "output_type": "stream",
     "text": [
      "<class 'str'>\n",
      "<class 'int'>\n"
     ]
    }
   ],
   "source": [
    "a = '123'\n",
    "print(type(a))\n",
    "a = int(a)\n",
    "print(type(a))"
   ]
  },
  {
   "attachments": {},
   "cell_type": "markdown",
   "metadata": {},
   "source": [
    "## Condições"
   ]
  },
  {
   "attachments": {},
   "cell_type": "markdown",
   "metadata": {},
   "source": [
    "##### Função **if**,**elif** e **else**                                   "
   ]
  },
  {
   "cell_type": "code",
   "execution_count": 29,
   "metadata": {},
   "outputs": [
    {
     "name": "stdout",
     "output_type": "stream",
     "text": [
      "a = 3\n"
     ]
    }
   ],
   "source": [
    "a = 3\n",
    "if a == 2:\n",
    "    print(\"a = 2\")\n",
    "elif a == 3:\n",
    "    print(\"a = 3\")\n",
    "else:\n",
    "    print(\"Valor de a desconhecido\")"
   ]
  },
  {
   "attachments": {},
   "cell_type": "markdown",
   "metadata": {},
   "source": [
    "#### Funções **try** e **except**"
   ]
  },
  {
   "cell_type": "code",
   "execution_count": 30,
   "metadata": {},
   "outputs": [
    {
     "name": "stdout",
     "output_type": "stream",
     "text": [
      "0\n"
     ]
    }
   ],
   "source": [
    "a = \"i234\"\n",
    "\n",
    "try:\n",
    "    a = int(a)\n",
    "except:\n",
    "    a = 0\n",
    "print(a)"
   ]
  },
  {
   "attachments": {},
   "cell_type": "markdown",
   "metadata": {},
   "source": [
    "## Repetições"
   ]
  },
  {
   "attachments": {},
   "cell_type": "markdown",
   "metadata": {},
   "source": [
    "#### Função **While**"
   ]
  },
  {
   "cell_type": "code",
   "execution_count": 36,
   "metadata": {},
   "outputs": [
    {
     "name": "stdout",
     "output_type": "stream",
     "text": [
      "0\n",
      "1\n",
      "2\n"
     ]
    }
   ],
   "source": [
    "a = 0\n",
    "while a < 3:\n",
    "    print(a)\n",
    "    a += 1"
   ]
  },
  {
   "attachments": {},
   "cell_type": "markdown",
   "metadata": {},
   "source": [
    "#### Funções **break** e **continue**"
   ]
  },
  {
   "cell_type": "code",
   "execution_count": 45,
   "metadata": {},
   "outputs": [
    {
     "name": "stdout",
     "output_type": "stream",
     "text": [
      "1\n",
      "3\n",
      "5\n",
      "7\n",
      "Valor final = 7\n"
     ]
    }
   ],
   "source": [
    "a = -1\n",
    "while True:\n",
    "    a += 1\n",
    "    if a % 2 == 0:\n",
    "        continue\n",
    "    else:\n",
    "        print(a)\n",
    "    if a == 7:\n",
    "        print(\"Valor final =\",a)\n",
    "        break"
   ]
  },
  {
   "attachments": {},
   "cell_type": "markdown",
   "metadata": {},
   "source": [
    "## Listas"
   ]
  }
 ],
 "metadata": {
  "kernelspec": {
   "display_name": "Python 3",
   "language": "python",
   "name": "python3"
  },
  "language_info": {
   "codemirror_mode": {
    "name": "ipython",
    "version": 3
   },
   "file_extension": ".py",
   "mimetype": "text/x-python",
   "name": "python",
   "nbconvert_exporter": "python",
   "pygments_lexer": "ipython3",
   "version": "3.10.6"
  },
  "orig_nbformat": 4
 },
 "nbformat": 4,
 "nbformat_minor": 2
}
