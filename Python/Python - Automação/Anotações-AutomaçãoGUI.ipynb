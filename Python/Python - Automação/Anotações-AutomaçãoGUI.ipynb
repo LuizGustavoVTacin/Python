{
 "cells": [
  {
   "attachments": {},
   "cell_type": "markdown",
   "metadata": {},
   "source": [
    "Módulo utilizado: PyAutoGUI\n",
    "\n",
    "Cuidado: o mouse poderá se mover automaticamente mais rápido do que carregamentos de apps.\n",
    "\n",
    "Caso haja problemas, apertar CTRL+ALT+DEL\n",
    "\n",
    "Outra forma é adicionar pyautogui.PAUSE entre os comandos para possibilitar assumir o controle do mouse\n",
    "\n",
    "Por último, mover o mouse para o canto superior esquerdo, o PyAutoGUI lançará uma exceção. Isto recurso pode ser desabilitado com pyautogui.FAILSAFE = False"
   ]
  },
  {
   "attachments": {},
   "cell_type": "markdown",
   "metadata": {},
   "source": [
    "Controlando os movimentos do mouse:\n",
    "\n",
    "O pyautogui trabalha com coordenadas x e y na tela, sendo (0,0) o canto superior esquerdo. A quantidade de pixels corresponde à quantidade de pixels da tela, como 1920x1080 para full hd.\n",
    "\n",
    "Para descobrir qual a resolução, usar: pyautogui.size()"
   ]
  },
  {
   "cell_type": "code",
   "execution_count": 1,
   "metadata": {},
   "outputs": [
    {
     "data": {
      "text/plain": [
       "Size(width=1366, height=768)"
      ]
     },
     "execution_count": 1,
     "metadata": {},
     "output_type": "execute_result"
    }
   ],
   "source": [
    "import pyautogui\n",
    "\n",
    "pyautogui.size()"
   ]
  },
  {
   "attachments": {},
   "cell_type": "markdown",
   "metadata": {},
   "source": [
    "Movendo o mouse:\n",
    "\n",
    "Função pyautogui.moveTo(), que recebe as coordenadas de destino e, opcionalmente, a duração que o mouse levará para alcançar o destino."
   ]
  },
  {
   "cell_type": "code",
   "execution_count": 8,
   "metadata": {},
   "outputs": [],
   "source": [
    "import pyautogui\n",
    "\n",
    "pyautogui.moveTo(700,100, duration=1)"
   ]
  },
  {
   "attachments": {},
   "cell_type": "markdown",
   "metadata": {},
   "source": [
    "Função pyautogui.moveRel() moverá o cursor em relação à posição atual.\n",
    "\n",
    "Nesta função, aceita-se posições negativas para representar a movimentação à esquerda ou para cima."
   ]
  },
  {
   "cell_type": "code",
   "execution_count": 9,
   "metadata": {},
   "outputs": [],
   "source": [
    "import pyautogui\n",
    "\n",
    "pyautogui.moveRel(100, 100)"
   ]
  },
  {
   "attachments": {},
   "cell_type": "markdown",
   "metadata": {},
   "source": [
    "Obtendo a posição do mouse:\n",
    "\n",
    "pyautogui.position() que retorna x e y"
   ]
  },
  {
   "cell_type": "code",
   "execution_count": 10,
   "metadata": {},
   "outputs": [
    {
     "data": {
      "text/plain": [
       "Point(x=500, y=500)"
      ]
     },
     "execution_count": 10,
     "metadata": {},
     "output_type": "execute_result"
    }
   ],
   "source": [
    "import pyautogui\n",
    "\n",
    "pyautogui.moveTo(500, 500)\n",
    "pyautogui.position()"
   ]
  },
  {
   "attachments": {},
   "cell_type": "markdown",
   "metadata": {},
   "source": [
    "Clicando o mouse:\n",
    "\n",
    "pyautogui.click() leva a coordenada onde será pressionado o mouse e qual botão será pressionado, sendo possíveis left, middle ou right, como button= 'right'"
   ]
  },
  {
   "cell_type": "code",
   "execution_count": 11,
   "metadata": {},
   "outputs": [],
   "source": [
    "import pyautogui\n",
    "\n",
    "pyautogui.click(100, 100, button= 'right')"
   ]
  },
  {
   "attachments": {},
   "cell_type": "markdown",
   "metadata": {},
   "source": [
    "As funções pyautogui.mouseDown() e pyautogui.mouseUp() somente pressionará o botão e somente soltará o botão, respectivamente, e levam os mesmos argumentos de pyautogui.click()\n",
    "\n",
    "A função pyautogui.doubleClick() clicará duas vezes com o botão esquerdo, enquanto pyautogui.rightClick() fará com o botão direito e pyautogui.middleClick() com o botão do meio."
   ]
  },
  {
   "attachments": {},
   "cell_type": "markdown",
   "metadata": {},
   "source": [
    "Arrastando o mouse:\n",
    "\n",
    "Mover o mouse com um botão pressionado.\n",
    "\n",
    "pyautogui.dragTo() e pyautogui.dragRel() recebem os mesmos argumentos de moveTo() e moveRel() para isso."
   ]
  },
  {
   "cell_type": "code",
   "execution_count": null,
   "metadata": {},
   "outputs": [],
   "source": [
    "import pyautogui, time\n",
    "\n",
    "time.sleep(5)\n",
    "pyautogui.click()\n",
    "distance = 200\n",
    "while distance > 0:\n",
    "    pyautogui.dragRel(distance, 0, duration=0.2)\n",
    "    distance = distance - 5\n",
    "    pyautogui.dragRel(0, distance, duration= 0.2)\n",
    "    pyautogui.dragRel(-distance, 0, duration= 0.2)\n",
    "    distance = distance - 5\n",
    "    pyautogui.dragRel(0, -distance, duration= 0.2)"
   ]
  },
  {
   "attachments": {},
   "cell_type": "markdown",
   "metadata": {},
   "source": [
    "Fazendo rolagens com o mouse:\n",
    "\n",
    "pyautogui.scroll() recebe a quantidade de segundos que deverá ser feito a rolagem, sendo um número positivo para rolagem para cima e negativo, para baixo."
   ]
  },
  {
   "cell_type": "code",
   "execution_count": 17,
   "metadata": {},
   "outputs": [],
   "source": [
    "import pyautogui\n",
    "\n",
    "pyautogui.scroll(5)"
   ]
  },
  {
   "attachments": {},
   "cell_type": "markdown",
   "metadata": {},
   "source": [
    "Trabalhando com a tela:\n",
    "\n",
    "Obtendo captura de tela:\n",
    "\n",
    "A obtenção de captura de tela é feito com a função pyautogui.screenshot().\n",
    "\n",
    "Após isto, há objetos Image que podem ser aplicados na variável que contém a screenshot. Por exemplo, getpixel() receberá uma tupla de coordenadas e retorna três inteiros RGB correspondente a cor do pixel nesta coordenada."
   ]
  },
  {
   "cell_type": "code",
   "execution_count": 3,
   "metadata": {},
   "outputs": [
    {
     "data": {
      "text/plain": [
       "(255, 255, 255)"
      ]
     },
     "execution_count": 3,
     "metadata": {},
     "output_type": "execute_result"
    }
   ],
   "source": [
    "import pyautogui\n",
    "\n",
    "im = pyautogui.screenshot()\n",
    "im.getpixel((0,0))\n",
    "im.getpixel((50,200))"
   ]
  },
  {
   "attachments": {},
   "cell_type": "markdown",
   "metadata": {},
   "source": [
    "Analisando a tela capturada:\n",
    "\n",
    "A função pixelMatchesColor() do pyautogui retornará True se o pixel nas coordenadas x e y especificadas na tela correspondem à cor fornecida, recebendo, como argumento, as coordenadas x e y e as tuplas RGB com as cores."
   ]
  },
  {
   "cell_type": "code",
   "execution_count": 5,
   "metadata": {},
   "outputs": [
    {
     "name": "stdout",
     "output_type": "stream",
     "text": [
      "True\n",
      "False\n"
     ]
    }
   ],
   "source": [
    "import pyautogui\n",
    "\n",
    "im = pyautogui.screenshot()\n",
    "print(pyautogui.pixelMatchesColor(50,200, im.getpixel((50,200))))\n",
    "print(pyautogui.pixelMatchesColor(50,200,(230,130,80)))"
   ]
  },
  {
   "attachments": {},
   "cell_type": "markdown",
   "metadata": {},
   "source": [
    "Reconhecimento de Imagens:\n",
    "\n",
    "Pode-se inserir uma printscreen com o nome do botão que deve ser clicado. A função pyautogui.locateAllOnScreen() com o nome do arquivo da imagem da captura de tela. O retorno será uma tupla com quatro valores, sendo a coordenada X da borda esquerda, coordenada y da borda superior, largura e altura.\n",
    "\n",
    "Se a imagem pode ser encontrada em diversos pontos da tela, usar locateAllOnScreen() passa a uma lista, dentro de list()\n",
    "\n",
    "Com as dimensões do botão encontradas, pode-se usar pyautogui.center() com as coordenadas encontradas e retorna o centro do botão, onde será clicado."
   ]
  },
  {
   "cell_type": "code",
   "execution_count": 11,
   "metadata": {},
   "outputs": [
    {
     "name": "stdout",
     "output_type": "stream",
     "text": [
      "None\n"
     ]
    }
   ],
   "source": [
    "import pyautogui\n",
    "\n",
    "print(pyautogui.locateOnScreen('Entrar.png'))"
   ]
  },
  {
   "attachments": {},
   "cell_type": "markdown",
   "metadata": {},
   "source": [
    "Controlando o teclado:\n",
    "\n",
    "Enviando uma string a partir do teclado:\n",
    "\n",
    "A função pyautogui.typewrite() é usada para inserir texto. Um argumento que pode ser enviado para  a função typewrite() é a duração entre a digitação dos dígitos."
   ]
  },
  {
   "cell_type": "code",
   "execution_count": 28,
   "metadata": {},
   "outputs": [],
   "source": [
    "import pyautogui\n",
    "\n",
    "pyautogui.doubleClick(900,500)\n",
    "pyautogui.typewrite('Teste', 0.25)"
   ]
  },
  {
   "attachments": {},
   "cell_type": "markdown",
   "metadata": {},
   "source": [
    "Em caracteres que não podem ser representados por caractere, como 'enter', estas teclas são representadas por strings curtas, como 'esc','enter'."
   ]
  },
  {
   "cell_type": "code",
   "execution_count": 40,
   "metadata": {},
   "outputs": [],
   "source": [
    "import pyautogui\n",
    "\n",
    "pyautogui.doubleClick(900,380)\n",
    "pyautogui.typewrite(['a','b','enter','enter','c'])"
   ]
  },
  {
   "cell_type": "code",
   "execution_count": 3,
   "metadata": {},
   "outputs": [
    {
     "name": "stdout",
     "output_type": "stream",
     "text": [
      "                                   0                                   1\n",
      "0                          a,b,#,@,!       Teclas para caracteres únicos\n",
      "1                              enter                               ENTER\n",
      "2                                esc                                 ESC\n",
      "3              shiftleft, shiftright        SHIFT da esquerda ou direita\n",
      "4                  altleft, altright        ALT da esquerda e da direita\n",
      "5                ctlrleft, ctrlright       CTRL da esquerda e da direita\n",
      "6                                tab                                 TAB\n",
      "7                  backspace, delete                  BACKSPACE e DELETE\n",
      "8                   pageup, pagedown                  PAGE UP, PAGE DOWN\n",
      "9                          home, end                          HOME e END\n",
      "10             up, down, left, right              UP, DOWN, LEFT E RIGHT\n",
      "11                        f1, f2,...                           F1,F2,...\n",
      "12  volumemute, volumedown, volumeup   Aumentar volume, diminuir e mutar\n",
      "13                             pause                               PAUSE\n",
      "14     capslock, numlock, scrolllock   CAPS LOCK, NUM LOCK E SCROLL LOCK\n",
      "15                            insert                              INSERT\n",
      "16                       printscreen                               PRINT\n",
      "17                 winleft, winright  tecla WIN da esquerda e da direita\n"
     ]
    }
   ],
   "source": [
    "import pandas as pd\n",
    "\n",
    "df = pd.DataFrame([['a,b,#,@,!', 'Teclas para caracteres únicos'], ['enter','ENTER'], ['esc','ESC'],['shiftleft, shiftright','SHIFT da esquerda ou direita'], ['altleft, altright', 'ALT da esquerda e da direita'], ['ctlrleft, ctrlright','CTRL da esquerda e da direita'],['tab', 'TAB'], ['backspace, delete','BACKSPACE e DELETE'], ['pageup, pagedown','PAGE UP, PAGE DOWN'], ['home, end', 'HOME e END'], ['up, down, left, right','UP, DOWN, LEFT E RIGHT'], ['f1, f2,...','F1,F2,...'],['volumemute, volumedown, volumeup','Aumentar volume, diminuir e mutar'],['pause','PAUSE'],['capslock, numlock, scrolllock','CAPS LOCK, NUM LOCK E SCROLL LOCK'], ['insert','INSERT'],['printscreen','PRINT'],['winleft, winright','tecla WIN da esquerda e da direita']])\n",
    "print(df)"
   ]
  },
  {
   "attachments": {},
   "cell_type": "markdown",
   "metadata": {},
   "source": [
    "Pressionando e soltando as teclas:\n",
    "\n",
    "Funções mouseDown() e mouseUP() para pressionar e soltar teclas. Recebe as teclas no argumentos"
   ]
  },
  {
   "cell_type": "code",
   "execution_count": 8,
   "metadata": {},
   "outputs": [],
   "source": [
    "import pyautogui\n",
    "import time\n",
    "\n",
    "pyautogui.keyDown('capslock')\n",
    "time.sleep(3)\n",
    "pyautogui.keyDown('capslock')"
   ]
  },
  {
   "attachments": {},
   "cell_type": "markdown",
   "metadata": {},
   "source": [
    "Combinações para atalhos de teclado:\n",
    "\n",
    "Usar a função pyautogui.hotkey(). Recebe como parâmetro as teclas que serão pressionadas em conjunto."
   ]
  },
  {
   "cell_type": "code",
   "execution_count": 9,
   "metadata": {},
   "outputs": [],
   "source": [
    "import  pyautogui\n",
    "\n",
    "pyautogui.hotkey('ctrl','c')"
   ]
  }
 ],
 "metadata": {
  "kernelspec": {
   "display_name": "Python 3",
   "language": "python",
   "name": "python3"
  },
  "language_info": {
   "codemirror_mode": {
    "name": "ipython",
    "version": 3
   },
   "file_extension": ".py",
   "mimetype": "text/x-python",
   "name": "python",
   "nbconvert_exporter": "python",
   "pygments_lexer": "ipython3",
   "version": "3.10.7"
  },
  "orig_nbformat": 4,
  "vscode": {
   "interpreter": {
    "hash": "916dbcbb3f70747c44a77c7bcd40155683ae19c65e1c03b4aa3499c5328201f1"
   }
  }
 },
 "nbformat": 4,
 "nbformat_minor": 2
}
