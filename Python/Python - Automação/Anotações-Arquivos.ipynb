{
 "cells": [
  {
   "attachments": {},
   "cell_type": "markdown",
   "metadata": {},
   "source": [
    "Estas anotações tratam de leitura e escrita em arquivos.\n",
    "\n",
    "Primeiramente, é importante destacar as diferenças entre as escritas entre linux e em windows.\n",
    "\n",
    "Em windows, o caminho dos diretórios é descrito usando \\, enquanto em linux e em macOS, é /. \n",
    "\n",
    "Para resolver este problema de compatibilidade do código entre os sistemas operacionais, usar a biblioteca: os, com a função os.path.join()"
   ]
  },
  {
   "cell_type": "code",
   "execution_count": 74,
   "metadata": {},
   "outputs": [
    {
     "name": "stdout",
     "output_type": "stream",
     "text": [
      " /home/luiz/Documentos/Aprendizado\n"
     ]
    }
   ],
   "source": [
    "import os\n",
    "\n",
    "caminho = os.path.join(' ','home','luiz','Documentos','Aprendizado')\n",
    "print(caminho)"
   ]
  },
  {
   "attachments": {},
   "cell_type": "markdown",
   "metadata": {},
   "source": [
    "Se este mesmo código for executado em windows, a saída será apresentada com \\\\\\\\.\n",
    "\n",
    "Para criar arquivos, usa-se a função os.path.join()"
   ]
  },
  {
   "cell_type": "code",
   "execution_count": 75,
   "metadata": {},
   "outputs": [
    {
     "name": "stdout",
     "output_type": "stream",
     "text": [
      "/home/luiz/Documentos/Aprendizado/Testes.txt\n",
      "/home/luiz/Documentos/Aprendizado/Contas.csv\n"
     ]
    }
   ],
   "source": [
    "import os\n",
    "\n",
    "Arquivos = ['Testes.txt','Contas.csv']\n",
    "for filename in Arquivos:\n",
    "    print(os.path.join('/home/luiz/Documentos/Aprendizado/', filename))"
   ]
  },
  {
   "attachments": {},
   "cell_type": "markdown",
   "metadata": {},
   "source": [
    "Para obter o diretório atual, usa-se ps.getcwd() e para alterá-lo, usar chdir()"
   ]
  },
  {
   "cell_type": "code",
   "execution_count": 76,
   "metadata": {},
   "outputs": [
    {
     "name": "stdout",
     "output_type": "stream",
     "text": [
      "/home/luiz/Documentos/Aprendizado\n",
      "/home/luiz/Documentos/Aprendizado\n"
     ]
    }
   ],
   "source": [
    "import os\n",
    "\n",
    "print(os.getcwd())\n",
    "os.chdir('/home/luiz/Documentos/Aprendizado/')\n",
    "print(os.getcwd())"
   ]
  },
  {
   "attachments": {},
   "cell_type": "markdown",
   "metadata": {},
   "source": [
    "Para criar novos diretórios, usar os.makedirs().\n",
    "\n",
    "Este comando também criará os diretórios intermediários, caso necessário."
   ]
  },
  {
   "cell_type": "code",
   "execution_count": 78,
   "metadata": {},
   "outputs": [],
   "source": [
    "import os\n",
    "\n",
    "os.makedirs('/home/luiz/Documentos/Aprendizado/Teste')"
   ]
  },
  {
   "attachments": {},
   "cell_type": "markdown",
   "metadata": {},
   "source": [
    "Para verificar informações entre paths absolutos e relativos, há as funções:\n",
    "\n",
    "os.path.abspath(): esta função recebe o path relativo no argumento, visando transformá-lo, na saída, como path absoluto.\n",
    "\n",
    "os.path.isabs(): esta função retorna true ou false para confirmar se o path é absoluto.\n",
    "\n",
    "os.path.relpath(): esta função recebe o path relativo e o início, retornando o path relativo ao início para o path."
   ]
  },
  {
   "cell_type": "code",
   "execution_count": null,
   "metadata": {},
   "outputs": [
    {
     "name": "stdout",
     "output_type": "stream",
     "text": [
      "/home/luiz/Documentos/Aprendizado\n",
      "/home/luiz/Documentos/Aprendizado/Aprendizado\n",
      "False\n",
      "True\n"
     ]
    }
   ],
   "source": [
    "import os\n",
    "\n",
    "print(os.path.abspath('.'))\n",
    "print(os.path.abspath('Aprendizado'))\n",
    "print(os.path.isabs('.'))\n",
    "print(os.path.isabs(os.path.abspath('.')))"
   ]
  },
  {
   "attachments": {},
   "cell_type": "markdown",
   "metadata": {},
   "source": [
    "Adicionando, há as funções:\n",
    "\n",
    "os.path.dirname(): esta função retorna uma string contendo tudo que estiver antes da última barra do argumento.\n",
    "\n",
    "os.path.basename(): esta função retorna tudo o que estiver após a última barra do argumento."
   ]
  },
  {
   "cell_type": "code",
   "execution_count": null,
   "metadata": {},
   "outputs": [
    {
     "name": "stdout",
     "output_type": "stream",
     "text": [
      "Depois da barra: \n",
      "Antes da barra: /home/luiz/Documentos/Aprendizado\n"
     ]
    }
   ],
   "source": [
    "import re\n",
    "\n",
    "path = '/home/luiz/Documentos/Aprendizado/'\n",
    "print('Depois da barra: ' + os.path.basename(path))\n",
    "print('Antes da barra: ' + os.path.dirname(path))"
   ]
  },
  {
   "attachments": {},
   "cell_type": "markdown",
   "metadata": {},
   "source": [
    "Dado um path obtido, pode-se obter os elementos que fazem parte do caminho, com a função .split(), com o argumento os.path.sep"
   ]
  },
  {
   "cell_type": "code",
   "execution_count": null,
   "metadata": {},
   "outputs": [
    {
     "name": "stdout",
     "output_type": "stream",
     "text": [
      "['', 'home', 'luiz', 'Documentos', 'Aprendizado', '']\n"
     ]
    }
   ],
   "source": [
    "import os\n",
    "\n",
    "path = '/home/luiz/Documentos/Aprendizado/'\n",
    "print(path.split(os.path.sep))"
   ]
  },
  {
   "attachments": {},
   "cell_type": "markdown",
   "metadata": {},
   "source": [
    "Para obter o tamanho dos arquivos  e o conteúdo das pastas há funções para isto.\n",
    "\n",
    "os.path.getsize(): esta função recebe o path do arquivo a ser analisado e retorna o tamanho em bytes do arquivo.\n",
    "\n",
    "os.listdir(): esta função recebe o path do arquivo e retorna uma lista de strings com nomes dos arquivos."
   ]
  },
  {
   "cell_type": "code",
   "execution_count": null,
   "metadata": {},
   "outputs": [
    {
     "name": "stdout",
     "output_type": "stream",
     "text": [
      "4096\n",
      "['README.md', 'C - Básico', 'Python - POO', 'Python - Básico', 'Python - Automação', 'Teste', 'Planejamento.txt', 'Linux', 'Git - Github', 'Python - Webscraping', 'Python - Bibliotecas Básicas', '.git']\n"
     ]
    }
   ],
   "source": [
    "import os\n",
    "\n",
    "path = '/home/luiz/Documentos/Aprendizado/'\n",
    "print(os.path.getsize(path))\n",
    "print(os.listdir(path))"
   ]
  },
  {
   "attachments": {},
   "cell_type": "markdown",
   "metadata": {},
   "source": [
    "Em paths a serem utilizados, é necessário verificar se o path existe e se é um arquivo ou pasta.\n",
    "\n",
    "os.path.exists(): esta função recebe o path como argumento e retorna true ou false para a existência deste path.\n",
    "\n",
    "os.path.isfile(): esta função recebe o path como argumento e retorna true se o path refere-se a um arquivo.\n",
    "\n",
    "os.path.isdir(): esta função recebe o path como argumento e retorna true se o path refere-se a um diretório."
   ]
  },
  {
   "cell_type": "code",
   "execution_count": null,
   "metadata": {},
   "outputs": [
    {
     "name": "stdout",
     "output_type": "stream",
     "text": [
      "True\n",
      "False\n",
      "True\n"
     ]
    }
   ],
   "source": [
    "import os\n",
    "\n",
    "path = '/home/luiz/Documentos/Aprendizado/'\n",
    "print(os.path.exists(path))\n",
    "print(os.path.isfile(path))\n",
    "print(os.path.isdir(path))"
   ]
  },
  {
   "attachments": {},
   "cell_type": "markdown",
   "metadata": {},
   "source": [
    "Escritura e Leitura:\n",
    "\n",
    "Abrindo arquivos com a função open():\n",
    "\n",
    "Esta função retorna um objeto do tipo File.\n",
    "\n",
    "Pode-se incluir, também, argumentos para especificar o tipo de abertura do arquivo, sendo possíveis:\n",
    "\n",
    "'r': Leitura, o arquivo deve existir previamente        \n",
    "'w': Escrita, o arquivo será criado se não existir       \n",
    "'x': Escrita, retornará erro se não existe              \n",
    "'a': Adição, o arquivo será criado se não existir       \n",
    "'b': Modo Binário (bin)                                \n",
    "'t': Modo texto (txt)                   \n",
    "'+': Leitura e Escrita                              \n",
    "'U': Modo universaç de nova linha, trata como \\n"
   ]
  },
  {
   "cell_type": "code",
   "execution_count": null,
   "metadata": {},
   "outputs": [],
   "source": [
    "HelloFile = open('/home/luiz/Documentos/Teste.txt','w')"
   ]
  },
  {
   "attachments": {},
   "cell_type": "markdown",
   "metadata": {},
   "source": [
    "Lendo conteúdo de arquivos:\n",
    "\n",
    "Para ver o conteúdo criado na variável File, há a possibilidade de ler o conteúdo do arquivo.\n",
    "\n",
    "A função .read() mostrará todo o conteúdo do arquivo."
   ]
  },
  {
   "cell_type": "code",
   "execution_count": null,
   "metadata": {},
   "outputs": [
    {
     "data": {
      "text/plain": [
       "''"
      ]
     },
     "execution_count": 54,
     "metadata": {},
     "output_type": "execute_result"
    }
   ],
   "source": [
    "HelloFile = open('/home/luiz/Documentos/Teste.txt','r')\n",
    "HelloFile.read()"
   ]
  },
  {
   "attachments": {},
   "cell_type": "markdown",
   "metadata": {},
   "source": [
    "Como alternativa, há a opção da função readlines() que exibirá o coneteúdo de cada linha por vez."
   ]
  },
  {
   "cell_type": "code",
   "execution_count": null,
   "metadata": {},
   "outputs": [
    {
     "data": {
      "text/plain": [
       "[]"
      ]
     },
     "execution_count": 55,
     "metadata": {},
     "output_type": "execute_result"
    }
   ],
   "source": [
    "HelloFile = open('/home/luiz/Documentos/Teste.txt')\n",
    "HelloFile.readlines()"
   ]
  },
  {
   "attachments": {},
   "cell_type": "markdown",
   "metadata": {},
   "source": [
    "Escrevendo em arquivos:\n",
    "\n",
    "A escrita em arquivos envolve a adição do parâmetro 'w' ou 'a'. A escrita com o parâmetro 'w' sobreescreverá o arquivo aberto, enquanto o parâmetro 'a' adicionará ao arquivo."
   ]
  },
  {
   "cell_type": "code",
   "execution_count": null,
   "metadata": {},
   "outputs": [
    {
     "name": "stdout",
     "output_type": "stream",
     "text": [
      "Linha2\n",
      "\n"
     ]
    }
   ],
   "source": [
    "Teste2 = open('/home/luiz/Documentos/Teste2.txt','w')\n",
    "Teste2.write('Linha1\\n')\n",
    "Teste2.close()\n",
    "\n",
    "Teste2 = open('Teste2.txt', 'a')\n",
    "Teste2.write('Linha2\\n')\n",
    "Teste2.close()\n",
    "\n",
    "Teste2 = open('Teste2.txt')\n",
    "Conteudo = Teste2.read()\n",
    "Teste2.close()\n",
    "\n",
    "print(Conteudo)\n"
   ]
  },
  {
   "attachments": {},
   "cell_type": "markdown",
   "metadata": {},
   "source": [
    "Salvando variáveis com o módulo shelve:\n",
    "\n",
    "O módulo shelve permite salvar as variáveis criadas para uso posterior. Este módulo usa de funções como save e open."
   ]
  },
  {
   "cell_type": "code",
   "execution_count": null,
   "metadata": {},
   "outputs": [
    {
     "name": "stdout",
     "output_type": "stream",
     "text": [
      "['Zophie', 'Pooka', 'Simon']\n"
     ]
    }
   ],
   "source": [
    "import shelve\n",
    "\n",
    "shelFile = shelve.open('mydata')\n",
    "cats = ['Zophie','Pooka','Simon']\n",
    "shelFile['cats'] = cats\n",
    "shelFile.close()\n",
    "\n",
    "shelFile = shelve.open('mydata')\n",
    "print(shelFile['cats'])\n",
    "shelFile.close()"
   ]
  },
  {
   "attachments": {},
   "cell_type": "markdown",
   "metadata": {},
   "source": [
    "As variáveis salvas possuem também keys() e values() que podem ser utilizadas para acesso."
   ]
  },
  {
   "cell_type": "code",
   "execution_count": null,
   "metadata": {},
   "outputs": [
    {
     "name": "stdout",
     "output_type": "stream",
     "text": [
      "['cats']\n",
      "[['Zophie', 'Pooka', 'Simon']]\n"
     ]
    }
   ],
   "source": [
    "import shelve\n",
    "\n",
    "shelFile = shelve.open('mydata')\n",
    "print(list(shelFile.keys()))\n",
    "print(list(shelFile.values()))\n",
    "shelFile.close()"
   ]
  },
  {
   "attachments": {},
   "cell_type": "markdown",
   "metadata": {},
   "source": [
    "Salvando variáveis com a função pprint.pformat()\n",
    "\n",
    "A função pprint.format() pode ser usado para gravar uma string para uso futuro."
   ]
  },
  {
   "cell_type": "code",
   "execution_count": 79,
   "metadata": {},
   "outputs": [],
   "source": [
    "import pprint\n",
    "\n",
    "cats = [{'name':'Zophie','desc':'chubby'},{'name':'Pooka','desc':'fluffy'}]\n",
    "pprint.pformat(cats)\n",
    "fileobj = open('mycats.py','w')\n",
    "fileobj.write('cats=' + pprint.pformat(cats) + '\\n' )\n",
    "fileobj.close()"
   ]
  },
  {
   "attachments": {},
   "cell_type": "markdown",
   "metadata": {},
   "source": [
    "No caso acima, a variável cats foi armazena em um arquivo.py e poderá ser importada a qualquer momento"
   ]
  },
  {
   "cell_type": "code",
   "execution_count": 81,
   "metadata": {},
   "outputs": [
    {
     "name": "stdout",
     "output_type": "stream",
     "text": [
      "[{'desc': 'chubby', 'name': 'Zophie'}, {'desc': 'fluffy', 'name': 'Pooka'}]\n"
     ]
    }
   ],
   "source": [
    "import mycats\n",
    "\n",
    "print(mycats.cats)"
   ]
  },
  {
   "attachments": {},
   "cell_type": "markdown",
   "metadata": {},
   "source": [
    "Organizando Arquivos:\n",
    "\n",
    "Para a organização de arquivos, utiliza-se o módulo shutil, que permite copiar, mover, renomear e apagar arquivos."
   ]
  },
  {
   "attachments": {},
   "cell_type": "markdown",
   "metadata": {},
   "source": [
    "Copiando arquivos e pastas:\n",
    "\n",
    "A função sh.copy recebe os parâmetros path de origem e de destino, se o destino for nome de arquivo, este será o nome da cópia feita."
   ]
  },
  {
   "cell_type": "code",
   "execution_count": 83,
   "metadata": {},
   "outputs": [
    {
     "data": {
      "text/plain": [
       "'/home/luiz/Documentos/Planejamento.txt'"
      ]
     },
     "execution_count": 83,
     "metadata": {},
     "output_type": "execute_result"
    }
   ],
   "source": [
    "import shutil as sh, os\n",
    "\n",
    "os.chdir('/home/luiz/Documentos/')\n",
    "sh.copy('/home/luiz/Documentos/Aprendizado/Planejamento.txt', '/home/luiz/Documentos/')"
   ]
  },
  {
   "attachments": {},
   "cell_type": "markdown",
   "metadata": {},
   "source": [
    "Para copiar uma pasta completa, utiliza-se a função sh.copytree, que recebe os mesmos parâmetros da função sh.copy.\n",
    "\n",
    "O path de destino deve incluir o nome do novo diretório copiado"
   ]
  },
  {
   "cell_type": "code",
   "execution_count": 89,
   "metadata": {},
   "outputs": [
    {
     "data": {
      "text/plain": [
       "'/home/luiz/Documentos/Teste2'"
      ]
     },
     "execution_count": 89,
     "metadata": {},
     "output_type": "execute_result"
    }
   ],
   "source": [
    "import shutil as sh, os\n",
    "\n",
    "os.chdir('/home/luiz/Documentos/Códigos')\n",
    "sh.copytree('/home/luiz/Documentos/Aprendizado/Teste/','/home/luiz/Documentos/Teste2')"
   ]
  },
  {
   "attachments": {},
   "cell_type": "markdown",
   "metadata": {},
   "source": [
    "Movendo e renomeando arquivos e pastas:\n",
    "\n",
    "sh.move moveará o arquivo ou pasta de local e recebe os mesmos parâmetros anteriores. \n",
    "\n",
    "Caso haja pasta ou arquivo existente com o mesmo nome, então sh.move sobreescreverá"
   ]
  },
  {
   "cell_type": "code",
   "execution_count": 90,
   "metadata": {},
   "outputs": [
    {
     "data": {
      "text/plain": [
       "'/home/luiz/Documentos/Teste'"
      ]
     },
     "execution_count": 90,
     "metadata": {},
     "output_type": "execute_result"
    }
   ],
   "source": [
    "import shutil as sh\n",
    "\n",
    "sh.move('/home/luiz/Documentos/Aprendizado/Teste/','/home/luiz/Documentos/')"
   ]
  },
  {
   "attachments": {},
   "cell_type": "markdown",
   "metadata": {},
   "source": [
    "Apagando arquivos e pastas:\n",
    "\n",
    "As funções os.unlink e os.rmdir, os.rmtree apagarão arquivos e pastas vazias e pastas nãp vazias, respectivamente."
   ]
  },
  {
   "attachments": {},
   "cell_type": "markdown",
   "metadata": {},
   "source": [
    "Apagando arquivos com seguranças usando send2trash:\n",
    "\n",
    "Neste caso, as pastar e arquivos excluídos serão enviados para a lixeira e, caso haja erro no código, os arquivos e pastas podem ser recuperados."
   ]
  },
  {
   "cell_type": "code",
   "execution_count": 91,
   "metadata": {},
   "outputs": [],
   "source": [
    "import send2trash as st, os\n",
    "\n",
    "os.chdir('/home/luiz/Documentos/')\n",
    "st.send2trash('Teste')"
   ]
  },
  {
   "attachments": {},
   "cell_type": "markdown",
   "metadata": {},
   "source": [
    "Percorrendo árvore de diretório:\n",
    "\n",
    "A função os.walk poderá percorrer pastas e subpastas de um diretório, e, com isso, aplicar outras funções desejadas."
   ]
  },
  {
   "cell_type": "code",
   "execution_count": null,
   "metadata": {},
   "outputs": [],
   "source": [
    "import os\n",
    "\n",
    "for folderName, subfolders, filenames in os.walk('/home/luiz/Documentos/Aprendizado/'):\n",
    "    print('Folder atual: ' + folderName)\n",
    "    for subfolder in subfolders:\n",
    "        print('subfolder de ' + folderName + ':' + subfolder)\n",
    "        for filename in filenames:\n",
    "            print('arquivo dentro de ' + folderName + ':' + filename)"
   ]
  },
  {
   "attachments": {},
   "cell_type": "markdown",
   "metadata": {},
   "source": [
    "Compactando arquivos com módulo zipfile:\n",
    "\n",
    "Manusear arquivos ZIP exige a utilização do módulo zipfile.\n",
    "\n",
    "Criando arquivos ZIP:\n",
    "\n",
    "A função usada para abrir arquivos ZIP é zipfile.ZipFile('example.zip).\n",
    "\n",
    "Esta função pode receber o método getinfo que contem:\n",
    "\n",
    ".namelist(): retorna todos arquivos e pastas no ZIP     \n",
    ".file_size: retorna o tamanho original do arquivo\n",
    ".compress_size: retorna tamanho do arquivo comprimido"
   ]
  },
  {
   "cell_type": "code",
   "execution_count": null,
   "metadata": {},
   "outputs": [],
   "source": [
    "import zipfile, os\n",
    "\n",
    "exampleZip = zipfile.ZipFile('example.zip')\n",
    "exampleZip.namelist()\n",
    "Infos = exampleZip.getinfo('Teste.txt')\n",
    "Infos.file_size\n",
    "Infos.compress_size\n",
    "exampleZip.close()"
   ]
  },
  {
   "attachments": {},
   "cell_type": "markdown",
   "metadata": {},
   "source": [
    "Extraindo itens de arquivos ZIP:\n",
    "\n",
    "A função zipfile.extractall() extrai todos os arquivos e pastas para o diretório atual.\n",
    "\n",
    "Se o nome de um arquivo for passado no parâmetro de zipfile.extractall(), somente este arquivo será extraido"
   ]
  },
  {
   "cell_type": "code",
   "execution_count": null,
   "metadata": {},
   "outputs": [],
   "source": [
    "import zipfile, os\n",
    "\n",
    "os.chdir('/home/luiz/Documentos/')\n",
    "exampleZip = zipfile.ZipFile('example.zip')\n",
    "exampleZip.extractall()\n",
    "exampleZip.close()"
   ]
  },
  {
   "attachments": {},
   "cell_type": "markdown",
   "metadata": {},
   "source": [
    "Criando arquivos ZIP e adicionando itens:\n",
    "\n",
    "Para criar arquivos ZIP, deve-se abrir objeto ZipFile com o modo de escrita 'w'.\n",
    "\n",
    "A função que adicionará arquivos ao ZIP é .write() com o nome dos arquivos a serem adicionados no parâmetro e o tipo de compactação. O tipo recomendado é o zipfile.ZIP_DEFLATED, que funciona bem para todos os tipos de dados."
   ]
  },
  {
   "cell_type": "code",
   "execution_count": null,
   "metadata": {},
   "outputs": [],
   "source": [
    "import zipfile\n",
    "\n",
    "newZIP = zipfile('new.zip','w')\n",
    "newZIP.write('Teste.txt', compress_type=zipfile.ZIP_DEFLATED)\n",
    "newZIP.close()"
   ]
  }
 ],
 "metadata": {
  "kernelspec": {
   "display_name": "Python 3",
   "language": "python",
   "name": "python3"
  },
  "language_info": {
   "codemirror_mode": {
    "name": "ipython",
    "version": 3
   },
   "file_extension": ".py",
   "mimetype": "text/x-python",
   "name": "python",
   "nbconvert_exporter": "python",
   "pygments_lexer": "ipython3",
   "version": "3.10.6"
  },
  "orig_nbformat": 4,
  "vscode": {
   "interpreter": {
    "hash": "916dbcbb3f70747c44a77c7bcd40155683ae19c65e1c03b4aa3499c5328201f1"
   }
  }
 },
 "nbformat": 4,
 "nbformat_minor": 2
}
