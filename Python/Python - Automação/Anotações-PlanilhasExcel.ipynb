{
 "cells": [
  {
   "attachments": {},
   "cell_type": "markdown",
   "metadata": {},
   "source": [
    "Criando uma planilha para exemplo"
   ]
  },
  {
   "cell_type": "code",
   "execution_count": 2,
   "metadata": {},
   "outputs": [],
   "source": [
    "import os, pandas as pd\n",
    "\n",
    "os.chdir('D:\\Documentos\\GitHub\\Aprendizado\\Python - Automação')\n",
    "df = pd.DataFrame([['4/5/2015 1:34:02 PM', 'Apples', 73], ['4/5/2015 3:41:23 AM', 'Cherries', 85], ['4/6/2015 12:46:51 PM', 'Pears', 14], ['4/8/2015 8:59:43 AM', 'Oranges', 52], ['4/10/2015 2:07:00 AM', 'Apples', 152], ['4/10/2015 6:10:37 PM', 'Bananas', 23], ['4/10/2015 2:40:46 AM', 'Strawberries', 98]], columns=['A','B','C'])\n",
    "df.to_excel('example.xlsx', index=False, header=False)"
   ]
  },
  {
   "attachments": {},
   "cell_type": "markdown",
   "metadata": {},
   "source": [
    "Trabalhando com Planilhas Excel:\n",
    "\n",
    "Trabalhar com planilhas excel em python necessita a utilização do módulo OpenPyXl.\n",
    "\n",
    "Abrindo Documentos Excel com OpenPyXL:\n",
    "\n",
    "A abertura de um arquivo .xlsx pode ser feita por: openpyxl.load_workbook()"
   ]
  },
  {
   "cell_type": "code",
   "execution_count": 3,
   "metadata": {},
   "outputs": [],
   "source": [
    "import openpyxl\n",
    "\n",
    "wb = openpyxl.load_workbook('example.xlsx')"
   ]
  },
  {
   "attachments": {},
   "cell_type": "markdown",
   "metadata": {},
   "source": [
    "Obtendo as planilhas do workbook:\n",
    "\n",
    "Para observar todas as planilhas dentro do workbook, há a função sheetnames()."
   ]
  },
  {
   "cell_type": "code",
   "execution_count": 4,
   "metadata": {},
   "outputs": [
    {
     "name": "stdout",
     "output_type": "stream",
     "text": [
      "['Sheet1']\n"
     ]
    }
   ],
   "source": [
    "import openpyxl\n",
    "\n",
    "wb = openpyxl.load_workbook('example.xlsx')\n",
    "print(wb.sheetnames)"
   ]
  },
  {
   "attachments": {},
   "cell_type": "markdown",
   "metadata": {},
   "source": [
    "No caso acima, há apenas uma planilha.\n",
    "\n",
    "Para acessar outra planilhas, caso existam, basta utilizar o nome da planilha como indexador a posição da variável criada. Exemplo: wb['Sheet1']\n",
    "\n",
    "E, para acessar a planilha ativa, usar: active()"
   ]
  },
  {
   "cell_type": "code",
   "execution_count": 5,
   "metadata": {},
   "outputs": [
    {
     "name": "stdout",
     "output_type": "stream",
     "text": [
      "['Sheet1']\n"
     ]
    }
   ],
   "source": [
    "import openpyxl\n",
    "\n",
    "wb = openpyxl.load_workbook('example.xlsx')\n",
    "print(wb.sheetnames)\n",
    "sheet = wb['Sheet1']\n",
    "anotherSheet = wb.active"
   ]
  },
  {
   "attachments": {},
   "cell_type": "markdown",
   "metadata": {},
   "source": [
    "Obtendo as células das planilhas:\n",
    "\n",
    "O acesso da célula de uma planilha é feito da mesma forma que o acesso da planilha."
   ]
  },
  {
   "cell_type": "code",
   "execution_count": 6,
   "metadata": {},
   "outputs": [
    {
     "name": "stdout",
     "output_type": "stream",
     "text": [
      "O valor da Célula A1 é: 4/5/2015 1:34:02 PM\n"
     ]
    }
   ],
   "source": [
    "import openpyxl\n",
    "\n",
    "wb = openpyxl.load_workbook('example.xlsx')\n",
    "Sheet = wb['Sheet1']\n",
    "CellA1 = Sheet['A1']\n",
    "print('O valor da Célula A1 é: ' + CellA1.value)"
   ]
  },
  {
   "attachments": {},
   "cell_type": "markdown",
   "metadata": {},
   "source": [
    "Células tem propriedades de valores (value), linha (row), coluna (column) e coordenadas (coordinate)."
   ]
  },
  {
   "cell_type": "code",
   "execution_count": 17,
   "metadata": {},
   "outputs": [
    {
     "name": "stdout",
     "output_type": "stream",
     "text": [
      "O conteúdo da célula A1 é: 4/5/2015 1:34:02 PM. A linha é: 1. A coluna é: 1. A coordenada é: A1\n"
     ]
    }
   ],
   "source": [
    "import openpyxl\n",
    "\n",
    "wb = openpyxl.load_workbook('example.xlsx')\n",
    "sheet = wb['Sheet1']\n",
    "cell = sheet['A1']\n",
    "print('O conteúdo da célula A1 é: ' + cell.value + '. A linha é: ' + str(cell.row) + '. A coluna é: ' + str(cell.column) + '. A coordenada é: ' + cell.coordinate)"
   ]
  },
  {
   "attachments": {},
   "cell_type": "markdown",
   "metadata": {},
   "source": [
    "Outra alternativa para obter células específicas pe utilizar a função cell(), que recebe os valores para linha e coluna."
   ]
  },
  {
   "cell_type": "code",
   "execution_count": 22,
   "metadata": {},
   "outputs": [
    {
     "name": "stdout",
     "output_type": "stream",
     "text": [
      "1 Apples\n",
      "3 Pears\n",
      "5 Apples\n",
      "7 Strawberries\n"
     ]
    }
   ],
   "source": [
    "import openpyxl\n",
    "\n",
    "wb = openpyxl.load_workbook('example.xlsx')\n",
    "sheet = wb['Sheet1']\n",
    "sheet.cell(row = 2, column= 3)\n",
    "\n",
    "for i in range(1, 8, 2):\n",
    "    print(i, sheet.cell(row = i, column=2).value)"
   ]
  },
  {
   "attachments": {},
   "cell_type": "markdown",
   "metadata": {},
   "source": [
    "Para obter o tamanho da planilha, pode-se usar as funções: max_row e max_column."
   ]
  },
  {
   "cell_type": "code",
   "execution_count": 25,
   "metadata": {},
   "outputs": [
    {
     "name": "stdout",
     "output_type": "stream",
     "text": [
      "7\n",
      "3\n"
     ]
    }
   ],
   "source": [
    "import  openpyxl\n",
    "\n",
    "wb = openpyxl.load_workbook('example.xlsx')\n",
    "sheet = wb['Sheet1']\n",
    "print(sheet.max_row)\n",
    "print(sheet.max_column)"
   ]
  },
  {
   "attachments": {},
   "cell_type": "markdown",
   "metadata": {},
   "source": [
    "Convertendo letras e números das colunas:\n",
    "\n",
    "A função que fará a conversão entre letra para número é a:      \n",
    "openpyxl.utils.cell.column_index_from_string()\n",
    "\n",
    "O oposto é feito por: openpyxl.utils.cell.get_column_letter()"
   ]
  },
  {
   "cell_type": "code",
   "execution_count": 32,
   "metadata": {},
   "outputs": [
    {
     "name": "stdout",
     "output_type": "stream",
     "text": [
      "729\n",
      "AJ\n"
     ]
    }
   ],
   "source": [
    "import openpyxl\n",
    "\n",
    "numero = openpyxl.utils.cell.column_index_from_string('ABA')\n",
    "print(numero)\n",
    "letra = openpyxl.utils.cell.get_column_letter(36)\n",
    "print(letra)"
   ]
  },
  {
   "attachments": {},
   "cell_type": "markdown",
   "metadata": {},
   "source": [
    "Obtendo linhas e colunas das planilhas:\n",
    "\n",
    "A obtenção de partes da planilha, slicing, é feita por um loop."
   ]
  },
  {
   "cell_type": "code",
   "execution_count": 33,
   "metadata": {},
   "outputs": [
    {
     "name": "stdout",
     "output_type": "stream",
     "text": [
      "A1 4/5/2015 1:34:02 PM\n",
      "B1 Apples\n",
      "C1 73\n",
      "End of row\n",
      "A2 4/5/2015 3:41:23 AM\n",
      "B2 Cherries\n",
      "C2 85\n",
      "End of row\n",
      "A3 4/6/2015 12:46:51 PM\n",
      "B3 Pears\n",
      "C3 14\n",
      "End of row\n"
     ]
    }
   ],
   "source": [
    "import openpyxl\n",
    "\n",
    "wb = openpyxl.load_workbook('example.xlsx')\n",
    "sheet = wb['Sheet1']\n",
    "for row in sheet['A1':'C3']:\n",
    "    for cell in row:\n",
    "        print(cell.coordinate, cell.value)\n",
    "    print('End of row')"
   ]
  },
  {
   "cell_type": "code",
   "execution_count": 51,
   "metadata": {},
   "outputs": [
    {
     "name": "stdout",
     "output_type": "stream",
     "text": [
      "Apples\n",
      "Cherries\n",
      "Pears\n",
      "Oranges\n",
      "Apples\n",
      "Bananas\n",
      "Strawberries\n"
     ]
    }
   ],
   "source": [
    "import openpyxl\n",
    "\n",
    "wb = openpyxl.load_workbook('example.xlsx')\n",
    "sheet = wb['Sheet1']\n",
    "for i in range(1, sheet.max_row + 1):\n",
    "    print(sheet.cell(row = i, column=2).value)"
   ]
  },
  {
   "attachments": {},
   "cell_type": "markdown",
   "metadata": {},
   "source": [
    "Criando e salvando documentos Excel:\n",
    "\n",
    "Para criar um workbook, utiliza-se openpyxl.Workbook() e, para mudar o nome da planilha, com sheet.title"
   ]
  },
  {
   "cell_type": "code",
   "execution_count": 57,
   "metadata": {},
   "outputs": [
    {
     "name": "stdout",
     "output_type": "stream",
     "text": [
      "['Sheet']\n",
      "['Planilha 1']\n"
     ]
    }
   ],
   "source": [
    "import openpyxl\n",
    "\n",
    "wb = openpyxl.Workbook()\n",
    "print(wb.sheetnames)\n",
    "sheet = wb.active\n",
    "sheet.title = 'Planilha 1'\n",
    "print(wb.sheetnames)\n",
    "wb.save('example1.xlsx')"
   ]
  },
  {
   "attachments": {},
   "cell_type": "markdown",
   "metadata": {},
   "source": [
    "Criando e removendo planilhas:\n",
    "\n",
    "As planilhas podem ser acrescentadas e removidas de um workbook com os métodos create_sheet() e remove()."
   ]
  },
  {
   "cell_type": "code",
   "execution_count": 13,
   "metadata": {},
   "outputs": [
    {
     "name": "stdout",
     "output_type": "stream",
     "text": [
      "['Sheet']\n",
      "['Sheet', 'Sheet1']\n",
      "['First Sheet', 'Sheet', 'Sheet1']\n",
      "['First Sheet', 'Sheet', 'Middle Sheet', 'Sheet1']\n",
      "['First Sheet', 'Sheet', 'Sheet1']\n"
     ]
    }
   ],
   "source": [
    "import openpyxl\n",
    "\n",
    "wb = openpyxl.Workbook()\n",
    "print(wb.sheetnames)\n",
    "wb.create_sheet()\n",
    "print(wb.sheetnames)\n",
    "wb.create_sheet(index= 0, title= 'First Sheet')\n",
    "print(wb.sheetnames)\n",
    "wb.create_sheet(index= 2, title= 'Middle Sheet')\n",
    "print(wb.sheetnames)\n",
    "wb.remove(wb['Middle Sheet'])\n",
    "print(wb.sheetnames)"
   ]
  },
  {
   "attachments": {},
   "cell_type": "markdown",
   "metadata": {},
   "source": [
    "Através do index, pode-se selecionar a posição que a planilha ocupará"
   ]
  },
  {
   "attachments": {},
   "cell_type": "markdown",
   "metadata": {},
   "source": [
    "Escrevendo valores em células:\n",
    "\n",
    "Escrever valores em células é semelhante a escrever valores para as chaves de dicionário"
   ]
  },
  {
   "cell_type": "code",
   "execution_count": 15,
   "metadata": {},
   "outputs": [
    {
     "data": {
      "text/plain": [
       "'Hello World'"
      ]
     },
     "execution_count": 15,
     "metadata": {},
     "output_type": "execute_result"
    }
   ],
   "source": [
    "import openpyxl\n",
    "\n",
    "wb = openpyxl.Workbook()\n",
    "sheet = wb['Sheet']\n",
    "sheet['A1'] = 'Hello World'\n",
    "sheet['A1'].value"
   ]
  },
  {
   "attachments": {},
   "cell_type": "markdown",
   "metadata": {},
   "source": [
    "Definindo o estilo de fonte das células:\n",
    "\n",
    "A personalização dos estilos das fontes nas células, utiliza-se Font() e NamedStyle() do módulo openpyxl.styles"
   ]
  },
  {
   "cell_type": "code",
   "execution_count": 21,
   "metadata": {},
   "outputs": [],
   "source": [
    "import openpyxl\n",
    "from openpyxl.styles import Font, NamedStyle\n",
    "\n",
    "wb = openpyxl.Workbook()\n",
    "sheet = wb['Sheet']\n",
    "italic24Font = Font(size=24, italic=True)\n",
    "italic24Style = NamedStyle(name='italic_24')\n",
    "italic24Style.font = italic24Font\n",
    "sheet['A1'].value = 'Hello World'\n",
    "sheet['A1'].style = italic24Style\n",
    "wb.save('example1.xlsx')\n"
   ]
  },
  {
   "attachments": {},
   "cell_type": "markdown",
   "metadata": {},
   "source": [
    "Objetos Font:\n",
    "\n",
    "Alteram como o texto é exibido nas células"
   ]
  },
  {
   "cell_type": "code",
   "execution_count": 24,
   "metadata": {},
   "outputs": [
    {
     "name": "stdout",
     "output_type": "stream",
     "text": [
      "  Argumento Tipo de Dado                    Descrição\n",
      "0      name       String  Nome da Fonte, como Calibri\n",
      "1      size      Integer            Tamanho em Pontos\n",
      "2      bold      Boolean            True para negrito\n",
      "3    italic      Boolean            True para itálico\n"
     ]
    }
   ],
   "source": [
    "import pandas as pd\n",
    "\n",
    "df = pd.DataFrame([['name','String','Nome da Fonte, como Calibri'],['size','Integer','Tamanho em Pontos'],['bold','Boolean','True para negrito'],['italic', 'Boolean', 'True para itálico']], columns= ['Argumento','Tipo de Dado', 'Descrição'])\n",
    "print(df)"
   ]
  },
  {
   "cell_type": "code",
   "execution_count": 30,
   "metadata": {},
   "outputs": [],
   "source": [
    "import openpyxl\n",
    "from openpyxl.styles import Font, NamedStyle\n",
    "\n",
    "wb = openpyxl.Workbook()\n",
    "sheet = wb['Sheet']\n",
    "\n",
    "Font1 = Font(name = 'Times New Roman', bold= True)\n",
    "Style1 = NamedStyle(name= 'Font1')\n",
    "Style1.font = Font1\n",
    "sheet['A1'].style = Style1\n",
    "sheet['A1'].value = 'Bold Times New Roman'\n",
    "\n",
    "Font2 = Font(size= 24, italic= True)\n",
    "Style2 = NamedStyle(name= 'Font2')\n",
    "Style2.font = Font2\n",
    "sheet['B3'].style = Style2\n",
    "sheet['B3'].value = '24 pt Italic'\n",
    "\n",
    "wb.save('style.xlsx')"
   ]
  },
  {
   "attachments": {},
   "cell_type": "markdown",
   "metadata": {},
   "source": [
    "Fórmulas:\n",
    "\n",
    "Para adicionar fórmulas ao excel, basta armazenar a escrita da fórmula na célula desejada."
   ]
  },
  {
   "cell_type": "code",
   "execution_count": 32,
   "metadata": {},
   "outputs": [],
   "source": [
    "import openpyxl\n",
    "\n",
    "wb = openpyxl.Workbook()\n",
    "sheet = wb['Sheet']\n",
    "sheet['A1'] = 200\n",
    "sheet['A2'] = 300\n",
    "sheet['A3'] = '=sum(A1:A2)'\n",
    "wb.save('example1.xlsx')"
   ]
  },
  {
   "attachments": {},
   "cell_type": "markdown",
   "metadata": {},
   "source": [
    "Ajustando linhas e colunas:\n",
    "\n",
    "Definindo altura da linha e largura da coluna:\n",
    "\n",
    "Os objetos Worksheet tem atributos row_dimensions e column_dimensions para ajustar tamanhos.\n",
    "\n",
    "A altura da linha pode ser definida entre 0 a 409 e largura entre 0 e 255"
   ]
  },
  {
   "cell_type": "code",
   "execution_count": 37,
   "metadata": {},
   "outputs": [],
   "source": [
    "import openpyxl\n",
    "\n",
    "wb = openpyxl.Workbook()\n",
    "sheet = wb.active\n",
    "sheet['A1'] = 'Tall row'\n",
    "sheet['B2'] = 'Wide column'\n",
    "sheet.row_dimensions[1].height = 70\n",
    "sheet.column_dimensions['B'].width = 20\n",
    "wb.save('example1.xlsx')"
   ]
  },
  {
   "attachments": {},
   "cell_type": "markdown",
   "metadata": {},
   "source": [
    "Mesclar e separar células:\n",
    "\n",
    "Para mesclar células, usa-se merge_cells() e para separar, umerge_cells()."
   ]
  },
  {
   "cell_type": "code",
   "execution_count": 38,
   "metadata": {},
   "outputs": [],
   "source": [
    "import openpyxl\n",
    "\n",
    "wb = openpyxl.Workbook()\n",
    "sheet = wb['Sheet']\n",
    "sheet.merge_cells('A1:D3')\n",
    "sheet['A1'] = 'Twelve cells merged together'\n",
    "sheet.merge_cells('C5:D5')\n",
    "sheet['C5'] = 'Two merged cells'\n",
    "wb.save('example1.xlsx')"
   ]
  },
  {
   "attachments": {},
   "cell_type": "markdown",
   "metadata": {},
   "source": [
    "Painéis congelados:\n",
    "\n",
    "Consiste em manter linhas ou colunas sempre visíveis, independete da rolagem.\n",
    "\n",
    "Para isto, usar freeze_panes com um dos argumentos abaixo:"
   ]
  },
  {
   "cell_type": "code",
   "execution_count": 42,
   "metadata": {},
   "outputs": [
    {
     "name": "stdout",
     "output_type": "stream",
     "text": [
      "                        Configuração de freeze_panes  \\\n",
      "0                            sheet.freeze_panes = A2   \n",
      "1                            sheet.freeze_panes = B1   \n",
      "2                            sheet.freeze_panes = C1   \n",
      "3                            sheet.freeze_panes = C2   \n",
      "4  sheet.freeze_panes = A1 ou sheet_freeze_panes ...   \n",
      "\n",
      "  Linhas e colunas congeladas  \n",
      "0                     Linha 1  \n",
      "1                    Coluna A  \n",
      "2               Colunas A e B  \n",
      "3     Linha 1 e colunas A e B  \n",
      "4            Sem congelamento  \n"
     ]
    }
   ],
   "source": [
    "import pandas as pd\n",
    "\n",
    "df = pd.DataFrame([['sheet.freeze_panes = A2', 'Linha 1'],['sheet.freeze_panes = B1', 'Coluna A'],['sheet.freeze_panes = C1', 'Colunas A e B'],['sheet.freeze_panes = C2', 'Linha 1 e colunas A e B'],['sheet.freeze_panes = A1 ou sheet_freeze_panes = None', ' Sem congelamento']], columns=['Configuração de freeze_panes','Linhas e colunas congeladas'])\n",
    "print(df)"
   ]
  },
  {
   "cell_type": "code",
   "execution_count": 44,
   "metadata": {},
   "outputs": [],
   "source": [
    "import openpyxl\n",
    "\n",
    "wb = openpyxl.load_workbook('example1.xlsx')\n",
    "sheet = wb['Sheet']\n",
    "sheet.freeze_panes = 'A2'\n",
    "wb.save('example1.xlsx')"
   ]
  }
 ],
 "metadata": {
  "kernelspec": {
   "display_name": "Python 3",
   "language": "python",
   "name": "python3"
  },
  "language_info": {
   "codemirror_mode": {
    "name": "ipython",
    "version": 3
   },
   "file_extension": ".py",
   "mimetype": "text/x-python",
   "name": "python",
   "nbconvert_exporter": "python",
   "pygments_lexer": "ipython3",
   "version": "3.10.7"
  },
  "orig_nbformat": 4,
  "vscode": {
   "interpreter": {
    "hash": "d69bb41ca5bf41b47524d67d99a6c0efc03ddd1c2dd0933a9c1b5a905b4d9297"
   }
  }
 },
 "nbformat": 4,
 "nbformat_minor": 2
}
