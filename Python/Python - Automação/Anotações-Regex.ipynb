{
 "cells": [
  {
   "attachments": {},
   "cell_type": "markdown",
   "metadata": {},
   "source": [
    "Sistema de Busca: Encontrando padrões de texto sem usar expressões regulares:\n",
    "\n",
    "Para exemplificar: busca de número de telefone\n"
   ]
  },
  {
   "cell_type": "code",
   "execution_count": 78,
   "metadata": {},
   "outputs": [
    {
     "name": "stdout",
     "output_type": "stream",
     "text": [
      "Number is 16 33783213\n"
     ]
    }
   ],
   "source": [
    "def isPhoneNumber(text):\n",
    "    if len(text) != 11:\n",
    "        return False\n",
    "    for i in range(0,1):\n",
    "        if not text[i].isdecimal():\n",
    "            return False \n",
    "    if text[2] != ' ':\n",
    "        return False\n",
    "    for i in range(3, 10):\n",
    "        if not text[i].isdecimal():\n",
    "            return False\n",
    "    return True\n",
    "def IsANumber(message):\n",
    "    for i in range(len(message)):\n",
    "        Number = message[i:i+11]\n",
    "        if isPhoneNumber(Number):\n",
    "            return 'Number is ' + Number\n",
    "    return 'No Number'\n",
    "print(IsANumber('Me liga amanhã, gata, 16 33783213'))"
   ]
  },
  {
   "attachments": {},
   "cell_type": "markdown",
   "metadata": {},
   "source": [
    "O problema deste tipo de busca é a excessiva quantidade de linhas para um padrão limitado.\n",
    "Se o número buscao for um número de celular, haveria 1 dígito a mais e não seria encontrado."
   ]
  },
  {
   "attachments": {},
   "cell_type": "markdown",
   "metadata": {},
   "source": [
    "Sistema de Busca: Encontrando padrões de texto com expressões regulares (regex)\n",
    "\n",
    "Com as regex, pode-se encontrar números de telefones especificando o padrão dos números pelos marcadores.\n",
    "\n",
    "Exemplo: \\d\\d\\d\\d-\\d\\d\\d\\d\n",
    "\n",
    "Com a biblioteca re, o objeto regex é criado pela função re.compiler()"
   ]
  },
  {
   "cell_type": "code",
   "execution_count": 79,
   "metadata": {},
   "outputs": [],
   "source": [
    "import re \n",
    "\n",
    "PhonePattern = re.compile(r\"\\d\\d \\d\\d\\d\\d-\\d\\d\\d\\d\")"
   ]
  },
  {
   "attachments": {},
   "cell_type": "markdown",
   "metadata": {},
   "source": [
    "A biblioteca re fornece, também, o método de busca do objeto regex criado.\n",
    "\n",
    "Para isto, utiliza-se a função search() com a mensagem no parâmetro."
   ]
  },
  {
   "cell_type": "code",
   "execution_count": 80,
   "metadata": {},
   "outputs": [
    {
     "name": "stdout",
     "output_type": "stream",
     "text": [
      "Número encontrado: 16 3378-3213\n"
     ]
    }
   ],
   "source": [
    "Busca = PhonePattern.search('Me liga, gata, 16 3378-3213')\n",
    "print('Número encontrado: ' + Busca.group())"
   ]
  },
  {
   "attachments": {},
   "cell_type": "markdown",
   "metadata": {},
   "source": [
    "O status da busca é obtido com .group().\n",
    "Caso seja encontrado, Busca.group() retornará a string com o número de telefone\n",
    "Caso não seja, será retornado um erro, tal que o \n",
    ".group() retornará none, o qual não será exibido na tela.\n",
    "\n",
    "Exemplo de erro:"
   ]
  },
  {
   "cell_type": "code",
   "execution_count": 81,
   "metadata": {},
   "outputs": [
    {
     "ename": "AttributeError",
     "evalue": "'NoneType' object has no attribute 'group'",
     "output_type": "error",
     "traceback": [
      "\u001b[0;31m---------------------------------------------------------------------------\u001b[0m",
      "\u001b[0;31mAttributeError\u001b[0m                            Traceback (most recent call last)",
      "Cell \u001b[0;32mIn[81], line 2\u001b[0m\n\u001b[1;32m      1\u001b[0m Busca \u001b[39m=\u001b[39m PhonePattern\u001b[39m.\u001b[39msearch(\u001b[39m'\u001b[39m\u001b[39m16 33783213\u001b[39m\u001b[39m'\u001b[39m)\n\u001b[0;32m----> 2\u001b[0m \u001b[39mprint\u001b[39m(\u001b[39m'\u001b[39m\u001b[39mNúmero encontrado \u001b[39m\u001b[39m'\u001b[39m \u001b[39m+\u001b[39m Busca\u001b[39m.\u001b[39;49mgroup())\n",
      "\u001b[0;31mAttributeError\u001b[0m: 'NoneType' object has no attribute 'group'"
     ]
    }
   ],
   "source": [
    "Busca = PhonePattern.search('16 33783213')\n",
    "print('Número encontrado ' + Busca.group())"
   ]
  },
  {
   "attachments": {},
   "cell_type": "markdown",
   "metadata": {},
   "source": [
    "Agrupamento com parênteses:\n",
    "\n",
    "O objeto regex pode ser separado com parênteses."
   ]
  },
  {
   "cell_type": "code",
   "execution_count": null,
   "metadata": {},
   "outputs": [
    {
     "name": "stdout",
     "output_type": "stream",
     "text": [
      "Grupo 0: 16 3378-3213 \n",
      "Grupo 1: 16 \n",
      "Grupo 2: 3378-3213\n"
     ]
    }
   ],
   "source": [
    "PhonePattern = re.compile(r'(\\d\\d) (\\d\\d\\d\\d-\\d\\d\\d\\d)')\n",
    "Busca = PhonePattern.search('16 3378-3213')\n",
    "print('Grupo 0: ' + Busca.group(0), '\\nGrupo 1: ' + Busca.group(1), '\\nGrupo 2: ' + Busca.group(2))"
   ]
  },
  {
   "attachments": {},
   "cell_type": "markdown",
   "metadata": {},
   "source": [
    "A utilização de parâmetro dividirá a saída nos termos do grupo, fazendo com que partes do número seja tomada separadamente.\n",
    "\n",
    "Outra formea de armazenar os sub-grupos:"
   ]
  },
  {
   "cell_type": "code",
   "execution_count": null,
   "metadata": {},
   "outputs": [
    {
     "name": "stdout",
     "output_type": "stream",
     "text": [
      "16 e 3378-3213\n"
     ]
    }
   ],
   "source": [
    "PhonePattern = re.compile(r'(\\d\\d) (\\d\\d\\d\\d-\\d\\d\\d\\d)')\n",
    "Busca = PhonePattern.search('16 3378-3213')\n",
    "DDD, Telefone = Busca.groups()\n",
    "print(DDD + ' e ' + Telefone)"
   ]
  },
  {
   "attachments": {},
   "cell_type": "markdown",
   "metadata": {},
   "source": [
    "Caso os parênteses façam parte do padrão do número, adicionar \\ antes dos parêntes."
   ]
  },
  {
   "attachments": {},
   "cell_type": "markdown",
   "metadata": {},
   "source": [
    "Pipe:\n",
    "\n",
    "Quando há necessidade de pesquisar por mais de uma string, usar o | pipe. Com isto, o search retornará a primeira correspondência."
   ]
  },
  {
   "cell_type": "code",
   "execution_count": null,
   "metadata": {},
   "outputs": [
    {
     "name": "stdout",
     "output_type": "stream",
     "text": [
      "Luiz\n",
      "Gustavo\n"
     ]
    }
   ],
   "source": [
    "import re\n",
    "\n",
    "palavra = re.compile(r'Luiz|Gustavo')\n",
    "teste = palavra.search('Luiz Gustavo')\n",
    "print(teste.group())\n",
    "\n",
    "teste2 = palavra.search('Gustavo|Luiz')\n",
    "print(teste2.group())"
   ]
  },
  {
   "attachments": {},
   "cell_type": "markdown",
   "metadata": {},
   "source": [
    "Pipe pode ser usado para encontrar parte de uma string"
   ]
  },
  {
   "cell_type": "code",
   "execution_count": null,
   "metadata": {},
   "outputs": [
    {
     "name": "stdout",
     "output_type": "stream",
     "text": [
      "Luiz Gustavo\n"
     ]
    }
   ],
   "source": [
    "import re \n",
    "\n",
    "palavra = re.compile(r'Luiz( Gustavo| Vendrasco| Tacin)')\n",
    "teste = palavra.search('Luiz Gustavo Vendrasco Tacin')\n",
    "print(teste.group())"
   ]
  },
  {
   "attachments": {},
   "cell_type": "markdown",
   "metadata": {},
   "source": [
    "Correspondência a zero ou mais:\n",
    "\n",
    "O operador asterisco pode ser usado para criar uma ou mais correspondência a strings"
   ]
  },
  {
   "cell_type": "code",
   "execution_count": null,
   "metadata": {},
   "outputs": [
    {
     "name": "stdout",
     "output_type": "stream",
     "text": [
      "Batman Batwoman Batwowowowowowoman\n"
     ]
    }
   ],
   "source": [
    "import re \n",
    "\n",
    "palavra = re.compile(r'Bat(wo)*man')\n",
    "teste1 = palavra.search('Batman')\n",
    "teste2 = palavra.search('Batwoman')\n",
    "teste3 = palavra.search('Batwowowowowowoman')\n",
    "\n",
    "print(teste1.group(),teste2.group(),teste3.group())"
   ]
  },
  {
   "attachments": {},
   "cell_type": "markdown",
   "metadata": {},
   "source": [
    "Correspondência a um ou mais:\n",
    "\n",
    "Semelhante ao operador * porém o texto entre () tem que aparecer 1 vez. Usa-se o operador +"
   ]
  },
  {
   "cell_type": "code",
   "execution_count": null,
   "metadata": {},
   "outputs": [
    {
     "name": "stdout",
     "output_type": "stream",
     "text": [
      "Testetetete Teste\n"
     ]
    }
   ],
   "source": [
    "import re \n",
    "\n",
    "palavra = re.compile(r'Tes(te)+')\n",
    "teste1 = palavra.search('Testetetete')\n",
    "teste2 = palavra.search('Teste')\n",
    "\n",
    "print(teste1.group(),teste2.group())"
   ]
  },
  {
   "attachments": {},
   "cell_type": "markdown",
   "metadata": {},
   "source": [
    "Correspondência a textos opcionais:\n",
    "\n",
    "O operador ? fará busca por strings com textos presentes ou não"
   ]
  },
  {
   "cell_type": "code",
   "execution_count": null,
   "metadata": {},
   "outputs": [
    {
     "name": "stdout",
     "output_type": "stream",
     "text": [
      "Batman Batwoman\n"
     ]
    }
   ],
   "source": [
    "import re \n",
    "\n",
    "palavra = re.compile(r'Bat(wo)?man')\n",
    "teste1 = palavra.search('Batman')\n",
    "teste2 = palavra.search('Batwoman')\n",
    "print(teste1.group(),teste2.group())"
   ]
  },
  {
   "attachments": {},
   "cell_type": "markdown",
   "metadata": {},
   "source": [
    "Inserir várias repetições:\n",
    "\n",
    "Para adicionar várias repetições, usar {}"
   ]
  },
  {
   "cell_type": "code",
   "execution_count": null,
   "metadata": {},
   "outputs": [
    {
     "name": "stdout",
     "output_type": "stream",
     "text": [
      "HaHaHa\n"
     ]
    }
   ],
   "source": [
    "import re \n",
    "\n",
    "palavra = re.compile(r'(Ha){3}')\n",
    "teste1 = palavra.search('HaHaHa')\n",
    "print(teste1.group())"
   ]
  },
  {
   "attachments": {},
   "cell_type": "markdown",
   "metadata": {},
   "source": [
    "Correspondências greedy e nongreedy:\n",
    "\n",
    "Por padrão, os métodos de pesquisas retornarão a string mais longas.\n",
    "\n",
    "Isto pode ser alterado usando, na sintaxe search, greedy e nongreedy para escolher entre a string mais longa ou mais curta"
   ]
  },
  {
   "cell_type": "code",
   "execution_count": null,
   "metadata": {},
   "outputs": [
    {
     "name": "stdout",
     "output_type": "stream",
     "text": [
      "HaHaHaHaHa HaHaHa\n"
     ]
    }
   ],
   "source": [
    "import re \n",
    "\n",
    "greedyPalavra = re.compile(r'(Ha){3,5}')\n",
    "teste1 = greedyPalavra.search('HaHaHaHaHa')\n",
    "nongreedypalavra = re.compile(r'(Ha){3,5}?')\n",
    "teste2 = nongreedypalavra.search('HaHaHaHaHa')\n",
    "print(teste1.group(), teste2.group())\n"
   ]
  },
  {
   "attachments": {},
   "cell_type": "markdown",
   "metadata": {},
   "source": [
    "Método findall():\n",
    "\n",
    "Método search retornará 1 correspondência, enquanto findall retornará todas"
   ]
  },
  {
   "cell_type": "code",
   "execution_count": null,
   "metadata": {},
   "outputs": [
    {
     "data": {
      "text/plain": [
       "['415-555-9999', '212-555-0000']"
      ]
     },
     "execution_count": 16,
     "metadata": {},
     "output_type": "execute_result"
    }
   ],
   "source": [
    "import re \n",
    "\n",
    "phoneNumRegex = re.compile(r'\\d\\d\\d-\\d\\d\\d-\\d\\d\\d\\d')\n",
    "phoneNumRegex.findall('Cell: 415-555-9999 Work: 212-555-0000')"
   ]
  },
  {
   "attachments": {},
   "cell_type": "markdown",
   "metadata": {},
   "source": [
    "Classes de caracteres:\n",
    "\n",
    "Todas as abreviações possíveis para criar strings de busca"
   ]
  },
  {
   "cell_type": "code",
   "execution_count": null,
   "metadata": {},
   "outputs": [
    {
     "name": "stdout",
     "output_type": "stream",
     "text": [
      "  Regex                                          Descrição\n",
      "0    \\d                           Qualquer dígito de 0 a 9\n",
      "1    \\D  Qualquer caractere que não seja um dígito de 0...\n",
      "2    \\w     Qualquer letra, dígito ou caractere underscore\n",
      "3    \\W  Qualuer caractere que não seja um espaço, tabu...\n",
      "4     s  Qualquer espaço, tabulação ou caractere de que...\n"
     ]
    }
   ],
   "source": [
    "import pandas as pd\n",
    "\n",
    "df = {'\\d':'Qualquer dígito de 0 a 9', '\\D':'Qualquer caractere que não seja um dígito de 0 a 9', '\\w':'Qualquer letra, dígito ou caractere underscore','\\W':'Qualquer caractere que não seja letra, dígito ou caractere underscore','s':'Qualquer espaço, tabulação ou caractere de quebra de linha','\\W':'Qualuer caractere que não seja um espaço, tabulação ou quebra de linha'}\n",
    "df1 = pd.DataFrame(df.items(), columns=['Regex','Descrição'])\n",
    "print(df1)"
   ]
  },
  {
   "cell_type": "code",
   "execution_count": null,
   "metadata": {},
   "outputs": [
    {
     "name": "stdout",
     "output_type": "stream",
     "text": [
      "['12 drummers', '11 pipers', '10 lords', '9 ladies', '8 maids', '7 swans', '6 geese', '5 rings', '4 birds', '3 hens', '2 doves', '1 partridge']\n"
     ]
    }
   ],
   "source": [
    "import re \n",
    "\n",
    "palavra = re.compile(r'\\d+\\s\\w+')\n",
    "teste1 = palavra.findall('12 drummers, 11 pipers, 10 lords, 9 ladies, 8 maids, 7 swans, 6 geese, 5 rings, 4 birds, 3 hens, 2 doves, 1 partridge')\n",
    "print(teste1)"
   ]
  },
  {
   "attachments": {},
   "cell_type": "markdown",
   "metadata": {},
   "source": [
    "No código acima, \\d+ buscará dígitos, seguidos de espaço em branco (\\s), seguidos de caracteres que sejam letra,dígito ou underscore(\\w+)."
   ]
  },
  {
   "attachments": {},
   "cell_type": "markdown",
   "metadata": {},
   "source": [
    "Criando classes de caracteres:\n",
    "\n",
    "Para criar caracteres, deve-se inserir os tipos de caracteres dentro de [].\n",
    "\n",
    "No código abaixo, cria-se uma classe caracteres que incluem vogais minúsculas e maiúsculas."
   ]
  },
  {
   "cell_type": "code",
   "execution_count": null,
   "metadata": {},
   "outputs": [
    {
     "name": "stdout",
     "output_type": "stream",
     "text": [
      "['e', 'E'] ['H', 'a', 'h', 'u', 'a', '3', '8', 'h', 'f', '8', 'e']\n"
     ]
    }
   ],
   "source": [
    "import re\n",
    "\n",
    "classe = re.compile(r'[aeiouAEIOU]')\n",
    "classe1 = re.compile(r'[a-zA-Z0-9]')\n",
    "teste1 = classe.findall('TestE')\n",
    "teste2 = classe1.findall('Hahua38hf8e')\n",
    "print(teste1,teste2)\n"
   ]
  },
  {
   "attachments": {},
   "cell_type": "markdown",
   "metadata": {},
   "source": [
    "Também é possível criar ima classe de caracteres que não são incluídas. Para isto, basta adicionar ^ dentro de []"
   ]
  },
  {
   "cell_type": "code",
   "execution_count": null,
   "metadata": {},
   "outputs": [
    {
     "name": "stdout",
     "output_type": "stream",
     "text": [
      "['T', 's', 't']\n"
     ]
    }
   ],
   "source": [
    "import re \n",
    "\n",
    "palavra = re.compile(r'[^aeiouAEIOU]')\n",
    "teste1 = palavra.findall('TestE')\n",
    "print(teste1)"
   ]
  },
  {
   "attachments": {},
   "cell_type": "markdown",
   "metadata": {},
   "source": [
    "Correspondência no fim ou início:\n",
    "\n",
    "Para indicar correspondência que deve ocorer no início do texto, usar ^.\n",
    "\n",
    "Para indicar correspondência que deve ocorrer no início do texto, usar $."
   ]
  },
  {
   "cell_type": "code",
   "execution_count": null,
   "metadata": {},
   "outputs": [
    {
     "name": "stdout",
     "output_type": "stream",
     "text": [
      "['Hello'] ['42151174']\n"
     ]
    }
   ],
   "source": [
    "import re\n",
    "\n",
    "palavra = re.compile(r'^Hello')\n",
    "palavra2 = re.compile(r'^\\d+$')\n",
    "\n",
    "teste1 = palavra.findall('Hello World')\n",
    "teste2 = palavra2.findall('42151174')\n",
    "\n",
    "print(teste1, teste2)"
   ]
  },
  {
   "attachments": {},
   "cell_type": "markdown",
   "metadata": {},
   "source": [
    "Caractere-curinga\n",
    "\n",
    "O . corresponde a qualquer caractere, com a exceção da quebra de linha"
   ]
  },
  {
   "cell_type": "code",
   "execution_count": null,
   "metadata": {},
   "outputs": [
    {
     "name": "stdout",
     "output_type": "stream",
     "text": [
      "['hat', 'sat', 'cat', 'lat', 'mat']\n"
     ]
    }
   ],
   "source": [
    "import re \n",
    "\n",
    "palavra = re.compile(r'.at')\n",
    "teste = palavra.findall('hat, sat, cat, flat, mat')\n",
    "print(teste)"
   ]
  },
  {
   "attachments": {},
   "cell_type": "markdown",
   "metadata": {},
   "source": [
    "Correspondendo a tudo\n",
    "\n",
    "Quando há necessidade de buscar qualquer texto antes ou depois de outros textos. \n",
    "\n",
    "Este tipo de correspondência pode usar greedy e nongreedy"
   ]
  },
  {
   "cell_type": "code",
   "execution_count": null,
   "metadata": {},
   "outputs": [
    {
     "name": "stdout",
     "output_type": "stream",
     "text": [
      "Nome: Luiz Sobrenome: Tacin\n"
     ]
    }
   ],
   "source": [
    "import re \n",
    "\n",
    "palavra = re.compile(r'Nome: (.*) Sobrenome: (.*)')\n",
    "teste = palavra.search('Nome: Luiz Sobrenome: Tacin')\n",
    "print(teste.group())"
   ]
  },
  {
   "attachments": {},
   "cell_type": "markdown",
   "metadata": {},
   "source": [
    "Correspondendo a quebra de linha com ponto:\n",
    "\n",
    "Para corresponder a quebra de linha, adicionar re.DOTALL como segundo argumento de re.compile()"
   ]
  },
  {
   "cell_type": "code",
   "execution_count": null,
   "metadata": {},
   "outputs": [
    {
     "name": "stdout",
     "output_type": "stream",
     "text": [
      "Teste1\n",
      " Teste2\n",
      " Teste3\n"
     ]
    }
   ],
   "source": [
    "import re \n",
    "\n",
    "palavra = re.compile('.*', re.DOTALL)\n",
    "teste = palavra.search('Teste1\\n Teste2\\n Teste3')\n",
    "print(teste.group())"
   ]
  },
  {
   "attachments": {},
   "cell_type": "markdown",
   "metadata": {},
   "source": [
    "Correspondências sem diferenciar letras maiúsculas e minúsculas:\n",
    "\n",
    "Para fazer este tipo de correspondência, adicionar      \n",
    "re.IGNORECASE ou re.I"
   ]
  },
  {
   "cell_type": "code",
   "execution_count": null,
   "metadata": {},
   "outputs": [
    {
     "name": "stdout",
     "output_type": "stream",
     "text": [
      "tESTe\n"
     ]
    }
   ],
   "source": [
    "import re\n",
    "\n",
    "palavra = re.compile(r'TestE', re.I)\n",
    "teste1 = palavra.search('tESTe')\n",
    "print(teste1.group())\n"
   ]
  },
  {
   "attachments": {},
   "cell_type": "markdown",
   "metadata": {},
   "source": [
    "Substituindo strings com sub():\n",
    "\n",
    "A função sub() recebe a string de substituição e a expressão em que se deve fazer a substituição"
   ]
  },
  {
   "cell_type": "code",
   "execution_count": null,
   "metadata": {},
   "outputs": [
    {
     "name": "stdout",
     "output_type": "stream",
     "text": [
      "UM, dois\n"
     ]
    }
   ],
   "source": [
    "import re \n",
    "\n",
    "palavra = re.compile(r'um')\n",
    "teste1 = palavra.sub('UM', 'um, dois')\n",
    "print(teste1)"
   ]
  },
  {
   "attachments": {},
   "cell_type": "markdown",
   "metadata": {},
   "source": [
    "Para substituir parte do texto, adicionar (w)."
   ]
  },
  {
   "cell_type": "code",
   "execution_count": null,
   "metadata": {},
   "outputs": [
    {
     "data": {
      "text/plain": [
       "'A**** told C**** that E**** knew B**** was a double agent.'"
      ]
     },
     "execution_count": 75,
     "metadata": {},
     "output_type": "execute_result"
    }
   ],
   "source": [
    "import re \n",
    "\n",
    "agentNamesRegex = re.compile(r'Agent (\\w)\\w*')\n",
    "agentNamesRegex.sub(r'\\1****', 'Agent Alice told Agent Carol that Agent Eve knew Agent Bob was a double agent.')"
   ]
  },
  {
   "attachments": {},
   "cell_type": "markdown",
   "metadata": {},
   "source": [
    "Em strings complexas é comveniente ignorar espaços em branco e comentários usando re.VERBOSE dentro de re.compile()."
   ]
  },
  {
   "cell_type": "code",
   "execution_count": null,
   "metadata": {},
   "outputs": [],
   "source": [
    "import re\n",
    "\n",
    "phoneRegex = re.compile(r'''(\n",
    "(\\d{3}|\\(\\d{3}\\))?\n",
    "# código de área\n",
    "(\\s|-|\\.)?\n",
    "# separador\n",
    "\\d{3}\n",
    "# primeiros 3 dígitos\n",
    "(\\s|-|\\.)\n",
    "# separador\n",
    "\\d{4}\n",
    "# últimos 4 dígitos\n",
    "(\\s*(ext|x|ext.)\\s*\\d{2,5})? # extensão\n",
    ")''', re.VERBOSE)"
   ]
  },
  {
   "attachments": {},
   "cell_type": "markdown",
   "metadata": {},
   "source": [
    "Para usar mais de um comando, como re.I, re.DOTALL e re.VERBOSE, usar pipe |"
   ]
  }
 ],
 "metadata": {
  "kernelspec": {
   "display_name": "Python 3",
   "language": "python",
   "name": "python3"
  },
  "language_info": {
   "codemirror_mode": {
    "name": "ipython",
    "version": 3
   },
   "file_extension": ".py",
   "mimetype": "text/x-python",
   "name": "python",
   "nbconvert_exporter": "python",
   "pygments_lexer": "ipython3",
   "version": "3.10.6"
  },
  "orig_nbformat": 4,
  "vscode": {
   "interpreter": {
    "hash": "916dbcbb3f70747c44a77c7bcd40155683ae19c65e1c03b4aa3499c5328201f1"
   }
  }
 },
 "nbformat": 4,
 "nbformat_minor": 2
}
