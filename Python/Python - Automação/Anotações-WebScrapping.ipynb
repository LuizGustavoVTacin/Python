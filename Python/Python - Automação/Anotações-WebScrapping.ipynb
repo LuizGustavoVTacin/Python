{
 "cells": [
  {
   "attachments": {},
   "cell_type": "markdown",
   "metadata": {},
   "source": [
    "WebScrapping refere-se a obtenção de dados de sites."
   ]
  },
  {
   "attachments": {},
   "cell_type": "markdown",
   "metadata": {},
   "source": [
    "Para iniciar o navegador em uma URL específicadam utiliza-se o módulo webbrowser"
   ]
  },
  {
   "cell_type": "code",
   "execution_count": 1,
   "metadata": {},
   "outputs": [
    {
     "data": {
      "text/plain": [
       "True"
      ]
     },
     "execution_count": 1,
     "metadata": {},
     "output_type": "execute_result"
    }
   ],
   "source": [
    "import webbrowser\n",
    "\n",
    "webbrowser.open('google.com')"
   ]
  },
  {
   "attachments": {},
   "cell_type": "markdown",
   "metadata": {},
   "source": [
    "O módulo requests permite fazer downloads de arquivos da web.\n",
    "\n",
    "Para o download de uma página web, a função requests.get() é utilizada com a URL da página no parâmetro."
   ]
  },
  {
   "cell_type": "code",
   "execution_count": 2,
   "metadata": {},
   "outputs": [
    {
     "name": "stdout",
     "output_type": "stream",
     "text": [
      "<class 'requests.models.Response'>\n",
      "178978\n",
      "The Project Gutenberg EBook of Romeo and Juliet, by William Shakespeare\n",
      "\n",
      "This eBook is for the use of anyone anywhere at no cost and with\n",
      "almost no restrictions whatsoever.  You may copy it, give it away or\n",
      "re-use it under the terms of the Projec\n"
     ]
    }
   ],
   "source": [
    "import requests\n",
    "\n",
    "res = requests.get('https://automatetheboringstuff.com/files/rj.txt')\n",
    "print(type(res))\n",
    "res.status_code == requests.codes.ok\n",
    "print(len(res.text))\n",
    "print(res.text[:250])\n"
   ]
  },
  {
   "attachments": {},
   "cell_type": "markdown",
   "metadata": {},
   "source": [
    "A verificação da solicitação de download foi verificada com o atributo status_code. Se a saída para o status for True, então tudo foi bem sucessido."
   ]
  },
  {
   "attachments": {},
   "cell_type": "markdown",
   "metadata": {},
   "source": [
    "Verificando se houve erros:\n",
    "\n",
    "O primeiro método de verificação foi apresentado acima e é o atributo status_code.\n",
    "\n",
    "Outro método é utilizar o .raise_for_status(). Este método retornará uma exceção se o download falhar e não fará nada se ocorrer normalmente."
   ]
  },
  {
   "cell_type": "code",
   "execution_count": 4,
   "metadata": {},
   "outputs": [
    {
     "name": "stdout",
     "output_type": "stream",
     "text": [
      "Houve um erro: 404 Client Error: Not Found for url: http://inventwithpython.com/page_that_does_not_exist\n"
     ]
    }
   ],
   "source": [
    "import requests\n",
    "\n",
    "res = requests.get('http://inventwithpython.com/page_that_does_not_exist')\n",
    "try:\n",
    "    res.raise_for_status()\n",
    "except Exception as exc:\n",
    "    print('Houve um erro: %s' %(exc))"
   ]
  },
  {
   "attachments": {},
   "cell_type": "markdown",
   "metadata": {},
   "source": [
    "Salvando arquivos baixados no disco rígido:\n",
    "\n",
    "Para salvar arquivos, a URL deve ser aberta em modo escrita binária 'wb'.\n",
    "\n",
    "O arquivo será salvo com o código abaixo:"
   ]
  },
  {
   "cell_type": "code",
   "execution_count": 6,
   "metadata": {},
   "outputs": [],
   "source": [
    "import requests\n",
    "\n",
    "res = requests.get('https://automatetheboringstuff.com/files/rj.txt')\n",
    "res.raise_for_status()\n",
    "playFile = open('RomeoAndJuliet.txt','wb')\n",
    "for chunk in res.iter_content(1000000):\n",
    "    playFile.write(chunk)\n",
    "playFile.close()"
   ]
  },
  {
   "attachments": {},
   "cell_type": "markdown",
   "metadata": {},
   "source": [
    "O método iter_content() tomará parte do conteúdo a cada iteração. O tamanho da parte é especificado no parâmetro e, no caso, foi usado 100000 bytes por parte."
   ]
  },
  {
   "attachments": {},
   "cell_type": "markdown",
   "metadata": {},
   "source": [
    "HTML:\n",
    "\n",
    "HTML é o formato em que as páginas web são escritas.\n",
    "\n",
    "O texto em HTML é cercado de <>."
   ]
  },
  {
   "attachments": {},
   "cell_type": "markdown",
   "metadata": {},
   "source": [
    "Exemplo: HTML para printar Hello world! com Hello em negrito.\n",
    "\n",
    "\\<strong>Hello</strong> world!                       \n",
    "<strong>Hello</strong> world!"
   ]
  },
  {
   "attachments": {},
   "cell_type": "markdown",
   "metadata": {},
   "source": [
    "HTML recebe diversas tags com funções diferentes. \\<a> indica quanto um texto será um link.\n",
    "\n",
    "AI's free \\<a href = 'https://inventwithpython.com'> Python books</a>                                       \n",
    "AI's free <a href = 'https://inventwithpython.com'> Python books</a>"
   ]
  },
  {
   "attachments": {},
   "cell_type": "markdown",
   "metadata": {},
   "source": [
    "Para verificar o código-fonte HTML de sites, basta clicar com o botão direito e ir em inspecionar"
   ]
  },
  {
   "attachments": {},
   "cell_type": "markdown",
   "metadata": {},
   "source": [
    "Fazendo parse de HTML com o módulo BeautifulSoup:\n",
    "\n",
    "Anteriormente, é preciso abrir a paǵina web e, em cima, da informação desejada, inspecionar o elemento para ver como esta informação foi colocada no site."
   ]
  },
  {
   "attachments": {},
   "cell_type": "markdown",
   "metadata": {},
   "source": [
    "Criando um objeto BeautifulSoup a partir dp HTML:\n",
    "\n",
    "A função bs4.BeautifulSoup que fará o parsing conterá o HTML necessário."
   ]
  },
  {
   "cell_type": "code",
   "execution_count": 14,
   "metadata": {},
   "outputs": [
    {
     "name": "stdout",
     "output_type": "stream",
     "text": [
      "<class 'bs4.BeautifulSoup'>\n"
     ]
    }
   ],
   "source": [
    "import requests, bs4\n",
    "\n",
    "res = requests.get('http://nostarch.com')\n",
    "res.raise_for_status()\n",
    "noStarchSoup = bs4.BeautifulSoup(res.text)\n",
    "print(type(noStarchSoup))"
   ]
  },
  {
   "attachments": {},
   "cell_type": "markdown",
   "metadata": {},
   "source": [
    "Para abrir um HTML do disco rígido no objeto Soup, fazer:"
   ]
  },
  {
   "cell_type": "code",
   "execution_count": null,
   "metadata": {},
   "outputs": [],
   "source": [
    "import bs4\n",
    "\n",
    "exampleFile = open('example.html')\n",
    "exampleSoup = bs4.BeautifulSoup(exampleFile)\n",
    "exampleFile.close()"
   ]
  },
  {
   "attachments": {},
   "cell_type": "markdown",
   "metadata": {},
   "source": [
    "Localizando um elemento com o método select():\n",
    "\n",
    "A procura por um elemento é feito com o método select() passando um seletor CSS."
   ]
  },
  {
   "attachments": {},
   "cell_type": "markdown",
   "metadata": {},
   "source": [
    "Exemplos de seletores CSS:\n",
    "\n",
    "soup.select('div): Todos os elementos de nome \\<div>.\n",
    "\n",
    "soup.select('#author): Elemento com um atributo id igual a author\n",
    "\n",
    "soup.select('.notice'): Elementos que utilizam um atributo CSS chamado notice.                          \n",
    "\n",
    "soup.select('div span'): Elementos de nome \\<span> que estejam em elementos chamados \\<div>.                \n",
    "\n",
    "soup.select('div > span'): Elementos de nome \\<span> que estejam diretamente em um elemento \\<div> sem que haja elementos intermediários                            \n",
    "\n",
    "soup.select('input[name]'): Elementos de nome \\<input> que tenham atributo name com qualquer valor              \n",
    "\n",
    "soup.select('input[type='button']'): Elementos de nome \\<input> que tenham atributo type com valor button"
   ]
  },
  {
   "attachments": {},
   "cell_type": "markdown",
   "metadata": {},
   "source": [
    "Mais de um seletor pode ser utilizado. Por exemplo:\n",
    "\n",
    "soup.select('p #author'): corresponderá a elementos com id igual a author desde que dentro de elemento \\<p>."
   ]
  },
  {
   "attachments": {},
   "cell_type": "markdown",
   "metadata": {},
   "source": [
    "O método select() retornará uma lista de objetos Tag, sendo um para cada correspondência feita. Para exibir as tags, passar para a função str()."
   ]
  },
  {
   "cell_type": "code",
   "execution_count": 26,
   "metadata": {},
   "outputs": [
    {
     "name": "stdout",
     "output_type": "stream",
     "text": [
      "<class 'bs4.element.ResultSet'>\n",
      "1\n",
      "<span id=\"author\">Al Sweigart</span>\n",
      "Al Sweigart\n",
      "<span id=\"author\">Al Sweigart</span>\n",
      "{'id': 'author'}\n",
      "<p>Download my <strong>Python</strong> book from <a href=\"http://inventwithpython.com\">my website</a>.</p>\n",
      "Download my Python book from my website.\n",
      "<p class=\"slogan\">Learn Python the easy way!</p>\n",
      "Learn Python the easy way!\n",
      "<p>By <span id=\"author\">Al Sweigart</span></p>\n",
      "By Al Sweigart\n"
     ]
    }
   ],
   "source": [
    "import bs4, os\n",
    "\n",
    "os.chdir('/home/luiz/Documentos/Aprendizado/Python - Automação/')\n",
    "exampleFile = open('example.html')\n",
    "exampleSoup = bs4.BeautifulSoup(exampleFile.read())\n",
    "elems = exampleSoup.select('#author')\n",
    "print(type(elems))\n",
    "print(len(elems))\n",
    "print(elems[0])\n",
    "print(elems[0].getText())\n",
    "print(str(elems[0]))\n",
    "print(elems[0].attrs)\n",
    "\n",
    "pElems = exampleSoup.select('p')\n",
    "print(pElems[0])\n",
    "print(pElems[0].getText())\n",
    "print(str(pElems[1]))\n",
    "print(pElems[1].getText())\n",
    "print(str(pElems[2]))\n",
    "print(pElems[2].getText())"
   ]
  },
  {
   "attachments": {},
   "cell_type": "markdown",
   "metadata": {},
   "source": [
    "Chamar getText() no elemento fará o texto desse elemento ser retornado. Usar attrs fornece um dicionário com o atributo 'id' do elemento e o valor desse atributo."
   ]
  },
  {
   "attachments": {},
   "cell_type": "markdown",
   "metadata": {},
   "source": [
    "Obtendo dados dos atributos de um elemento:\n",
    "\n",
    "O método get() extrai valores de atributos de um elemento. Este método recebe uma string contendo um nome de um atributo e retorna o valor do atributo"
   ]
  },
  {
   "cell_type": "code",
   "execution_count": 28,
   "metadata": {},
   "outputs": [
    {
     "name": "stdout",
     "output_type": "stream",
     "text": [
      "<span id=\"author\">Al Sweigart</span>\n",
      "author\n",
      "True\n",
      "{'id': 'author'}\n"
     ]
    }
   ],
   "source": [
    "import bs4\n",
    "\n",
    "soup = bs4.BeautifulSoup(open('example.html'))\n",
    "spanElem = soup.select('span')[0]\n",
    "print(str(spanElem))\n",
    "print(spanElem.get('id'))\n",
    "print(spanElem.get('some_nonexistent_addr') == None)\n",
    "print(spanElem.attrs)"
   ]
  },
  {
   "attachments": {},
   "cell_type": "markdown",
   "metadata": {},
   "source": [
    "Controlando o navegador com módulo Selenium:\n",
    "\n",
    "O módulo selenium permite o controle do navegador, como clicar em links, preencher infos de login, etc..."
   ]
  },
  {
   "attachments": {},
   "cell_type": "markdown",
   "metadata": {},
   "source": [
    "Iniciar navegador controlado pelo Selenium:\n",
    "\n",
    "O início do navegador é dado por browser.get() com a URL de parâmetro."
   ]
  },
  {
   "cell_type": "code",
   "execution_count": 33,
   "metadata": {},
   "outputs": [
    {
     "name": "stdout",
     "output_type": "stream",
     "text": [
      "<class 'selenium.webdriver.firefox.webdriver.WebDriver'>\n"
     ]
    }
   ],
   "source": [
    "from selenium import webdriver\n",
    "\n",
    "browser = webdriver.Firefox()\n",
    "print(type(browser))\n",
    "browser.get('https://www.google.com')"
   ]
  },
  {
   "attachments": {},
   "cell_type": "markdown",
   "metadata": {},
   "source": [
    "Localizando elementos na página:\n",
    "\n",
    "O método de localização de elementos em uma página é dado pelas funções: find_element_* para um objeto de retorno e find_elements_* para o retorno de lista de objetos."
   ]
  },
  {
   "attachments": {},
   "cell_type": "markdown",
   "metadata": {},
   "source": [
    "Exemplos de métodos de encontrar elementos:\n",
    "\n",
    "browser.find_element_by_class_name(nome): Elementos de classe CSS.\n",
    "\n",
    "browser.find_element_by_css_selector(seletor): Elementos que correspondem ao seletor CSS\n",
    "\n",
    "browser_find_element_by_id(id): Elementos que correspodem ao id\n",
    "\n",
    "browser.find_element_by_link_text(texto): Elementos \\<a> que correspondem totalmente ao texto especificado\n",
    "\n",
    "browser.find_element_by_partial_link_text(texto): Elementos \\<a> que contem o texto especificado\n",
    "\n",
    "browser.find_element_by_name(nome): Elementos com um valor de atributo nome correspondente\n",
    "\n",
    "browser.find_element_by_tag_name(nome): Elementos com uma tag nome correspondente"
   ]
  },
  {
   "attachments": {},
   "cell_type": "markdown",
   "metadata": {},
   "source": [
    "Exceto por _by_tag_name(), os argumentos para todos os métodos consideram as diferenças entre maiúsculas e minúsculas. \n",
    "\n",
    "Se não houver correspondências, o Selenium gerará uma exceção NoSuchElement. Para não haver problemas no código, colocar entre try e except.\n",
    "\n",
    "Atributos e Métodos WebElemet:\n",
    "\n",
    "tag_name: O nome da tag, por exemplo 'a' para \\<a>\n",
    "\n",
    "get_attribute(nome): O valor do atributo nome do elemento\n",
    "\n",
    "text: O texto do elemento, por exemplo 'hello' em \\<span> hello </span>\n",
    "\n",
    "clear(): Para campos de texto ou elementos correspondente à área de texto, limpa o texto digitado.\n",
    "\n",
    "is_displayed(): Retorna True se o elemento estiver vísivel\n",
    "\n",
    "is_enabled(): Para elementos de entrada, retorna True se o elemento estiver habilitado\n",
    "\n",
    "is_selected(): Para elementos relacionados a caixas de seleção ou botões de rádio, retorna True se o elemento estiver selecionado\n",
    "\n",
    "location: Um dicionário com chaves 'x' e 'y' para a posição do elemento na página"
   ]
  },
  {
   "cell_type": "code",
   "execution_count": 35,
   "metadata": {},
   "outputs": [
    {
     "name": "stdout",
     "output_type": "stream",
     "text": [
      "Not able to find\n"
     ]
    }
   ],
   "source": [
    "from selenium import webdriver\n",
    "\n",
    "browser = webdriver.Firefox()\n",
    "browser.get('http://inventwithpython.com')\n",
    "try:\n",
    "    elem = browser.find_element_by_class_name('bookcover')\n",
    "    print('Found <%s> element with class name!' % (elem.tag_name))\n",
    "except:\n",
    "    print('Not able to find')"
   ]
  },
  {
   "attachments": {},
   "cell_type": "markdown",
   "metadata": {},
   "source": [
    "Clicando na página:\n",
    "\n",
    "O método click() simula um clique de mouse no elemento. Esse método pode seguir link, seleção, botão, etc..."
   ]
  },
  {
   "cell_type": "code",
   "execution_count": null,
   "metadata": {},
   "outputs": [],
   "source": [
    "from selenium import webdriver\n",
    "\n",
    "browser = webdriver.Firefox()\n",
    "browser.get('http://inventwithpython.com')\n",
    "linkElem = browser.find_element_by_link_text('Read for Free')\n",
    "linkElem.click()"
   ]
  },
  {
   "attachments": {},
   "cell_type": "markdown",
   "metadata": {},
   "source": [
    "Preenchendo e submetendo formulários:\n",
    "\n",
    "Para enviar textos, basta encontrar o elemento \\<input> ou \\<textarea> e chamar o método send_keys()"
   ]
  },
  {
   "cell_type": "code",
   "execution_count": null,
   "metadata": {},
   "outputs": [],
   "source": [
    "from selenium import webdriver\n",
    "\n",
    "browser = webdriver.Firefox()\n",
    "browser.get('https://login.yahoo.com/?.src=ym&pspid=1197806870&activity=header-signin&.lang=en-US&.intl=us&.done=https%3A%2F%2Fmail.yahoo.com%2Fd')\n",
    "emailElem = browser.find_element_by_id('login-username-form')\n",
    "emailElem.send_keys('not_my_real_email')\n",
    "passwordElem = browser.find_element_by_id('login-passwd')\n",
    "passwordElem.send_keys('12345')\n",
    "passwordElem.submit()"
   ]
  },
  {
   "attachments": {},
   "cell_type": "markdown",
   "metadata": {},
   "source": [
    "Enviando teclas especiais:\n",
    "\n",
    "Estas teclas especiais envolvem teclas não armazenáveis em string. Para isto, deve-se importar o módulo necessário:\n",
    "\n",
    "selenium.webdriver.common.keys ou from selenium.webdriver.common.keys import Keys.\n",
    "\n",
    "Teclas especiais:\n",
    "\n",
    "Keys.DOWN, Keys.UP, Keys,LEFT, Keys.RIGHT, Keys.enter, Keys.RETURN, Keys.HOME, Keys.END, Keys.PAGE_DOWN, Keys.PAGE_UP, Keys.ESCAPE, Keys.BACK_SPACE, Keys.DELETE, Keys.F1...Keys.F12, Keys.TAB"
   ]
  },
  {
   "cell_type": "code",
   "execution_count": null,
   "metadata": {},
   "outputs": [],
   "source": [
    "from selenium import webdriver\n",
    "from selenium.webdriver.common.keys import Keys\n",
    "\n",
    "browser = webdriver.Firefox()\n",
    "browser.get('http://nostarch.com')\n",
    "htmlElem = browser.find_element_by_tag_name('html')\n",
    "htmlElem.send_keys(Keys.END)\n",
    "htmlElem.send_keys(Keys.HOME)"
   ]
  },
  {
   "attachments": {},
   "cell_type": "markdown",
   "metadata": {},
   "source": [
    "Clicando nos botões do navegador:\n",
    "\n",
    "Selenium possui módulos que simulam cliques nos botões do navegador.\n",
    "\n",
    "browser.back(): Clica no botão retornar                 \n",
    "browser.forward(): Clica no botão avançar               \n",
    "browser.refresh(): Clica no botão de atualizar      \n",
    "browser.quit(): Clica no botão fechar"
   ]
  },
  {
   "cell_type": "code",
   "execution_count": 43,
   "metadata": {},
   "outputs": [],
   "source": [
    "import selenium\n",
    "\n",
    "browser = webdriver.Firefox()\n",
    "browser.get('http://nostarch.com')\n",
    "browser.quit()"
   ]
  }
 ],
 "metadata": {
  "kernelspec": {
   "display_name": "Python 3",
   "language": "python",
   "name": "python3"
  },
  "language_info": {
   "codemirror_mode": {
    "name": "ipython",
    "version": 3
   },
   "file_extension": ".py",
   "mimetype": "text/x-python",
   "name": "python",
   "nbconvert_exporter": "python",
   "pygments_lexer": "ipython3",
   "version": "3.10.6"
  },
  "orig_nbformat": 4,
  "vscode": {
   "interpreter": {
    "hash": "916dbcbb3f70747c44a77c7bcd40155683ae19c65e1c03b4aa3499c5328201f1"
   }
  }
 },
 "nbformat": 4,
 "nbformat_minor": 2
}
