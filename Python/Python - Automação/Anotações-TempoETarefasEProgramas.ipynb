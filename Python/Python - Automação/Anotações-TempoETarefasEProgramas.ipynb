{
 "cells": [
  {
   "attachments": {},
   "cell_type": "markdown",
   "metadata": {},
   "source": [
    "Módulo Time:\n",
    "\n",
    "Este módulo permite trabalhar com o tempo do computador.\n",
    "\n",
    "Função time.time():\n",
    "\n",
    "Esta função retorna os segundos após 1 de janeiro de 1970 UTC"
   ]
  },
  {
   "cell_type": "code",
   "execution_count": 1,
   "metadata": {},
   "outputs": [
    {
     "data": {
      "text/plain": [
       "1677637794.5269825"
      ]
     },
     "execution_count": 1,
     "metadata": {},
     "output_type": "execute_result"
    }
   ],
   "source": [
    "import time\n",
    "\n",
    "time.time()"
   ]
  },
  {
   "attachments": {},
   "cell_type": "markdown",
   "metadata": {},
   "source": [
    "Tempo transcorrido entre o início e o fim do código"
   ]
  },
  {
   "cell_type": "code",
   "execution_count": 9,
   "metadata": {},
   "outputs": [
    {
     "name": "stdout",
     "output_type": "stream",
     "text": [
      "2565\n",
      "0.0010366439819335938\n"
     ]
    }
   ],
   "source": [
    "import time\n",
    "\n",
    "def calcProd():\n",
    "    product = 1\n",
    "    for i in range(1, 1000):\n",
    "        product *= i\n",
    "    return product\n",
    "\n",
    "startTime = time.time()\n",
    "prod = calcProd()\n",
    "endTime = time.time()\n",
    "print(len(str(prod)))\n",
    "print(endTime - startTime)"
   ]
  },
  {
   "attachments": {},
   "cell_type": "markdown",
   "metadata": {},
   "source": [
    "Função time.sleep():\n",
    "\n",
    "Esta função determina tempo de espera em segundos."
   ]
  },
  {
   "cell_type": "code",
   "execution_count": 10,
   "metadata": {},
   "outputs": [
    {
     "name": "stdout",
     "output_type": "stream",
     "text": [
      "tick\n",
      "tock\n",
      "tick\n",
      "tock\n",
      "tick\n",
      "tock\n"
     ]
    }
   ],
   "source": [
    "import time\n",
    "\n",
    "for i in range(3):\n",
    "    print('tick')\n",
    "    time.sleep(1)\n",
    "    print('tock')\n",
    "    time.sleep(1)"
   ]
  },
  {
   "attachments": {},
   "cell_type": "markdown",
   "metadata": {},
   "source": [
    "Arredondando números:\n",
    "\n",
    "A função round() recebe o número a ser arredondado e o número de casas arredondadas"
   ]
  },
  {
   "cell_type": "code",
   "execution_count": 15,
   "metadata": {},
   "outputs": [
    {
     "data": {
      "text/plain": [
       "1677638868.064"
      ]
     },
     "execution_count": 15,
     "metadata": {},
     "output_type": "execute_result"
    }
   ],
   "source": [
    "import time\n",
    "\n",
    "now = time.time()\n",
    "round(now, 3)"
   ]
  },
  {
   "attachments": {},
   "cell_type": "markdown",
   "metadata": {},
   "source": [
    "Módulo datetime:\n",
    "\n",
    "Especifico para exibir uma data em formato específico ou realizar operações aritméticas com datas."
   ]
  },
  {
   "cell_type": "code",
   "execution_count": 21,
   "metadata": {},
   "outputs": [
    {
     "name": "stdout",
     "output_type": "stream",
     "text": [
      "2023-02-28 23:55:56.095876\n",
      "2017 9 30 16 29 0\n"
     ]
    }
   ],
   "source": [
    "import datetime\n",
    "\n",
    "print(datetime.datetime.now())\n",
    "dt = datetime.datetime(2017, 9, 30, 16, 29, 0)\n",
    "print(dt.year, dt.month, dt.day, dt.hour, dt.minute, dt.second)"
   ]
  },
  {
   "attachments": {},
   "cell_type": "markdown",
   "metadata": {},
   "source": [
    "Outra opção é o timestamp que recebe os segundos como parâmetro e retorna a data após os segundos desde 1970 UTC."
   ]
  },
  {
   "cell_type": "code",
   "execution_count": 25,
   "metadata": {},
   "outputs": [
    {
     "name": "stdout",
     "output_type": "stream",
     "text": [
      "1970-01-12 10:46:40\n",
      "2023-02-28 23:59:59.129055\n"
     ]
    }
   ],
   "source": [
    "import datetime\n",
    "\n",
    "x = datetime.datetime.fromtimestamp(1000000)\n",
    "print(x)\n",
    "y = datetime.datetime.fromtimestamp(time.time())\n",
    "print(y)"
   ]
  },
  {
   "attachments": {},
   "cell_type": "markdown",
   "metadata": {},
   "source": [
    "Tipo da dado timedelta: \n",
    "\n",
    "timedelta representa uma duração."
   ]
  },
  {
   "cell_type": "code",
   "execution_count": 30,
   "metadata": {},
   "outputs": [
    {
     "name": "stdout",
     "output_type": "stream",
     "text": [
      "11 36548 0 986948.0\n",
      "11 days, 10:09:08\n"
     ]
    }
   ],
   "source": [
    "import datetime\n",
    "\n",
    "delta = datetime.timedelta(days =11, hours= 10, minutes= 9, seconds= 8)\n",
    "print(delta.days, delta.seconds, delta.microseconds, delta.total_seconds())\n",
    "print(str(delta))"
   ]
  },
  {
   "attachments": {},
   "cell_type": "markdown",
   "metadata": {},
   "source": [
    "Operações aritméticas com datas:"
   ]
  },
  {
   "cell_type": "code",
   "execution_count": 32,
   "metadata": {},
   "outputs": [
    {
     "name": "stdout",
     "output_type": "stream",
     "text": [
      "2025-11-25 00:08:31.169231\n",
      "1985-10-28 16:29:00\n"
     ]
    }
   ],
   "source": [
    "import datetime\n",
    "\n",
    "dt = datetime.datetime.now()\n",
    "thousandDays = datetime.timedelta(days= 1000)\n",
    "print(dt + thousandDays)\n",
    "\n",
    "oct21st = datetime.datetime(2015, 10, 21, 16, 29, 0)\n",
    "thirtyYears = datetime.timedelta(days= 365 * 30)\n",
    "print(oct21st - thirtyYears)"
   ]
  },
  {
   "attachments": {},
   "cell_type": "markdown",
   "metadata": {},
   "source": [
    "Fazendo pausa até data específica:"
   ]
  },
  {
   "cell_type": "code",
   "execution_count": 34,
   "metadata": {},
   "outputs": [],
   "source": [
    "import datetime\n",
    "import time\n",
    "\n",
    "halloween2023 = datetime.datetime(2023, 3, 1, 0, 0, 0)\n",
    "while datetime.datetime.now() < halloween2023:\n",
    "    time.sleep(1)"
   ]
  },
  {
   "attachments": {},
   "cell_type": "markdown",
   "metadata": {},
   "source": [
    "Convertendo objetos datetime em strings:\n",
    "\n",
    "O método strftime() para exibir um objeto datetime como uma string.\n",
    "Diretivas que podem ser usadas:\n",
    "\n",
    "%Y: Ano com o século, como em \"2014\"                        \n",
    "%y: Ano sem o século, de '00' a '99' (de 1970 a 2069)           \n",
    "%m: Mês como um número decimal, de '01' a '12'                  \n",
    "%B: Nome completo do mês, como 'November'                       \n",
    "%b: Nome abreviado do mês, como em 'Nov'                        \n",
    "%d: Dia do mês, de '01' a '31'                              \n",
    "%j: Dia do ano, de '001' a '366'                            \n",
    "%w: Dia da semana, de '0' (domingo) a '6' (Sábado)              \n",
    "%A: Nome completo do dia da semana, como em 'Monday'            \n",
    "%a: Nome do dia da semana abreviado, como em 'Mon'              \n",
    "%H: Hora (relógio com 24 horas), de '00' a '23'                 \n",
    "%I: Hora (relógio com 12 horas), de '01' a '12'                 \n",
    "%M: Minuto, de '00' a '59'                                      \n",
    "%S: Segundo, de '00' a '59'                                     \n",
    "%p: 'AM' ou 'PM'                                                \n",
    "%%: Caractere literal '%'                                       "
   ]
  },
  {
   "cell_type": "code",
   "execution_count": 39,
   "metadata": {},
   "outputs": [
    {
     "name": "stdout",
     "output_type": "stream",
     "text": [
      "2015/10/21 16:29:00\n",
      "04:29 PM\n",
      "October of 15\n"
     ]
    }
   ],
   "source": [
    "import datetime\n",
    "\n",
    "oct21st = datetime.datetime(2015, 10, 21, 16, 29, 0)\n",
    "print(oct21st.strftime('%Y/%m/%d %H:%M:%S'))\n",
    "print(oct21st.strftime('%I:%M %p'))\n",
    "print(oct21st.strftime('%B of %y'))\n"
   ]
  },
  {
   "attachments": {},
   "cell_type": "markdown",
   "metadata": {},
   "source": [
    "Convertendo strings em objetos datetime:\n",
    "\n",
    "Isto é  realizar a operação inversa de strftime, com strptime"
   ]
  },
  {
   "cell_type": "code",
   "execution_count": 43,
   "metadata": {},
   "outputs": [
    {
     "name": "stdout",
     "output_type": "stream",
     "text": [
      "2015-10-21 00:00:00\n",
      "2015-10-21 16:29:00\n",
      "2015-10-01 00:00:00\n",
      "2063-11-01 00:00:00\n"
     ]
    }
   ],
   "source": [
    "import datetime\n",
    "\n",
    "print(datetime.datetime.strptime('October 21, 2015', '%B %d, %Y'))\n",
    "print( datetime.datetime.strptime('2015/10/21 16:29:00', '%Y/%m/%d %H:%M:%S'))\n",
    "print(datetime.datetime.strptime(\"October of '15\", \"%B of '%y\"))\n",
    "print(datetime.datetime.strptime(\"November of '63\", \"%B of '%y\"))"
   ]
  },
  {
   "attachments": {},
   "cell_type": "markdown",
   "metadata": {},
   "source": [
    "Multithreading:\n",
    "\n",
    "Threads podem ser pensandos como a quantidade de executadores do código. Por padrão, há 1 só. Porém, pode-se criar mais com multithreading.\n",
    "\n",
    "Criand outras threads:"
   ]
  },
  {
   "cell_type": "code",
   "execution_count": 44,
   "metadata": {},
   "outputs": [
    {
     "name": "stdout",
     "output_type": "stream",
     "text": [
      "start of program\n",
      "End of Program.\n"
     ]
    },
    {
     "name": "stdout",
     "output_type": "stream",
     "text": [
      "Wake up!\n"
     ]
    }
   ],
   "source": [
    "import threading, time\n",
    "\n",
    "print('start of program')\n",
    "\n",
    "def takeANap():\n",
    "    time.sleep(5)\n",
    "    print('Wake up!')\n",
    "threadObj = threading.Thread(target= takeANap)\n",
    "threadObj.start()\n",
    "\n",
    "print('End of Program.')"
   ]
  },
  {
   "attachments": {},
   "cell_type": "markdown",
   "metadata": {},
   "source": [
    "O código acima cria uma thread e destina para a execução da função takeANap, enquanto o código é executado"
   ]
  },
  {
   "attachments": {},
   "cell_type": "markdown",
   "metadata": {},
   "source": [
    "Passando argumentos à funçaõ-alvo da thread:"
   ]
  },
  {
   "cell_type": "code",
   "execution_count": 2,
   "metadata": {},
   "outputs": [
    {
     "name": "stdout",
     "output_type": "stream",
     "text": [
      "Cats & Dogs & Frogs\n"
     ]
    }
   ],
   "source": [
    "import threading\n",
    "\n",
    "threadObj = threading.Thread(target= print, args=['Cats','Dogs','Frogs'], kwargs= {'sep':' & '})\n",
    "threadObj.start()"
   ]
  },
  {
   "attachments": {},
   "cell_type": "markdown",
   "metadata": {},
   "source": [
    "Problemas de concorrência:\n",
    "\n",
    "Este problema ocorre quando as threads escrevem e leem variáveis ao mesmo tempo."
   ]
  },
  {
   "attachments": {},
   "cell_type": "markdown",
   "metadata": {},
   "source": [
    "Iniciando outros programas a partir do Python:\n",
    "\n",
    "O módulo subprocess contém a função Popen() para abrir outros programas.\n",
    "\n",
    "Para iniciar o programa subprocess, passar o nome do arquivo do programa para subprocess.Popen().\n",
    "\n",
    "Para ver o nome do arquivo, clicar com o botão direito np app, ir em propriedades e copiar o path."
   ]
  },
  {
   "attachments": {},
   "cell_type": "markdown",
   "metadata": {},
   "source": [
    "No windows:"
   ]
  },
  {
   "cell_type": "code",
   "execution_count": 3,
   "metadata": {},
   "outputs": [
    {
     "data": {
      "text/plain": [
       "<Popen: returncode: None args: 'C:\\\\Windows\\\\System32\\\\calc.exe'>"
      ]
     },
     "execution_count": 3,
     "metadata": {},
     "output_type": "execute_result"
    }
   ],
   "source": [
    "import subprocess\n",
    "\n",
    "subprocess.Popen('C:\\\\Windows\\\\System32\\\\calc.exe')"
   ]
  },
  {
   "attachments": {},
   "cell_type": "markdown",
   "metadata": {},
   "source": [
    "No Ubuntu:"
   ]
  },
  {
   "cell_type": "code",
   "execution_count": null,
   "metadata": {},
   "outputs": [],
   "source": [
    "import subprocess\n",
    "\n",
    "subprocess.Popen('/usr/bin/gnome-calculator')"
   ]
  },
  {
   "attachments": {},
   "cell_type": "markdown",
   "metadata": {},
   "source": [
    "Métodos úteis em Popen(): poll() e wait()\n",
    "\n",
    "poll() retornatá None se o processo ainda estiver executando, e um inteiro referente ao código de saída quando encerrar.\n",
    "\n",
    "wait() ficará bloqueado até que o processo iniciado tenha terminado."
   ]
  },
  {
   "cell_type": "code",
   "execution_count": 6,
   "metadata": {},
   "outputs": [
    {
     "name": "stdout",
     "output_type": "stream",
     "text": [
      "True\n",
      "0\n",
      "0\n"
     ]
    }
   ],
   "source": [
    "import subprocess\n",
    "import time\n",
    "\n",
    "calcProc = subprocess.Popen('c:\\\\Windows\\\\System32\\\\calc.exe')\n",
    "while True:\n",
    "    if calcProc.poll() == None:\n",
    "        time.sleep(1)\n",
    "        print('True')\n",
    "    else:\n",
    "        print('0')\n",
    "        break\n",
    "print(calcProc.wait())"
   ]
  },
  {
   "attachments": {},
   "cell_type": "markdown",
   "metadata": {},
   "source": [
    "Passando argumentos da linha de comando a Popen()\n",
    "\n",
    "A primeira string dessa lista será o nome do arquivo executável do programa que você quer iniciar; todas as strings subsequentes serão os argumentos de linha de comando a serem passados para o programa quando ele iniciar. Essa lista será o valor de sys.argv para o programa iniciado."
   ]
  },
  {
   "cell_type": "code",
   "execution_count": 8,
   "metadata": {},
   "outputs": [
    {
     "data": {
      "text/plain": [
       "<Popen: returncode: None args: ['C:\\\\Windows\\\\notepad.exe', 'C:\\\\hello.txt']>"
      ]
     },
     "execution_count": 8,
     "metadata": {},
     "output_type": "execute_result"
    }
   ],
   "source": [
    "import subprocess\n",
    "\n",
    "subprocess.Popen(['C:\\\\Windows\\\\notepad.exe', 'C:\\\\hello.txt'])"
   ]
  },
  {
   "attachments": {},
   "cell_type": "markdown",
   "metadata": {},
   "source": [
    "Agendamento de Tarefa: Task Scheduler(Windows), launchd(OS X) e cron(Linux)\n",
    "\n",
    "Abrindo sites com o Python:\n",
    "\n",
    "webbrowser.open()\n",
    "\n",
    "Executando outros scripts Python:\n",
    "\n",
    "Passar o python.exe para o Popen(). O argumento pode ser inserido com o arquivo .py para ser executado."
   ]
  },
  {
   "attachments": {},
   "cell_type": "markdown",
   "metadata": {},
   "source": [
    "Abrindo arquivos com aplicativos default:\n",
    "\n",
    "Programa de execução: 'start' para Windows, 'see' para Linux e 'open' para OS X."
   ]
  },
  {
   "cell_type": "code",
   "execution_count": 2,
   "metadata": {},
   "outputs": [
    {
     "data": {
      "text/plain": [
       "<Popen: returncode: None args: ['see', 'hello.txt']>"
      ]
     },
     "execution_count": 2,
     "metadata": {},
     "output_type": "execute_result"
    }
   ],
   "source": [
    "import subprocess\n",
    "\n",
    "fileObj = open('hello.txt', 'w')\n",
    "fileObj.write('Hello World')\n",
    "fileObj.close()\n",
    "\n",
    "subprocess.Popen(['start', 'hello.txt'], shell= True)"
   ]
  }
 ],
 "metadata": {
  "kernelspec": {
   "display_name": "Python 3",
   "language": "python",
   "name": "python3"
  },
  "language_info": {
   "codemirror_mode": {
    "name": "ipython",
    "version": 3
   },
   "file_extension": ".py",
   "mimetype": "text/x-python",
   "name": "python",
   "nbconvert_exporter": "python",
   "pygments_lexer": "ipython3",
   "version": "3.10.7"
  },
  "orig_nbformat": 4,
  "vscode": {
   "interpreter": {
    "hash": "d69bb41ca5bf41b47524d67d99a6c0efc03ddd1c2dd0933a9c1b5a905b4d9297"
   }
  }
 },
 "nbformat": 4,
 "nbformat_minor": 2
}
