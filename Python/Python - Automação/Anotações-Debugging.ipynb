{
 "cells": [
  {
   "attachments": {},
   "cell_type": "markdown",
   "metadata": {},
   "source": [
    "Debugging trata da correção de bugs em códigos."
   ]
  },
  {
   "attachments": {},
   "cell_type": "markdown",
   "metadata": {},
   "source": [
    "Tratamento de Exceções:\n",
    "\n",
    "Em códigos convencionais, erros farão com que a execução seja interrompida.\n",
    "\n",
    "Com tratamentos apropriados, usando as funções try e except, os erros serão exibidos e a execução será continuada."
   ]
  },
  {
   "attachments": {},
   "cell_type": "markdown",
   "metadata": {},
   "source": [
    "A função try é inserida onde há possibilidade de haver erros e, caso haja, executa-se, em seguinte, a função except, tratando o erro."
   ]
  },
  {
   "cell_type": "code",
   "execution_count": 1,
   "metadata": {},
   "outputs": [
    {
     "name": "stdout",
     "output_type": "stream",
     "text": [
      "21.0\n",
      "3.5\n",
      "Error: Invalid argument\n",
      "None\n",
      "42.0\n"
     ]
    }
   ],
   "source": [
    "def spam(divideBy):\n",
    "    try:\n",
    "        return 42/divideBy\n",
    "    except ZeroDivisionError:\n",
    "        print('Error: Invalid argument')\n",
    "print(spam(2))\n",
    "print(spam(12))\n",
    "print(spam(0))\n",
    "print(spam(1))"
   ]
  },
  {
   "attachments": {},
   "cell_type": "markdown",
   "metadata": {},
   "source": [
    "Funções try e expect geram saídas de erros pré-existentes, mas pode-se gerar próprias exceções no código.\n",
    "\n",
    "Para isto, a função raise é utilizada em conjunto com Exception()."
   ]
  },
  {
   "cell_type": "code",
   "execution_count": 11,
   "metadata": {},
   "outputs": [
    {
     "name": "stdout",
     "output_type": "stream",
     "text": [
      "14.0\n",
      "Erro: Divisor igual a 0\n"
     ]
    }
   ],
   "source": [
    "def spam(divisor):\n",
    "    if divisor == 0:\n",
    "        raise Exception('Divisor igual a 0')\n",
    "    return 42/divisor\n",
    "try:\n",
    "    print(spam(3))\n",
    "    print(spam(0))\n",
    "    print(spam(1))\n",
    "except Exception as err:\n",
    "    print('Erro: ' + str(err))"
   ]
  },
  {
   "attachments": {},
   "cell_type": "markdown",
   "metadata": {},
   "source": [
    "Obter traceback como string:\n",
    "\n",
    "As mensagens de erro padrão do python, chamadas de traceback, guardam todas as informações obre o erro ocorrido, incluindo a mensagem de erro, o número de alinha e a sequência de chamadas de função que resultou em erro."
   ]
  },
  {
   "attachments": {},
   "cell_type": "markdown",
   "metadata": {},
   "source": [
    "O código abaixo salvará os tracebacks em arquivos txt."
   ]
  },
  {
   "cell_type": "code",
   "execution_count": null,
   "metadata": {},
   "outputs": [],
   "source": [
    "import traceback\n",
    "\n",
    "try:\n",
    "    raise Exception('This is the error message')\n",
    "except:\n",
    "    errorFile = open('erroInfo.txt','w')\n",
    "    errorFile.write(traceback.format_exc())\n",
    "    errorFile.close()\n",
    "    print('Traceback info was written')"
   ]
  },
  {
   "attachments": {},
   "cell_type": "markdown",
   "metadata": {},
   "source": [
    "Asserções:\n",
    "\n",
    "Asserções são verificações para garantir que o código não esteja fazendo nada de errado.\n",
    "\n",
    "Se a asserção falhar, o código falhará."
   ]
  },
  {
   "cell_type": "code",
   "execution_count": 14,
   "metadata": {},
   "outputs": [
    {
     "ename": "AssertionError",
     "evalue": "Door must be open",
     "output_type": "error",
     "traceback": [
      "\u001b[0;31m---------------------------------------------------------------------------\u001b[0m",
      "\u001b[0;31mAssertionError\u001b[0m                            Traceback (most recent call last)",
      "Cell \u001b[0;32mIn[14], line 4\u001b[0m\n\u001b[1;32m      2\u001b[0m \u001b[39massert\u001b[39;00m Door \u001b[39m==\u001b[39m \u001b[39m'\u001b[39m\u001b[39mopen\u001b[39m\u001b[39m'\u001b[39m, \u001b[39m'\u001b[39m\u001b[39mDoor tem que ser open\u001b[39m\u001b[39m'\u001b[39m\n\u001b[1;32m      3\u001b[0m Door \u001b[39m=\u001b[39m \u001b[39m'\u001b[39m\u001b[39mClosed\u001b[39m\u001b[39m'\u001b[39m\n\u001b[0;32m----> 4\u001b[0m \u001b[39massert\u001b[39;00m Door \u001b[39m==\u001b[39m \u001b[39m'\u001b[39m\u001b[39mopen\u001b[39m\u001b[39m'\u001b[39m, \u001b[39m'\u001b[39m\u001b[39mDoor must be open\u001b[39m\u001b[39m'\u001b[39m\n",
      "\u001b[0;31mAssertionError\u001b[0m: Door must be open"
     ]
    }
   ],
   "source": [
    "Door = 'open'\n",
    "assert Door == 'open', 'Door tem que ser open'\n",
    "Door = 'Closed'\n",
    "assert Door == 'open', 'Door must be open'"
   ]
  },
  {
   "attachments": {},
   "cell_type": "markdown",
   "metadata": {},
   "source": [
    "No código acima, a asserção é criada para verificar se o status da porta é aberto durante o código. Em certo momento, ela assume status de fechado e falha a asserção."
   ]
  },
  {
   "attachments": {},
   "cell_type": "markdown",
   "metadata": {},
   "source": [
    "Para exemplificar o uso dos assets, o código abaixo mostra uma simulação de semáforos."
   ]
  },
  {
   "cell_type": "code",
   "execution_count": 18,
   "metadata": {},
   "outputs": [
    {
     "ename": "AssertionError",
     "evalue": "Sem semáforos vermelhos",
     "output_type": "error",
     "traceback": [
      "\u001b[0;31m---------------------------------------------------------------------------\u001b[0m",
      "\u001b[0;31mAssertionError\u001b[0m                            Traceback (most recent call last)",
      "Cell \u001b[0;32mIn[18], line 13\u001b[0m\n\u001b[1;32m     11\u001b[0m Rua1 \u001b[39m=\u001b[39m {\u001b[39m'\u001b[39m\u001b[39mN\u001b[39m\u001b[39m'\u001b[39m: \u001b[39m'\u001b[39m\u001b[39mgreen\u001b[39m\u001b[39m'\u001b[39m, \u001b[39m'\u001b[39m\u001b[39mS\u001b[39m\u001b[39m'\u001b[39m: \u001b[39m'\u001b[39m\u001b[39mred\u001b[39m\u001b[39m'\u001b[39m}\n\u001b[1;32m     12\u001b[0m Rua2 \u001b[39m=\u001b[39m {\u001b[39m'\u001b[39m\u001b[39mO\u001b[39m\u001b[39m'\u001b[39m: \u001b[39m'\u001b[39m\u001b[39mred\u001b[39m\u001b[39m'\u001b[39m, \u001b[39m'\u001b[39m\u001b[39mL\u001b[39m\u001b[39m'\u001b[39m: \u001b[39m'\u001b[39m\u001b[39mgreen\u001b[39m\u001b[39m'\u001b[39m}\n\u001b[0;32m---> 13\u001b[0m switchLights(Rua1)\n\u001b[1;32m     14\u001b[0m switchLights(Rua2)\n\u001b[1;32m     15\u001b[0m \u001b[39mprint\u001b[39m(Rua1)\n",
      "Cell \u001b[0;32mIn[18], line 9\u001b[0m, in \u001b[0;36mswitchLights\u001b[0;34m(stoplight)\u001b[0m\n\u001b[1;32m      7\u001b[0m \u001b[39melse\u001b[39;00m:\n\u001b[1;32m      8\u001b[0m     stoplight[key] \u001b[39m=\u001b[39m \u001b[39m'\u001b[39m\u001b[39mgreen\u001b[39m\u001b[39m'\u001b[39m\n\u001b[0;32m----> 9\u001b[0m \u001b[39massert\u001b[39;00m \u001b[39m'\u001b[39m\u001b[39mred\u001b[39m\u001b[39m'\u001b[39m \u001b[39min\u001b[39;00m stoplight\u001b[39m.\u001b[39mvalues(), \u001b[39m'\u001b[39m\u001b[39mSem semáforos vermelhos\u001b[39m\u001b[39m'\u001b[39m\n",
      "\u001b[0;31mAssertionError\u001b[0m: Sem semáforos vermelhos"
     ]
    }
   ],
   "source": [
    "def switchLights(stoplight):\n",
    "    for key in stoplight.keys():\n",
    "        if stoplight[key] == 'green':\n",
    "            stoplight[key] = 'yellow'\n",
    "        elif stoplight[key] == 'yellow':\n",
    "            stoplight[key] = 'red'\n",
    "        else:\n",
    "            stoplight[key] = 'green'\n",
    "        assert 'red' in stoplight.values(), 'Sem semáforos vermelhos'\n",
    "\n",
    "Rua1 = {'N': 'green', 'S': 'red'}\n",
    "Rua2 = {'O': 'red', 'L': 'green'}\n",
    "switchLights(Rua1)\n",
    "switchLights(Rua2)\n",
    "print(Rua1)\n",
    "print(Rua2)"
   ]
  },
  {
   "attachments": {},
   "cell_type": "markdown",
   "metadata": {},
   "source": [
    "Desabilitando as asserçõs:\n",
    "\n",
    "O parâmetro -O pode ser passado no comando de execuçao do código python antes do .py ou depois de python ou python3 para desabilitar asserções e ter um ganho de desempenho"
   ]
  },
  {
   "attachments": {},
   "cell_type": "markdown",
   "metadata": {},
   "source": [
    "Logging:\n",
    "\n",
    "Logging listará as variáveis indicadas no código para exibição.\n",
    "\n",
    "O módulo logging deverá ser importado.\n",
    "\n",
    "Quando python faz log de um evento, um objeto LogRecord será criado. A função basicConfig() será usada para designar quais detalhes serão exibidos.\n",
    "\n",
    "O código abaixo calcula o fatorial de um número e contem bugs que deverão ser percebidos pela mudança das variáveis por logging."
   ]
  },
  {
   "cell_type": "code",
   "execution_count": 28,
   "metadata": {},
   "outputs": [
    {
     "name": "stderr",
     "output_type": "stream",
     "text": [
      "2023-02-21 22:21:02,741-DEBUG-Começo do programa\n",
      "2023-02-21 22:21:02,743-DEBUG-Começo do fatorial: 5\n",
      "2023-02-21 22:21:02,744-DEBUG-Cálculo 1: 1\n",
      "2023-02-21 22:21:02,745-DEBUG-Cálculo 2: 2\n",
      "2023-02-21 22:21:02,746-DEBUG-Cálculo 3: 6\n",
      "2023-02-21 22:21:02,747-DEBUG-Cálculo 4: 24\n",
      "2023-02-21 22:21:02,748-DEBUG-Cálculo 5: 120\n",
      "2023-02-21 22:21:02,749-DEBUG-5\n",
      "2023-02-21 22:21:02,750-DEBUG-Fim fo Programa\n"
     ]
    },
    {
     "name": "stdout",
     "output_type": "stream",
     "text": [
      "120\n"
     ]
    }
   ],
   "source": [
    "import logging as log \n",
    "\n",
    "log.basicConfig(level=log.DEBUG, format='%(asctime)s-%(levelname)s-%(message)s')\n",
    "log.debug('Começo do programa')\n",
    "\n",
    "def fatorial(n):\n",
    "    int(n)\n",
    "    log.debug('Começo do fatorial: %s' % (n))\n",
    "    total = 1\n",
    "    for i in range( n + 1):\n",
    "        total *= i\n",
    "        log.debug('Cálculo ' + str(i) + ': ' + str(total))\n",
    "    log.debug(n)\n",
    "    return total\n",
    "\n",
    "print(fatorial(5))\n",
    "log.debug('Fim fo Programa')"
   ]
  },
  {
   "attachments": {},
   "cell_type": "markdown",
   "metadata": {},
   "source": [
    "Para corrigir este código, mudar para range(1, n+1)"
   ]
  },
  {
   "attachments": {},
   "cell_type": "markdown",
   "metadata": {},
   "source": [
    "Para desabilitar o logging, incluir no fim do programa: logging.disable() com o nível a ser desabilitado. \n",
    "\n",
    "Por exemplo, para desabilitar todos, usar logging.CRITICAL no argumento."
   ]
  },
  {
   "attachments": {},
   "cell_type": "markdown",
   "metadata": {},
   "source": [
    "Níveis de logging:\n",
    "\n",
    "Há 5 níveis de logging possíveis para acessar:\n",
    "\n",
    "DEBUG (logging.debug()): Usado para pequenos detalhes, usado para diagnóstico de problemas                  \n",
    "INFO (logging.info()): Usado para registro de informações em geral ou para saber se está tudo funcionando.                                          \n",
    "WARNING (logging.warning()): Usado para indicar problema em potencial que não impede o programa de funcionar, mas fará isso no futuro.                              \n",
    "ERROR (logging.error()): Usado para registrar erro que faz o programa falhar.                               \n",
    "CRITICAL (logging.critical()): Usado para indicar erro fatal que fará o programa parar de executar "
   ]
  },
  {
   "cell_type": "code",
   "execution_count": 29,
   "metadata": {},
   "outputs": [
    {
     "name": "stderr",
     "output_type": "stream",
     "text": [
      "2023-02-21 22:31:17,360-DEBUG-Bug details\n",
      "2023-02-21 22:31:17,362-INFO-Log working\n",
      "2023-02-21 22:31:17,363-WARNING-Error message about to be logged\n",
      "2023-02-21 22:31:17,364-ERROR-Error has occurred\n",
      "2023-02-21 22:31:17,365-CRITICAL-Unable to recover\n"
     ]
    }
   ],
   "source": [
    "import logging as log\n",
    "\n",
    "log.basicConfig(level=log.DEBUG, format='%(asctime)s - %(levelname)s - %(message)s')\n",
    "log.debug('Bug details')\n",
    "log.info('Log working')\n",
    "log.warning('Error message about to be logged')\n",
    "log.error('Error has occurred')\n",
    "log.critical('Unable to recover')"
   ]
  },
  {
   "attachments": {},
   "cell_type": "markdown",
   "metadata": {},
   "source": [
    "Ao desenvolver o código, pode-se alterar os logs que poderão ser apresentados, sendo DEBUG a forma de mostrar todos os níveis, e ERROR para apresentar somente erros e críticos."
   ]
  },
  {
   "attachments": {},
   "cell_type": "markdown",
   "metadata": {},
   "source": [
    "Logging em um arquivo:\n",
    "\n",
    "Pode-se adicionar um parâmetro ao logging.basicConfig para salvar as mensagens de log em um arquivo."
   ]
  },
  {
   "cell_type": "code",
   "execution_count": null,
   "metadata": {},
   "outputs": [],
   "source": [
    "import logging as log\n",
    "\n",
    "log.basicConfig(filename = 'myProgramLog.txt', level=log.DEBUG, format='%(asctime)s - %(levelname)s - %(message)s')"
   ]
  }
 ],
 "metadata": {
  "kernelspec": {
   "display_name": "Python 3",
   "language": "python",
   "name": "python3"
  },
  "language_info": {
   "codemirror_mode": {
    "name": "ipython",
    "version": 3
   },
   "file_extension": ".py",
   "mimetype": "text/x-python",
   "name": "python",
   "nbconvert_exporter": "python",
   "pygments_lexer": "ipython3",
   "version": "3.10.6"
  },
  "orig_nbformat": 4,
  "vscode": {
   "interpreter": {
    "hash": "916dbcbb3f70747c44a77c7bcd40155683ae19c65e1c03b4aa3499c5328201f1"
   }
  }
 },
 "nbformat": 4,
 "nbformat_minor": 2
}
