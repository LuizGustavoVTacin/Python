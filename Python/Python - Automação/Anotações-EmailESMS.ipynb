{
 "cells": [
  {
   "attachments": {},
   "cell_type": "markdown",
   "metadata": {},
   "source": [
    "Enviando emails e SMS:\n",
    "\n",
    "Pode-se enviar emails e SMS automaticamente, com módulos apropriados."
   ]
  },
  {
   "attachments": {},
   "cell_type": "markdown",
   "metadata": {},
   "source": [
    "SMTP:\n",
    "\n",
    "SMTP é o protocolo utilizado para envio de emails, enquanto o recebimento é feito pelo IMAP."
   ]
  },
  {
   "attachments": {},
   "cell_type": "markdown",
   "metadata": {},
   "source": [
    "Enviando emails:\n",
    "\n",
    "Módulo utilizado: smtplib"
   ]
  },
  {
   "cell_type": "code",
   "execution_count": null,
   "metadata": {},
   "outputs": [],
   "source": [
    "import smtplib\n",
    "\n",
    "smtpObj = smtplib.SMTP('example@example.com', 587)\n",
    "smtpObj.ehlo()\n",
    "smtpObj.starttls()\n",
    "smtpObj.login('myEmail@email.com','MinhaSenha')\n",
    "smtpObj.sendmail('myEmail@gmail.com','Subject: Teste\\n Teste')\n",
    "smtpObj.quit()"
   ]
  },
  {
   "attachments": {},
   "cell_type": "markdown",
   "metadata": {},
   "source": [
    "Conectando-se a um servidor SMTP:\n",
    "\n",
    "Gmail: smtp.gmail.com                                           \n",
    "Outlook/ Hotmail: smtp-mail.outlook.com                         \n",
    "Yahoo mail: smtp.mail.yahoo.com                                     \n",
    "AT&T: smtp.mail.att.net (porta 465)                             \n",
    "Comcast: smtp.comcast.net                                       \n",
    "Verizon: smtp.verizon.net (porta 465)                           \n",
    "\n",
    "Este endereço de conexão ao servidor será passado no argumento de smtplib.SMTP('smtp.gmail.com', 587)"
   ]
  },
  {
   "cell_type": "code",
   "execution_count": 1,
   "metadata": {},
   "outputs": [],
   "source": [
    "import smtplib\n",
    "\n",
    "smtpObj = smtplib.SMTP('smtp.gmail.com', 587)"
   ]
  },
  {
   "attachments": {},
   "cell_type": "markdown",
   "metadata": {},
   "source": [
    "Se o código acima não for executado, significa que o SMTP não suporta TLS na porta 587. Neste caso, usar: smtplib.SMTP_SSL() e porta 465.\n",
    "\n",
    "Se não houver conexão com a internet,o retorno será: socket.gaierror"
   ]
  },
  {
   "attachments": {},
   "cell_type": "markdown",
   "metadata": {},
   "source": [
    "Em seguida, deve-se fazer conexão com o servidor SMTP, utilizando a função smtplib.ehlo()"
   ]
  },
  {
   "cell_type": "code",
   "execution_count": 2,
   "metadata": {},
   "outputs": [
    {
     "data": {
      "text/plain": [
       "(250,\n",
       " b'smtp.gmail.com at your service, [186.209.70.85]\\nSIZE 35882577\\n8BITMIME\\nSTARTTLS\\nENHANCEDSTATUSCODES\\nPIPELINING\\nSMTPUTF8')"
      ]
     },
     "execution_count": 2,
     "metadata": {},
     "output_type": "execute_result"
    }
   ],
   "source": [
    "import smtplib\n",
    "\n",
    "smtpObj = smtplib.SMTP('smtp.gmail.com', 587)\n",
    "smtpObj.ehlo()"
   ]
  },
  {
   "attachments": {},
   "cell_type": "markdown",
   "metadata": {},
   "source": [
    "Se a saída for o inteiro 250, então a conexão foi bem sucedida"
   ]
  },
  {
   "attachments": {},
   "cell_type": "markdown",
   "metadata": {},
   "source": [
    "Iniciando a criptografia TLS:\n",
    "\n",
    "Passo obrigatório com a função smtpObj.starttls().\n",
    "\n",
    "Se a conexão for feita por SSL, não é necessário este passo."
   ]
  },
  {
   "attachments": {},
   "cell_type": "markdown",
   "metadata": {},
   "source": [
    "Fazendo login no servidor SMTP:\n",
    "\n",
    "Usar senha e emails correspondentes para o login com a função smtpObj.login()\n",
    "\n",
    "A senha deverá ser configurada e só poderá ser usada para o login com python."
   ]
  },
  {
   "cell_type": "code",
   "execution_count": 5,
   "metadata": {},
   "outputs": [
    {
     "data": {
      "text/plain": [
       "(235, b'2.7.0 Accepted')"
      ]
     },
     "execution_count": 5,
     "metadata": {},
     "output_type": "execute_result"
    }
   ],
   "source": [
    "import smtplib\n",
    "\n",
    "smtpObj = smtplib.SMTP('smtp.gmail.com', 587)\n",
    "smtpObj.ehlo()\n",
    "smtpObj.starttls()\n",
    "smtpObj.login()"
   ]
  },
  {
   "attachments": {},
   "cell_type": "markdown",
   "metadata": {},
   "source": [
    "O retorno com o inteiro 235 signica que o login foi aceito"
   ]
  },
  {
   "attachments": {},
   "cell_type": "markdown",
   "metadata": {},
   "source": [
    "Enviando um email:\n",
    "\n",
    "Para enviar email, utilizar a função smtpObj.sendmail() com três argumentos:\n",
    "\n",
    "O email do remetente, email do destinatário e o corpo do email como string.\n",
    "\n",
    "Esta string deve começar com 'Subject:\\n'"
   ]
  },
  {
   "attachments": {},
   "cell_type": "markdown",
   "metadata": {},
   "source": [
    "Desconectando do servidor SMTP:\n",
    "\n",
    "A função smtpObj.quit() é utilizado para a desconexão do servidor"
   ]
  },
  {
   "cell_type": "code",
   "execution_count": 10,
   "metadata": {},
   "outputs": [
    {
     "data": {
      "text/plain": [
       "(221,\n",
       " b'2.0.0 closing connection x124-20020acae082000000b0038440f0f63dsm3567907oig.37 - gsmtp')"
      ]
     },
     "execution_count": 10,
     "metadata": {},
     "output_type": "execute_result"
    }
   ],
   "source": [
    "import smtplib\n",
    "\n",
    "smtpObj = smtplib.SMTP('smtp.gmail.com', 587)\n",
    "smtpObj.ehlo()\n",
    "smtpObj.starttls()\n",
    "smtpObj.login()\n",
    "subject = 'Teste'\n",
    "body = 'Teste para saber ser o email vai ser enviado'\n",
    "msg = f'Subject: {subject}\\n\\n{body}'\n",
    "smtpObj.sendmail('luiz.tacin12@gmail.com','luiz.tacin12@usp.br',msg)\n",
    "smtpObj.quit()"
   ]
  },
  {
   "attachments": {},
   "cell_type": "markdown",
   "metadata": {},
   "source": [
    "IMAP:\n",
    "\n",
    "VER DEPOIS"
   ]
  },
  {
   "attachments": {},
   "cell_type": "markdown",
   "metadata": {},
   "source": [
    "Enviando mensagens de texto com o Twilio:\n",
    "\n",
    "Twilio é um serviço de gateway SMS, mas não é o único.\n",
    "\n",
    "Usar o módulo twilio"
   ]
  },
  {
   "cell_type": "code",
   "execution_count": 6,
   "metadata": {},
   "outputs": [
    {
     "name": "stdout",
     "output_type": "stream",
     "text": [
      "SMf98c912ce47a03e69210e9f2c17c7c67\n"
     ]
    }
   ],
   "source": [
    "from twilio.rest import Client\n",
    "\n",
    "accountSID = ''\n",
    "authToken = ''\n",
    "twilioCli = Client(accountSID, authToken)\n",
    "myTwilioNumber = '+12765315740'\n",
    "myCellPhone = ''\n",
    "\n",
    "message = twilioCli.messages.create(\n",
    "  body=\"Hello from Twilio\",\n",
    "  from_=\"\",\n",
    "  to=\"\"\n",
    ")\n",
    "\n",
    "print(message.sid)"
   ]
  },
  {
   "attachments": {},
   "cell_type": "markdown",
   "metadata": {},
   "source": [
    "Algumas informações podem ser tiradas:\n",
    "\n",
    "message.status: ver o status da mensagem, como queued, etc                                                      \n",
    "message.date_created: ver a data de envio               \n",
    "message.sid: id da mensagem"
   ]
  },
  {
   "attachments": {},
   "cell_type": "markdown",
   "metadata": {},
   "source": [
    "Mensagem via whatsapp:\n",
    "\n",
    "adicionar 'whatsapp:' em from e to"
   ]
  },
  {
   "cell_type": "code",
   "execution_count": 10,
   "metadata": {},
   "outputs": [
    {
     "name": "stdout",
     "output_type": "stream",
     "text": [
      "SM43ece7082fdbab10bfa6941ef4577a6e\n"
     ]
    }
   ],
   "source": [
    "from twilio.rest import Client\n",
    "\n",
    "account_sid = ''\n",
    "auth_token = ''\n",
    "client = Client(account_sid, auth_token)\n",
    "\n",
    "message = client.messages.create(\n",
    "  from_='whatsapp:',\n",
    "  body='Your appointment is coming up on July 21 at 3PM',\n",
    "  to='whatsapp:'\n",
    ")\n",
    "\n",
    "print(message.sid)"
   ]
  }
 ],
 "metadata": {
  "kernelspec": {
   "display_name": "Python 3",
   "language": "python",
   "name": "python3"
  },
  "language_info": {
   "codemirror_mode": {
    "name": "ipython",
    "version": 3
   },
   "file_extension": ".py",
   "mimetype": "text/x-python",
   "name": "python",
   "nbconvert_exporter": "python",
   "pygments_lexer": "ipython3",
   "version": "3.11.2"
  },
  "orig_nbformat": 4,
  "vscode": {
   "interpreter": {
    "hash": "916dbcbb3f70747c44a77c7bcd40155683ae19c65e1c03b4aa3499c5328201f1"
   }
  }
 },
 "nbformat": 4,
 "nbformat_minor": 2
}
