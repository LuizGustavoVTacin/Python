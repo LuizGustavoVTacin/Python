{
 "cells": [
  {
   "attachments": {},
   "cell_type": "markdown",
   "metadata": {},
   "source": [
    "## Numpy:"
   ]
  },
  {
   "attachments": {},
   "cell_type": "markdown",
   "metadata": {},
   "source": [
    "#### Criação de arrays: np.array()    \n",
    "                   \n",
    "* Verificar a dimensão: np.ndim()                     \n",
    "* Verificar tamanho: np.size()                        \n",
    "* Verificar forma: np.shape()                         \n"
   ]
  },
  {
   "cell_type": "code",
   "execution_count": 25,
   "metadata": {},
   "outputs": [
    {
     "name": "stdout",
     "output_type": "stream",
     "text": [
      "Array: [1 2 3], Dimensão: 1, Tamanho: 3, Forma: (3,)\n"
     ]
    }
   ],
   "source": [
    "import numpy as np\n",
    "\n",
    "a = np.array([1,2,3])\n",
    "print(\"Array: %s, Dimensão: %d, Tamanho: %d, Forma: %s\" % (a, np.ndim(a), np.size(a), np.shape(a)))"
   ]
  },
  {
   "attachments": {},
   "cell_type": "markdown",
   "metadata": {},
   "source": [
    "#### Criação de array multidimensionais:\n",
    "\n",
    "A função np.array() aceitará mais linhas de valores para criar array de mais dimensões"
   ]
  },
  {
   "cell_type": "code",
   "execution_count": 26,
   "metadata": {},
   "outputs": [
    {
     "name": "stdout",
     "output_type": "stream",
     "text": [
      "Array: [[1 2]\n",
      " [0 4]], Dimensão: 2, Tamanho: 4, Forma: (2, 2)\n"
     ]
    }
   ],
   "source": [
    "import numpy as np\n",
    "\n",
    "b = np.array([[1,2],[0,4]])\n",
    "print(\"Array: %s, Dimensão: %d, Tamanho: %d, Forma: %s\" % (b, np.ndim(b), np.size(b), np.shape(b)))"
   ]
  },
  {
   "attachments": {},
   "cell_type": "markdown",
   "metadata": {},
   "source": [
    "Numpy aceita vários tipo de dados, como: int, floar, bool, complex, string, etc.\n",
    "\n",
    "Recebendo dados do tipo complex, pode-se criar Arrays com valores complexos"
   ]
  },
  {
   "cell_type": "code",
   "execution_count": 27,
   "metadata": {},
   "outputs": [
    {
     "name": "stdout",
     "output_type": "stream",
     "text": [
      "[[1.+0.j 2.+0.j 3.+0.j]\n",
      " [4.+0.j 5.+0.j 6.+0.j]]\n"
     ]
    }
   ],
   "source": [
    "import numpy as np\n",
    "\n",
    "f = np.array([[1,2,3],[4,5,6]], dtype=complex)\n",
    "print(f)"
   ]
  },
  {
   "attachments": {},
   "cell_type": "markdown",
   "metadata": {},
   "source": [
    "#### Formas Íntrinsecas de criar Array:\n",
    "\n",
    "Numpy permite criar vetores de qualquer dimensão, de forma a completar o vetor com valores.             \n",
    "\n",
    "* np.zeros() cria vetor com 0's                   \n",
    "* np.ones() cria vetor com 1's\n",
    "\n",
    "Para criar com valores definidos, há a função np.arange()\n",
    "Esta função permite criar vetor dado um valor inicial, valor final e o passo.\n",
    "\n",
    "* np.arange()"
   ]
  },
  {
   "cell_type": "code",
   "execution_count": 28,
   "metadata": {},
   "outputs": [
    {
     "name": "stdout",
     "output_type": "stream",
     "text": [
      "Função zeros: [[0. 0. 0.]\n",
      " [0. 0. 0.]\n",
      " [0. 0. 0.]]\n",
      " Função ones: [[1. 1. 1. 1. 1.]]\n",
      " Função arange: [2 4 6 8]\n"
     ]
    }
   ],
   "source": [
    "import numpy as np\n",
    "\n",
    "a = np.zeros((3,3))\n",
    "b = np.ones((1,5))\n",
    "c = np.arange(2, 10, 2)\n",
    "\n",
    "print(\"Função zeros: %s\\n Função ones: %s\\n Função arange: %s\" % (a,b,c))"
   ]
  },
  {
   "attachments": {},
   "cell_type": "markdown",
   "metadata": {},
   "source": [
    "Neste último caso, apenas a função np.arange() sozinha não constrói array multidimensional.\n",
    "\n",
    "Para resolver isto, pode-se adicionar .reshape() para modificar np.arange. O argumento da função reshape é as dimensões desejadas."
   ]
  },
  {
   "cell_type": "code",
   "execution_count": 29,
   "metadata": {},
   "outputs": [
    {
     "name": "stdout",
     "output_type": "stream",
     "text": [
      "[[ 0  1  2  3]\n",
      " [ 4  5  6  7]\n",
      " [ 8  9 10 11]]\n"
     ]
    }
   ],
   "source": [
    "import numpy as np\n",
    "\n",
    "a = np.arange(0,12).reshape(3,4)\n",
    "print(a)"
   ]
  },
  {
   "attachments": {},
   "cell_type": "markdown",
   "metadata": {},
   "source": [
    "Outra função intrínseca é a função np.linspace(). Esta função recebe o valor inicial, valor final e número de intervalos. Com isto, o intervalo entre o valor inicial e final será dividido no número de intervalos de forma simétrica. "
   ]
  },
  {
   "cell_type": "code",
   "execution_count": 30,
   "metadata": {},
   "outputs": [
    {
     "name": "stdout",
     "output_type": "stream",
     "text": [
      "[ 0.          3.33333333  6.66666667 10.        ]\n"
     ]
    }
   ],
   "source": [
    "import numpy as np \n",
    "\n",
    "a = np.linspace(0,10,4)\n",
    "print(a)"
   ]
  },
  {
   "attachments": {},
   "cell_type": "markdown",
   "metadata": {},
   "source": [
    "Por fim, a última função que permite construir arrays, só que com números aleatórios, é a função np.random().\n",
    "\n",
    "Esta função ainda recebe outra subfunção, dependendo da forma de obter valores aleatórios. Estas subfunções podem ser binomial(), uniform(), random(), etc...\n",
    "\n",
    "A função np.random.random pegará valores entre 0 e 1"
   ]
  },
  {
   "cell_type": "code",
   "execution_count": 31,
   "metadata": {},
   "outputs": [
    {
     "name": "stdout",
     "output_type": "stream",
     "text": [
      "[0.7737129  0.67008547 0.87138989]\n"
     ]
    }
   ],
   "source": [
    "import numpy as np \n",
    "\n",
    "a = np.random.random(3)\n",
    "print(a)"
   ]
  },
  {
   "attachments": {},
   "cell_type": "markdown",
   "metadata": {},
   "source": [
    "#### Operações Básicas:\n",
    "\n",
    "Operações aritméticas são aplicadas elemento por elemento"
   ]
  },
  {
   "cell_type": "code",
   "execution_count": 32,
   "metadata": {},
   "outputs": [
    {
     "name": "stdout",
     "output_type": "stream",
     "text": [
      "Soma: [4 5 6 7]\n",
      " Multiplicação: [0 2 4 6] \n",
      " Divisão: [0.         0.33333333 0.66666667 1.        ] \n",
      " Subtração de dois vetores: [ 0.          3.33333333  6.66666667 10.        ] \n",
      "\n"
     ]
    }
   ],
   "source": [
    "import numpy as np \n",
    "\n",
    "a = np.array([0,1,2,3])\n",
    "e = np.linspace(0,10,4)\n",
    "b = a + 4\n",
    "c = a * 2\n",
    "d = a / 3\n",
    "print(\"Soma: %s\\n Multiplicação: %s \\n Divisão: %s \\n Subtração de dois vetores: %s \\n\" % (b, c, d, e))"
   ]
  },
  {
   "attachments": {},
   "cell_type": "markdown",
   "metadata": {},
   "source": [
    "Como as operações aritméticas são aplicadas em elementos, a multiplicação de matrizes são feitas por funções.\n",
    "\n",
    "A função np.dot() realiza esta operação"
   ]
  },
  {
   "cell_type": "code",
   "execution_count": 33,
   "metadata": {},
   "outputs": [
    {
     "name": "stdout",
     "output_type": "stream",
     "text": [
      "[[ 872.14285714  360.          550.71428571]\n",
      " [2811.42857143 1131.42857143 2157.85714286]\n",
      " [4750.71428571 1902.85714286 3765.        ]]\n"
     ]
    }
   ],
   "source": [
    "import numpy as np \n",
    "\n",
    "A = np.linspace(0,30,15).reshape(3,5)\n",
    "B = np.random.randint(0,45,15).reshape(5,3)\n",
    "print(np.dot(A,B))"
   ]
  },
  {
   "attachments": {},
   "cell_type": "markdown",
   "metadata": {},
   "source": [
    "#### Funções Universais:\n",
    "\n",
    "Funções universais são funções do numpy para aplicar funções matemáticas, como log, exp, etc..."
   ]
  },
  {
   "cell_type": "code",
   "execution_count": 34,
   "metadata": {},
   "outputs": [
    {
     "name": "stdout",
     "output_type": "stream",
     "text": [
      "Raiz: 3.162278\n",
      " Log: 1.000000\n",
      " Log de base 2: 3.321928\n",
      " Seno: -0.544021\n",
      " Cosseno: -0.839072\n",
      " Tangente: 0.648361\n",
      " Exponencial: 22026.465795\n",
      "\n"
     ]
    }
   ],
   "source": [
    "import numpy as np\n",
    "\n",
    "valor = 10\n",
    "a = np.sqrt(valor)  #Raiz\n",
    "b = np.log10(valor)\n",
    "c = np.log2(valor)\n",
    "d = np.sin(valor)\n",
    "e = np.cos(valor)\n",
    "f = np.tan(valor) #Tangente\n",
    "g = np.exp(valor)\n",
    "print(\"Raiz: %f\\n Log: %f\\n Log de base 2: %f\\n Seno: %f\\n Cosseno: %f\\n Tangente: %f\\n Exponencial: %f\\n\" %(a,b,c,d,e,f,g))"
   ]
  },
  {
   "attachments": {},
   "cell_type": "markdown",
   "metadata": {},
   "source": [
    "Para a função logaritmica, pode-se definir a base diretamente na sintaxe:\n",
    "\n",
    "np.log (base e)                                     \n",
    "np.log10 (base 10)                                  \n",
    "np.log2 (base 2)                                    "
   ]
  },
  {
   "attachments": {},
   "cell_type": "markdown",
   "metadata": {},
   "source": [
    "#### Funções de Agregação:\n",
    "\n",
    "Funções de agregação permitem extrair dados de arrays, como máximo, média, mínimo, etc..."
   ]
  },
  {
   "cell_type": "code",
   "execution_count": 35,
   "metadata": {},
   "outputs": [
    {
     "name": "stdout",
     "output_type": "stream",
     "text": [
      "Soma: 15.000000\n",
      " Mínimo: 0.300000\n",
      " Máximo: 5.700000\n",
      " Média: 3.000000\n",
      " Desvio Padrão: 2.007984\n",
      "\n"
     ]
    }
   ],
   "source": [
    "import numpy as np\n",
    "\n",
    "a = np.array([3.3, 4.5, 1.2, 5.7, 0.3])\n",
    "print(\"Soma: %f\\n Mínimo: %f\\n Máximo: %f\\n Média: %f\\n Desvio Padrão: %f\\n\" %(a.sum(),a.min(),a.max(),a.mean(),a.std()))"
   ]
  },
  {
   "attachments": {},
   "cell_type": "markdown",
   "metadata": {},
   "source": [
    "Em arrays criados, pode-se acessar valores únicos separadamente.\n",
    "\n",
    "Isto é feito por meio da indexação"
   ]
  },
  {
   "cell_type": "code",
   "execution_count": 36,
   "metadata": {},
   "outputs": [
    {
     "name": "stdout",
     "output_type": "stream",
     "text": [
      "10\n",
      "15\n"
     ]
    }
   ],
   "source": [
    "import numpy as np\n",
    "\n",
    "a = np.arange(10,16)\n",
    "print(a[0])\n",
    "print(a[-1]) #Acessa o primeiro valor em ordem inversa"
   ]
  },
  {
   "attachments": {},
   "cell_type": "markdown",
   "metadata": {},
   "source": [
    "Em arrays multidimensionais, é necessário especificar a posição para cada dimensão"
   ]
  },
  {
   "cell_type": "code",
   "execution_count": 37,
   "metadata": {},
   "outputs": [
    {
     "name": "stdout",
     "output_type": "stream",
     "text": [
      "[[10 11 12]\n",
      " [13 14 15]\n",
      " [16 17 18]] 15\n"
     ]
    }
   ],
   "source": [
    "import numpy as np\n",
    "\n",
    "a = np.arange(10,19).reshape((3,3))\n",
    "\n",
    "print(a, a[1][2])"
   ]
  },
  {
   "attachments": {},
   "cell_type": "markdown",
   "metadata": {},
   "source": [
    "#### Fatiamento:\n",
    "\n",
    "Consiste em tomar partes do array, especificando o intervalo de posições"
   ]
  },
  {
   "cell_type": "code",
   "execution_count": 38,
   "metadata": {},
   "outputs": [
    {
     "name": "stdout",
     "output_type": "stream",
     "text": [
      "[11 12 13 14]\n",
      "[11 13]\n",
      "[10 12 14]\n",
      "[10 12 14]\n",
      "[10 11 12 13 14]\n"
     ]
    }
   ],
   "source": [
    "import numpy as np\n",
    "\n",
    "a = np.arange(10,16)\n",
    "print(a[1:5]) #Pega os valores das posições 1 a 5\n",
    "print(a[1:5:2]) #Pega os valores das posições 1 a 5 com passo 2\n",
    "print(a[::2]) #Pega todos os valores com passo 2\n",
    "print(a[:5:2]) #Pega valores até a posição 5 com passo 2\n",
    "print(a[:5:]) #Pega valores até a posição 5"
   ]
  },
  {
   "attachments": {},
   "cell_type": "markdown",
   "metadata": {},
   "source": [
    "Para arrays multidimensionais, o fatiamento segue o mesmo padrão, porém com número de colchetes igual ao número de dimensões ou com posições separadas por vírgula, "
   ]
  },
  {
   "cell_type": "code",
   "execution_count": 39,
   "metadata": {},
   "outputs": [
    {
     "name": "stdout",
     "output_type": "stream",
     "text": [
      "[10 11 12]\n",
      "[[10 11]\n",
      " [13 14]]\n"
     ]
    }
   ],
   "source": [
    "import numpy as np \n",
    "\n",
    "a = np.arange(10,19).reshape((3,3))\n",
    "print(a[:][0])\n",
    "print(a[0:2,0:2])"
   ]
  },
  {
   "attachments": {},
   "cell_type": "markdown",
   "metadata": {},
   "source": [
    "#### Iteração com Arrays:\n",
    "\n",
    "As iterações com arrays são feitar com a função for"
   ]
  },
  {
   "cell_type": "code",
   "execution_count": 40,
   "metadata": {},
   "outputs": [
    {
     "name": "stdout",
     "output_type": "stream",
     "text": [
      "[10 11 12]\n",
      "[13 14 15]\n",
      "[16 17 18]\n",
      "10\n",
      "11\n",
      "12\n",
      "13\n",
      "14\n",
      "15\n",
      "16\n",
      "17\n",
      "18\n"
     ]
    }
   ],
   "source": [
    "import numpy as np\n",
    "\n",
    "a = np.arange(10,19).reshape((3,3))\n",
    "for i in a:\n",
    "    print(i)\n",
    "for i in a.flat:\n",
    "    print(i)"
   ]
  },
  {
   "attachments": {},
   "cell_type": "markdown",
   "metadata": {},
   "source": [
    "Como altenativa, o numpy oferece funções que evitam loops. Esta função é: np.apply_along_axis() e é dedicada à aplicação de funções de agregação ou funções genéricas criadas.\n",
    "\n",
    "O parâmetro axis vale 0 ou 1, sendo 0 para cálculo de coluna por coluna e 1, para cálculo de linha por linha"
   ]
  },
  {
   "cell_type": "code",
   "execution_count": 41,
   "metadata": {},
   "outputs": [
    {
     "name": "stdout",
     "output_type": "stream",
     "text": [
      "[[5.  5.5 6. ]\n",
      " [6.5 7.  7.5]\n",
      " [8.  8.5 9. ]]\n",
      "[[5.  5.5 6. ]\n",
      " [6.5 7.  7.5]\n",
      " [8.  8.5 9. ]]\n"
     ]
    }
   ],
   "source": [
    "import numpy as np\n",
    "\n",
    "def foo(x):\n",
    "    return x/2\n",
    "\n",
    "a = np.arange(10,19).reshape((3,3))\n",
    "print(np.apply_along_axis(foo, axis=1, arr=a))\n",
    "print(np.apply_along_axis(foo, axis=0, arr=a))\n",
    "\n",
    "\n"
   ]
  },
  {
   "attachments": {},
   "cell_type": "markdown",
   "metadata": {},
   "source": [
    "#### Condições e Arrays Booleanos:\n",
    "\n",
    "Como alternativa para filtragem de arrays, pode implementar condições para testagem de dados."
   ]
  },
  {
   "cell_type": "code",
   "execution_count": 42,
   "metadata": {},
   "outputs": [
    {
     "name": "stdout",
     "output_type": "stream",
     "text": [
      "[ True  True False False False]\n"
     ]
    }
   ],
   "source": [
    "import numpy as np \n",
    "\n",
    "a = np.arange(0,5)\n",
    "b = a < 2\n",
    "print(b)"
   ]
  },
  {
   "attachments": {},
   "cell_type": "markdown",
   "metadata": {},
   "source": [
    "#### Manipulação de Formatos de arrays:\n",
    "\n",
    "Arrays podem ser transformados em matrizes e vice-versa. \n",
    "\n",
    "* O comando reshape() transforma array em matriz\n",
    "* O comando ravel() transforma matriz em array\n",
    "* O comando transpose() transpõe matrizes"
   ]
  },
  {
   "cell_type": "code",
   "execution_count": 43,
   "metadata": {},
   "outputs": [
    {
     "name": "stdout",
     "output_type": "stream",
     "text": [
      "[10 11 12 13 14 15 16 17 18]\n",
      "[[10 11 12]\n",
      " [13 14 15]\n",
      " [16 17 18]]\n",
      "[10 11 12 13 14 15 16 17 18]\n"
     ]
    }
   ],
   "source": [
    "import numpy as np\n",
    "\n",
    "a = np.arange(10,19)\n",
    "b = a.reshape((3,3))\n",
    "c = b.ravel()\n",
    "print(a)\n",
    "print(b)\n",
    "print(c)"
   ]
  },
  {
   "attachments": {},
   "cell_type": "markdown",
   "metadata": {},
   "source": [
    "#### Joining Arrays: \n",
    "\n",
    "Pode-se combinar arrays para formar um único.\n",
    "\n",
    "* Função hstack() combina vetores adicionando como colunas\n",
    "* Função vstack() combina vetores aumentado 1 dimensão"
   ]
  },
  {
   "cell_type": "code",
   "execution_count": 44,
   "metadata": {},
   "outputs": [
    {
     "name": "stdout",
     "output_type": "stream",
     "text": [
      "[[[1. 1. 1.]\n",
      "  [1. 1. 1.]\n",
      "  [1. 1. 1.]]\n",
      "\n",
      " [[0. 0. 0.]\n",
      "  [0. 0. 0.]\n",
      "  [0. 0. 0.]]]\n",
      "3 18 (2, 3, 3)\n",
      "[[1. 1. 1. 0. 0. 0.]\n",
      " [1. 1. 1. 0. 0. 0.]\n",
      " [1. 1. 1. 0. 0. 0.]]\n",
      "2 18 (3, 6)\n"
     ]
    }
   ],
   "source": [
    "import numpy as np\n",
    "\n",
    "a = np.ones((3,3))\n",
    "b = np.zeros((3,3))\n",
    "c = np.stack((a,b))\n",
    "print(c); print(np.ndim(c), np.size(c), np.shape(c))\n",
    "d = np.hstack((a,b))\n",
    "print(d); print(np.ndim(d), np.size(d), np.shape(d))"
   ]
  },
  {
   "attachments": {},
   "cell_type": "markdown",
   "metadata": {},
   "source": [
    "#### Para arrays 1D, usam-se as funções:\n",
    "\n",
    "* Função column_stack() para juntá-los por colunas\n",
    "* Função row_stack() para juntá-los por linhas"
   ]
  },
  {
   "cell_type": "code",
   "execution_count": 45,
   "metadata": {},
   "outputs": [
    {
     "name": "stdout",
     "output_type": "stream",
     "text": [
      "[[0 5]\n",
      " [1 6]\n",
      " [2 7]\n",
      " [3 8]\n",
      " [4 9]]\n",
      "[[0 1 2 3 4]\n",
      " [5 6 7 8 9]]\n"
     ]
    }
   ],
   "source": [
    "import numpy as np \n",
    "\n",
    "a = np.arange(0,5)\n",
    "b = np.arange(5,10)\n",
    "c = np.column_stack((a,b))\n",
    "d = np.row_stack((a,b))\n",
    "\n",
    "print(c)\n",
    "print(d)"
   ]
  },
  {
   "attachments": {},
   "cell_type": "markdown",
   "metadata": {},
   "source": [
    "#### Splitting Arrays: \n",
    "\n",
    "Pode-se separar um array em outros.\n",
    "\n",
    "* hsplit separa o array pela coluna\n",
    "* vsplit separa o array pela linha"
   ]
  },
  {
   "cell_type": "code",
   "execution_count": 46,
   "metadata": {},
   "outputs": [
    {
     "name": "stdout",
     "output_type": "stream",
     "text": [
      "[[ 0  1]\n",
      " [ 4  5]\n",
      " [ 8  9]\n",
      " [12 13]]\n",
      "[[ 2  3]\n",
      " [ 6  7]\n",
      " [10 11]\n",
      " [14 15]]\n",
      "[[0 1 2 3]\n",
      " [4 5 6 7]]\n",
      "[[ 8  9 10 11]\n",
      " [12 13 14 15]]\n"
     ]
    }
   ],
   "source": [
    "import numpy as np \n",
    "\n",
    "a = np.arange(16).reshape(4,4) \n",
    "\n",
    "[b,c] = np.hsplit(a,2)\n",
    "print(b)\n",
    "print(c)\n",
    "[d,e] = np.vsplit(a,2)\n",
    "print(d)\n",
    "print(e)"
   ]
  },
  {
   "attachments": {},
   "cell_type": "markdown",
   "metadata": {},
   "source": [
    "#### Para divisões não simétricas: \n",
    "\n",
    "Função split() recebe os parâmetros: array, divisões em linhas e colunas e axis"
   ]
  },
  {
   "cell_type": "code",
   "execution_count": 47,
   "metadata": {},
   "outputs": [
    {
     "name": "stdout",
     "output_type": "stream",
     "text": [
      "[[ 0]\n",
      " [ 4]\n",
      " [ 8]\n",
      " [12]]\n",
      "[[ 1  2]\n",
      " [ 5  6]\n",
      " [ 9 10]\n",
      " [13 14]]\n",
      "[[ 3]\n",
      " [ 7]\n",
      " [11]\n",
      " [15]]\n"
     ]
    }
   ],
   "source": [
    "import numpy as np\n",
    "\n",
    "a = np.arange(0,16).reshape(4,4)\n",
    "[a1,a2,a3] = np.split(a, [1,3], axis=1)\n",
    "print(a1)\n",
    "print(a2)\n",
    "print(a3)"
   ]
  },
  {
   "attachments": {},
   "cell_type": "markdown",
   "metadata": {},
   "source": [
    "#### Conceitos Gerais:\n",
    "\n",
    "Fazer a = c não copiará vetores, fazendo com que haja alteração nas duas variáveis.\n",
    "\n",
    "Para copiar vetores, usar: np.copy()"
   ]
  },
  {
   "cell_type": "code",
   "execution_count": 48,
   "metadata": {},
   "outputs": [
    {
     "name": "stdout",
     "output_type": "stream",
     "text": [
      "[1 2 3 4]\n"
     ]
    }
   ],
   "source": [
    "import numpy as np \n",
    "\n",
    "a = np.array([1,2,3,4])\n",
    "c = a.copy()\n",
    "print(c)"
   ]
  },
  {
   "attachments": {},
   "cell_type": "markdown",
   "metadata": {},
   "source": [
    "#### Salvando e Abrindo dados de Arquivos Binários:\n",
    "\n",
    "np.save('nome_do_arquivo', data) salvará o arquivo  na extensão .npy.\n",
    "\n",
    "* Salvar: dados = np.save('nome_do_arquivo.py')       \n",
    "* Abrir: dados = np.load('nome_do_arquivo.py')"
   ]
  },
  {
   "attachments": {},
   "cell_type": "markdown",
   "metadata": {},
   "source": [
    "#### Abrindo dados de TXT ou CSV: \n",
    "\n",
    "* data = np.getfromtxt('arquivo.csv', delimiter = ',', names = True )                                     \n",
    "A função recebe como parãmetro o delimitador que separa os dados"
   ]
  },
  {
   "attachments": {},
   "cell_type": "markdown",
   "metadata": {},
   "source": [
    "#### Adicionais:\n",
    "\n",
    "np.meshgrid gera uma grade retangular a partir de arrays 1D calculando o valor dos pontos.\n",
    "\n",
    "* Exemplo de uso:                                     \n",
    "xx, yy = np.meshgrid(np.arange(x_min, x_max, h), np.arange(y_min, y_max, h))\n",
    "\n",
    "np.c concatena dois arrays ou mais como colunas\n",
    "\n",
    "* Exemplo de uso:\n",
    "knn.predict(np.c_[xx.ravel(), yy.ravel()]) "
   ]
  }
 ],
 "metadata": {
  "kernelspec": {
   "display_name": "Python 3",
   "language": "python",
   "name": "python3"
  },
  "language_info": {
   "codemirror_mode": {
    "name": "ipython",
    "version": 3
   },
   "file_extension": ".py",
   "mimetype": "text/x-python",
   "name": "python",
   "nbconvert_exporter": "python",
   "pygments_lexer": "ipython3",
   "version": "3.10.7"
  },
  "orig_nbformat": 4,
  "vscode": {
   "interpreter": {
    "hash": "916dbcbb3f70747c44a77c7bcd40155683ae19c65e1c03b4aa3499c5328201f1"
   }
  }
 },
 "nbformat": 4,
 "nbformat_minor": 2
}
