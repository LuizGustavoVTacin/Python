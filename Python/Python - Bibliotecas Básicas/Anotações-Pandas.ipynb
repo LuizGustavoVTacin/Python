{
 "cells": [
  {
   "attachments": {},
   "cell_type": "markdown",
   "metadata": {},
   "source": [
    "## Pandas:\n",
    "\n",
    "Series: equivalente ao array (1D) do numpy, porém, com Pandas, os arrays são compostos de valores e index."
   ]
  },
  {
   "cell_type": "code",
   "execution_count": 1,
   "metadata": {},
   "outputs": [
    {
     "name": "stdout",
     "output_type": "stream",
     "text": [
      "0    12\n",
      "1    -4\n",
      "2     7\n",
      "3     9\n",
      "dtype: int64\n"
     ]
    }
   ],
   "source": [
    "import pandas as pd\n",
    "\n",
    "s = pd.Series([12, -4, 7, 9])\n",
    "print(s)"
   ]
  },
  {
   "attachments": {},
   "cell_type": "markdown",
   "metadata": {},
   "source": [
    "Estes index poderão ser trocados para valores ou strings desejados."
   ]
  },
  {
   "cell_type": "code",
   "execution_count": 2,
   "metadata": {},
   "outputs": [
    {
     "name": "stdout",
     "output_type": "stream",
     "text": [
      "a    12\n",
      "b    -4\n",
      "c     7\n",
      "d     9\n",
      "dtype: int64\n"
     ]
    }
   ],
   "source": [
    "s = pd.Series([12, -4, 7, 9], index=['a','b','c','d'])\n",
    "print(s)"
   ]
  },
  {
   "attachments": {},
   "cell_type": "markdown",
   "metadata": {},
   "source": [
    "Para obter somente os valores ou os index, há métodos para isso com values e index."
   ]
  },
  {
   "cell_type": "code",
   "execution_count": 3,
   "metadata": {},
   "outputs": [
    {
     "name": "stdout",
     "output_type": "stream",
     "text": [
      "Index(['a', 'b', 'c', 'd'], dtype='object')\n",
      "[12 -4  7  9]\n"
     ]
    }
   ],
   "source": [
    "import pandas as pd\n",
    "\n",
    "s = pd.Series([12, -4, 7, 9], index=['a','b','c','d'])\n",
    "print(s.index)\n",
    "print(s.values)"
   ]
  },
  {
   "attachments": {},
   "cell_type": "markdown",
   "metadata": {},
   "source": [
    "Da mesma forma, os elementos internos poderão ser acessados separadamente"
   ]
  },
  {
   "cell_type": "code",
   "execution_count": 4,
   "metadata": {},
   "outputs": [
    {
     "name": "stdout",
     "output_type": "stream",
     "text": [
      "7\n",
      "-4\n",
      "a    12\n",
      "b    -4\n",
      "dtype: int64\n"
     ]
    }
   ],
   "source": [
    "import pandas as pd\n",
    "\n",
    "s = pd.Series([12, -4, 7, 9], index=['a','b','c','d'])\n",
    "print(s[2])\n",
    "print(s['b'])\n",
    "print(s[0:2])"
   ]
  },
  {
   "attachments": {},
   "cell_type": "markdown",
   "metadata": {},
   "source": [
    "A atribuição de valores é feita da mesma forma"
   ]
  },
  {
   "cell_type": "code",
   "execution_count": 5,
   "metadata": {},
   "outputs": [
    {
     "name": "stdout",
     "output_type": "stream",
     "text": [
      "a    12\n",
      "b     1\n",
      "c     7\n",
      "d     9\n",
      "dtype: int64\n"
     ]
    }
   ],
   "source": [
    "import pandas as pd\n",
    "\n",
    "s = pd.Series([12, -4, 7, 9], index=['a','b','c','d'])\n",
    "s['b'] = 1\n",
    "print(s)"
   ]
  },
  {
   "attachments": {},
   "cell_type": "markdown",
   "metadata": {},
   "source": [
    "Como dito, array do numpy e Series do pandas são equivalentes e para convertê-los, pode-se utilizar funções das bibliotecas."
   ]
  },
  {
   "cell_type": "code",
   "execution_count": 6,
   "metadata": {},
   "outputs": [
    {
     "name": "stdout",
     "output_type": "stream",
     "text": [
      "0    1\n",
      "1    2\n",
      "2    3\n",
      "3    4\n",
      "dtype: int32\n",
      "[1 2 3 4]\n"
     ]
    }
   ],
   "source": [
    "import pandas as pd\n",
    "import numpy as np\n",
    "\n",
    "arr = np.array([1,2,3,4])\n",
    "serie = pd.Series(arr)\n",
    "print(serie)\n",
    "arr2 = np.array(serie)\n",
    "print(arr2)"
   ]
  },
  {
   "attachments": {},
   "cell_type": "markdown",
   "metadata": {},
   "source": [
    "#### Filtrando valores:\n",
    "\n",
    "Pode-se criar condições de filtragem de valores dentro das Series para extrair valores desejados."
   ]
  },
  {
   "cell_type": "code",
   "execution_count": 7,
   "metadata": {},
   "outputs": [
    {
     "data": {
      "text/plain": [
       "0    12\n",
       "3     9\n",
       "dtype: int64"
      ]
     },
     "execution_count": 7,
     "metadata": {},
     "output_type": "execute_result"
    }
   ],
   "source": [
    "import pandas as pd\n",
    "\n",
    "s = pd.Series([12, -4, 7, 9])\n",
    "s[s > 8]"
   ]
  },
  {
   "attachments": {},
   "cell_type": "markdown",
   "metadata": {},
   "source": [
    "A aplicação de operações matemáticas em pandas ocorre da mesma forma que no numpy"
   ]
  },
  {
   "attachments": {},
   "cell_type": "markdown",
   "metadata": {},
   "source": [
    "#### Analisando valores:\n",
    "\n",
    "* s.unique(): Exibir valores de Series sem repetições     \n",
    "* s.value_counts(): Exibir quantos valores diferentes há na Serie.                                            \n",
    "* s.isin(): Dado o argumento, verifica-se os número passados estão na Serie e retorna booleanos para o index encontrado com o valor"
   ]
  },
  {
   "cell_type": "code",
   "execution_count": 8,
   "metadata": {},
   "outputs": [
    {
     "name": "stdout",
     "output_type": "stream",
     "text": [
      "[1 0 2 3 4]\n",
      "1    2\n",
      "0    2\n",
      "2    1\n",
      "3    1\n",
      "4    1\n",
      "dtype: int64\n",
      "0    False\n",
      "1    False\n",
      "2     True\n",
      "3     True\n",
      "4    False\n",
      "5    False\n",
      "6    False\n",
      "dtype: bool\n"
     ]
    }
   ],
   "source": [
    "import pandas as pd\n",
    "\n",
    "s = pd.Series([1, 0, 2, 3, 1, 4, 0])\n",
    "print(s.unique())\n",
    "print(s.value_counts())\n",
    "print(s.isin([2,3]))"
   ]
  },
  {
   "attachments": {},
   "cell_type": "markdown",
   "metadata": {},
   "source": [
    "#### Valores NaN:\n",
    "\n",
    "Valores NotANumber, NaN, retorna em operações com problemas, como log de número negativo, divisão por zero, etc...\n",
    "\n",
    "Em alguns casos, pode-se inserir o NaN dentro de uma Serie, com np.NaN. E, para encontrá-los pode-se usar isnull() para verificar se é NaN, retornando True se NaN e notnull, realizando o inverso."
   ]
  },
  {
   "cell_type": "code",
   "execution_count": 9,
   "metadata": {},
   "outputs": [
    {
     "name": "stdout",
     "output_type": "stream",
     "text": [
      "0     5.0\n",
      "1    -3.0\n",
      "2     NaN\n",
      "3    14.0\n",
      "dtype: float64\n",
      "0    False\n",
      "1    False\n",
      "2     True\n",
      "3    False\n",
      "dtype: bool\n",
      "0     True\n",
      "1     True\n",
      "2    False\n",
      "3     True\n",
      "dtype: bool\n"
     ]
    }
   ],
   "source": [
    "import pandas as pd\n",
    "import numpy as np\n",
    "\n",
    "s = pd.Series([5, -3, np.NaN, 14])\n",
    "print(s)\n",
    "print(s.isnull())\n",
    "print(s.notnull())"
   ]
  },
  {
   "attachments": {},
   "cell_type": "markdown",
   "metadata": {},
   "source": [
    "#### Series como Dicionários:\n",
    "\n",
    "Series podem ser criadas a partir de dicionários."
   ]
  },
  {
   "cell_type": "code",
   "execution_count": 10,
   "metadata": {},
   "outputs": [
    {
     "name": "stdout",
     "output_type": "stream",
     "text": [
      "red       2000\n",
      "blue      1000\n",
      "yellow     500\n",
      "orange    1000\n",
      "dtype: int64\n"
     ]
    }
   ],
   "source": [
    "import pandas as pd\n",
    "\n",
    "Dict = {'red':2000,'blue':1000,'yellow':500,'orange':1000}\n",
    "Series = pd.Series(Dict)\n",
    "print(Series)"
   ]
  },
  {
   "attachments": {},
   "cell_type": "markdown",
   "metadata": {},
   "source": [
    "#### Operações entre Series:\n",
    "\n",
    "Operações entre Series, como adição, são feitas apenas em valores, cujos index são iguais."
   ]
  },
  {
   "cell_type": "code",
   "execution_count": 11,
   "metadata": {},
   "outputs": [
    {
     "name": "stdout",
     "output_type": "stream",
     "text": [
      "black        NaN\n",
      "blue         NaN\n",
      "orange       NaN\n",
      "red       2400.0\n",
      "yellow    1500.0\n",
      "dtype: float64\n"
     ]
    }
   ],
   "source": [
    "import pandas as pd\n",
    "\n",
    "Dict = {'red':2000,'blue':1000,'yellow':500,'orange':1000}\n",
    "Series = pd.Series(Dict)\n",
    "Dict2 = {'red':400,'yellow':1000,'black':700}\n",
    "Series2 = pd.Series(Dict2)\n",
    "print(Series + Series2)\n"
   ]
  },
  {
   "attachments": {},
   "cell_type": "markdown",
   "metadata": {},
   "source": [
    "#### Dataframes:\n",
    "\n",
    "Dataframes são Series de mais dimensões."
   ]
  },
  {
   "cell_type": "code",
   "execution_count": 12,
   "metadata": {},
   "outputs": [
    {
     "name": "stdout",
     "output_type": "stream",
     "text": [
      "    color  object  price\n",
      "0    blue    ball    1.2\n",
      "1   green     pen    1.0\n",
      "2  yellow  pencil    0.6\n",
      "3     red   paper    0.9\n",
      "4   white     mug    1.7\n",
      "   object  price\n",
      "0    ball    1.2\n",
      "1     pen    1.0\n",
      "2  pencil    0.6\n",
      "3   paper    0.9\n",
      "4     mug    1.7\n"
     ]
    }
   ],
   "source": [
    "import pandas as pd\n",
    "\n",
    "data = {'color': ['blue','green','yellow','red','white'],\n",
    "        'object':['ball','pen','pencil','paper','mug'],\n",
    "        'price':[1.2, 1, 0.6, 0.9, 1.7]}\n",
    "frame = pd.DataFrame(data)\n",
    "frame2 = pd.DataFrame(data, columns=['object','price'])\n",
    "print(frame)\n",
    "print(frame2)"
   ]
  },
  {
   "attachments": {},
   "cell_type": "markdown",
   "metadata": {},
   "source": [
    "Se nem todas as colunas do Dataframe são desejadas, recria-se o dataframe, especificando as colunas"
   ]
  },
  {
   "attachments": {},
   "cell_type": "markdown",
   "metadata": {},
   "source": [
    "Ainda, há outra forma de criar dataframes, usando np.arange().reshape()"
   ]
  },
  {
   "cell_type": "code",
   "execution_count": 13,
   "metadata": {},
   "outputs": [
    {
     "name": "stdout",
     "output_type": "stream",
     "text": [
      "        ball  pen  pencil  paper\n",
      "red        0    1       2      3\n",
      "blue       4    5       6      7\n",
      "yellow     8    9      10     11\n",
      "white     12   13      14     15\n"
     ]
    }
   ],
   "source": [
    "import pandas as pd\n",
    "import numpy as np\n",
    "\n",
    "frame3 = pd.DataFrame(np.arange(16).reshape(4,4),\n",
    "                      index= ['red','blue','yellow','white'],\n",
    "                      columns= ['ball', 'pen', 'pencil', 'paper'])\n",
    "print(frame3)"
   ]
  },
  {
   "attachments": {},
   "cell_type": "markdown",
   "metadata": {},
   "source": [
    "Para exibir o nome das colunas, index e valores do Dataframe:\n",
    "\n",
    "usar: frame3.columns, frame3.index e frame3.values"
   ]
  },
  {
   "attachments": {},
   "cell_type": "markdown",
   "metadata": {},
   "source": [
    "Para saber os valores de coluna, linha, index, valores ou colunas ou valores únicos, o código abaixo mostra funções apropriadas"
   ]
  },
  {
   "cell_type": "code",
   "execution_count": 14,
   "metadata": {},
   "outputs": [
    {
     "name": "stdout",
     "output_type": "stream",
     "text": [
      "Dataframe: \n",
      "    color  object  price\n",
      "0    blue    ball    1.2\n",
      "1   green     pen    1.0\n",
      "2  yellow  pencil    0.6\n",
      "3     red   paper    0.9\n",
      "4   white     mug    1.7\n",
      "Colunas: \n",
      "Index(['color', 'object', 'price'], dtype='object')\n",
      "Index: \n",
      "RangeIndex(start=0, stop=5, step=1)\n",
      "Valores: \n",
      "[['blue' 'ball' 1.2]\n",
      " ['green' 'pen' 1.0]\n",
      " ['yellow' 'pencil' 0.6]\n",
      " ['red' 'paper' 0.9]\n",
      " ['white' 'mug' 1.7]]\n",
      "Coluna Price\n",
      "0    1.2\n",
      "1    1.0\n",
      "2    0.6\n",
      "3    0.9\n",
      "4    1.7\n",
      "Name: price, dtype: float64\n",
      "Linha 2: \n",
      "color     yellow\n",
      "object    pencil\n",
      "price        0.6\n",
      "Name: 2, dtype: object\n",
      "Valor único: \n",
      "paper\n"
     ]
    }
   ],
   "source": [
    "import pandas as pd\n",
    "import numpy as np\n",
    "\n",
    "data = {'color': ['blue','green','yellow','red','white'],\n",
    "        'object':['ball','pen','pencil','paper','mug'],\n",
    "        'price':[1.2, 1, 0.6, 0.9, 1.7]}\n",
    "frame3 = pd.DataFrame(data)\n",
    "print('Dataframe: ')\n",
    "print(frame3)\n",
    "print('Colunas: ')\n",
    "print(frame3.columns)\n",
    "print('Index: ')\n",
    "print(frame3.index)\n",
    "print('Valores: ')\n",
    "print(frame3.values)\n",
    "print('Coluna Price')\n",
    "print(frame3['price'])\n",
    "print('Linha 2: ')\n",
    "print(frame3.loc[2])\n",
    "print('Valor único: ')\n",
    "print(frame3['object'][3])"
   ]
  },
  {
   "attachments": {},
   "cell_type": "markdown",
   "metadata": {},
   "source": [
    "#### Atribuindo valores:\n",
    "\n",
    "Com a atribuição de valores, pode-se nomear as colunas e os index, de forma a descrever as colunas, e não mudar nomes."
   ]
  },
  {
   "cell_type": "code",
   "execution_count": 15,
   "metadata": {},
   "outputs": [
    {
     "name": "stdout",
     "output_type": "stream",
     "text": [
      "Infos     color valores\n",
      "Produtos               \n",
      "0           red     1.6\n",
      "1          blue     2.5\n",
      "2         green     3.8\n"
     ]
    }
   ],
   "source": [
    "import pandas as pd\n",
    "\n",
    "df = pd.DataFrame({'color': ['red','blue','green'],\n",
    "                   'valores': ['1.6','2.5','3.8']})\n",
    "df.columns.name = 'Infos'\n",
    "df.index.name = 'Produtos'\n",
    "print(df)"
   ]
  },
  {
   "attachments": {},
   "cell_type": "markdown",
   "metadata": {},
   "source": [
    "#### Substituindo valores:\n",
    "\n",
    "Em um dataframe criado e importado em uma variável, é possível mudar atributos dele, como valores, colunas e index."
   ]
  },
  {
   "cell_type": "code",
   "execution_count": 16,
   "metadata": {},
   "outputs": [
    {
     "name": "stdout",
     "output_type": "stream",
     "text": [
      "   color valores\n",
      "g    red     5.2\n",
      "f   blue     2.5\n",
      "3  black     3.8\n"
     ]
    }
   ],
   "source": [
    "import pandas as pd\n",
    "\n",
    "df = pd.DataFrame({'color': ['red','blue','green'],\n",
    "                   'valores': ['1.6','2.5','3.8']}, index=['a','b','c'])\n",
    "df['color'][2] = 'black'\n",
    "df['valores'][0] = '5.2'\n",
    "df.index = ['g','f','3']\n",
    "print(df)"
   ]
  },
  {
   "attachments": {},
   "cell_type": "markdown",
   "metadata": {},
   "source": [
    "#### Adicionando colunas:\n",
    "\n",
    "Novos dados podem ser inseridos no dataframe."
   ]
  },
  {
   "cell_type": "code",
   "execution_count": 17,
   "metadata": {},
   "outputs": [
    {
     "name": "stdout",
     "output_type": "stream",
     "text": [
      "   color valores  Quantity\n",
      "a    red     1.6        52\n",
      "b   blue     2.5        23\n",
      "c  green     3.8        15\n"
     ]
    }
   ],
   "source": [
    "import pandas as pd\n",
    "\n",
    "df = pd.DataFrame({'color': ['red','blue','green'],\n",
    "                   'valores': ['1.6','2.5','3.8']}, index=['a','b','c'])\n",
    "df['Quantity'] = [52, 23, 15]\n",
    "print(df)"
   ]
  },
  {
   "attachments": {},
   "cell_type": "markdown",
   "metadata": {},
   "source": [
    "#### Deletando colunas:\n",
    "\n",
    "A função 'del frame' pode ser usada para excluir uma coluna de um dataframe"
   ]
  },
  {
   "cell_type": "code",
   "execution_count": 18,
   "metadata": {},
   "outputs": [
    {
     "name": "stdout",
     "output_type": "stream",
     "text": [
      "   color\n",
      "a    red\n",
      "b   blue\n",
      "c  green\n"
     ]
    }
   ],
   "source": [
    "import pandas as pd\n",
    "\n",
    "df = pd.DataFrame({'color': ['red','blue','green'],\n",
    "                   'valores': ['1.6','2.5','3.8']}, index=['a','b','c'])\n",
    "del df['valores']\n",
    "print(df)"
   ]
  },
  {
   "attachments": {},
   "cell_type": "markdown",
   "metadata": {},
   "source": [
    "#### Filtrando valores:\n",
    "\n",
    "A filtragem em dataframes pode ser feita da mesma forma que em Serie.\n",
    "\n",
    "Para a filtragem de valores, é necessário converter strings em inteiros."
   ]
  },
  {
   "cell_type": "code",
   "execution_count": 19,
   "metadata": {},
   "outputs": [
    {
     "name": "stdout",
     "output_type": "stream",
     "text": [
      "   color  valores\n",
      "b   blue      2.5\n",
      "c  green      3.8\n"
     ]
    }
   ],
   "source": [
    "import pandas as pd\n",
    "\n",
    "df = pd.DataFrame({'color': ['red','blue','green'],\n",
    "                   'valores': ['1.6','2.5','3.8']}, index=['a','b','c'])\n",
    "df['valores'] = df['valores'].astype(float)\n",
    "df_filtrado = df[df['valores'] > 2.4]\n",
    "print(df_filtrado)"
   ]
  },
  {
   "attachments": {},
   "cell_type": "markdown",
   "metadata": {},
   "source": [
    "#### Transposição do Dataframe:\n",
    "\n",
    "A transposição do dataframe é feita com o atributo .T"
   ]
  },
  {
   "cell_type": "code",
   "execution_count": 20,
   "metadata": {},
   "outputs": [
    {
     "name": "stdout",
     "output_type": "stream",
     "text": [
      "   color valores\n",
      "a    red     1.6\n",
      "b   blue     2.5\n",
      "c  green     3.8\n",
      "           a     b      c\n",
      "color    red  blue  green\n",
      "valores  1.6   2.5    3.8\n"
     ]
    }
   ],
   "source": [
    "import pandas as pd\n",
    "\n",
    "df = pd.DataFrame({'color': ['red','blue','green'],\n",
    "                   'valores': ['1.6','2.5','3.8']}, index=['a','b','c'])\n",
    "print(df)\n",
    "df = df.T\n",
    "print(df)"
   ]
  },
  {
   "attachments": {},
   "cell_type": "markdown",
   "metadata": {},
   "source": [
    "#### Métodos no Index:\n",
    "\n",
    "Os objetos idxmin() e idxmax() retornam o id com o menor valor e maior valor."
   ]
  },
  {
   "cell_type": "code",
   "execution_count": 21,
   "metadata": {},
   "outputs": [
    {
     "name": "stdout",
     "output_type": "stream",
     "text": [
      "0\n",
      "2\n"
     ]
    }
   ],
   "source": [
    "import pandas as pd\n",
    "\n",
    "df = pd.DataFrame({'color': ['red','blue','green'],\n",
    "                   'valores': [1.6,2.5,3.8]})\n",
    "print(df['valores'].idxmin())\n",
    "print(df['valores'].idxmax())"
   ]
  },
  {
   "attachments": {},
   "cell_type": "markdown",
   "metadata": {},
   "source": [
    "#### Index com nomes duplicados:\n",
    "\n",
    "Verificar se há index duplicados com o atributo is_unique"
   ]
  },
  {
   "cell_type": "code",
   "execution_count": 22,
   "metadata": {},
   "outputs": [
    {
     "name": "stdout",
     "output_type": "stream",
     "text": [
      "True\n"
     ]
    }
   ],
   "source": [
    "import pandas as pd\n",
    "\n",
    "df = pd.DataFrame({'color': ['red','blue','green'],\n",
    "                   'valores': [1.6,2.5,3.8]})\n",
    "print(df.index.is_unique)"
   ]
  },
  {
   "attachments": {},
   "cell_type": "markdown",
   "metadata": {},
   "source": [
    "#### Outras Funcionalidades do Index:\n",
    "\n",
    "Como não há possibilidades de indexar um Array após a criação do Array, há a possibilidade de utilizar a função reindex()."
   ]
  },
  {
   "cell_type": "code",
   "execution_count": 23,
   "metadata": {},
   "outputs": [
    {
     "name": "stdout",
     "output_type": "stream",
     "text": [
      "one      2\n",
      "two      5\n",
      "three    7\n",
      "four     4\n",
      "dtype: int64\n"
     ]
    }
   ],
   "source": [
    "import pandas as pd\n",
    "\n",
    "A = pd.Series([2, 5, 7, 4], index=['one','two','three','four'])\n",
    "A = A.reindex(['one', 'two', 'three', 'four'])\n",
    "print(A)"
   ]
  },
  {
   "attachments": {},
   "cell_type": "markdown",
   "metadata": {},
   "source": [
    "Outra possibilidade é fazer o reindex em um intervalo definido para os valores cobrirem tal intervalo"
   ]
  },
  {
   "cell_type": "code",
   "execution_count": 24,
   "metadata": {},
   "outputs": [
    {
     "name": "stdout",
     "output_type": "stream",
     "text": [
      "0    1\n",
      "1    1\n",
      "2    1\n",
      "3    5\n",
      "4    5\n",
      "5    6\n",
      "dtype: int64\n"
     ]
    }
   ],
   "source": [
    "import pandas as pd\n",
    "\n",
    "B = pd.Series([1, 5, 6, 3], index = [0, 3, 5, 6])\n",
    "B = B.reindex(range(6), method = 'ffill')\n",
    "print(B)"
   ]
  },
  {
   "attachments": {},
   "cell_type": "markdown",
   "metadata": {},
   "source": [
    "#### Dropping:\n",
    "\n",
    "Função utilizada para deletar linhas ou colunas"
   ]
  },
  {
   "cell_type": "code",
   "execution_count": 25,
   "metadata": {},
   "outputs": [
    {
     "name": "stdout",
     "output_type": "stream",
     "text": [
      "red      0\n",
      "blue     1\n",
      "white    3\n",
      "dtype: int32\n",
      "red    0\n",
      "dtype: int32\n"
     ]
    }
   ],
   "source": [
    "import pandas as pd\n",
    "import numpy as np\n",
    "\n",
    "A = pd.Series(np.arange(4), index = ['red', 'blue', 'yellow', 'white'])\n",
    "A = A.drop('yellow')\n",
    "print(A)\n",
    "A = A.drop(['blue', 'white'])\n",
    "print(A)"
   ]
  },
  {
   "attachments": {},
   "cell_type": "markdown",
   "metadata": {},
   "source": [
    "Para deletar colunas, especificar a referência do nome da coluna com axis = 1"
   ]
  },
  {
   "cell_type": "code",
   "execution_count": 26,
   "metadata": {},
   "outputs": [
    {
     "name": "stdout",
     "output_type": "stream",
     "text": [
      "   1  2\n",
      "0  1  2\n",
      "1  4  5\n",
      "2  7  8\n"
     ]
    }
   ],
   "source": [
    "import pandas as pd\n",
    "import numpy as np\n",
    "\n",
    "A = pd.DataFrame(np.arange(9).reshape(3,3))\n",
    "A = A.drop(0, axis=1)\n",
    "print(A)"
   ]
  },
  {
   "attachments": {},
   "cell_type": "markdown",
   "metadata": {},
   "source": [
    "#### Operações entre Data Structures:\n",
    "\n",
    "add(), sub(), div() e mul()"
   ]
  },
  {
   "attachments": {},
   "cell_type": "markdown",
   "metadata": {},
   "source": [
    "Operações entre Data Structures e Series:\n",
    "\n",
    "Assim como todas as operações no Pandas, o index da Serie deve ser nomeado igualmente às colunas ou às linhas do DataFrame para realizar as operações.\n",
    "\n",
    "Com isto, a operação será aplicada a todos os elementos da linha ou coluna.\n",
    "\n",
    "Aplicação de Funções e Mapeamento:\n",
    "\n",
    "As funções podem ser aplicada a todos os elementos, com np.sin(Frame).\n",
    "\n",
    "Para aplicar funções criadas no DataFrame, usar:"
   ]
  },
  {
   "cell_type": "code",
   "execution_count": 27,
   "metadata": {},
   "outputs": [
    {
     "name": "stdout",
     "output_type": "stream",
     "text": [
      "0    2\n",
      "1    2\n",
      "dtype: int32\n",
      "0    1\n",
      "1    1\n",
      "dtype: int32\n"
     ]
    }
   ],
   "source": [
    "import pandas as pd\n",
    "import numpy as np\n",
    "\n",
    "def f(x):\n",
    "    return x.max() - x.min()\n",
    "\n",
    "frame = pd.DataFrame(np.arange(4).reshape(2,2))\n",
    "print(frame.apply(f))\n",
    "print(frame.apply(f, axis= 1))"
   ]
  },
  {
   "attachments": {},
   "cell_type": "markdown",
   "metadata": {},
   "source": [
    "#### Funções Estatísticas:\n",
    "\n",
    "Em algumas funções, não é necessário apply()\n",
    "\n",
    "Soma das linhas ou colunas: frame.sum()\n",
    "Média das linhas ou colunas: frame.mean()\n",
    "Resumo Estáticos completo: frame.describe()"
   ]
  },
  {
   "attachments": {},
   "cell_type": "markdown",
   "metadata": {},
   "source": [
    "#### Sorting e Ranking:\n",
    "\n",
    "Ordenação pode ser feita com sort_index, em ordem crescente ou alfabética\n",
    "\n",
    "Para realizar em ordem descrescente e sob linhas, usar:\n",
    "\n",
    "* ascending= False e axis= 1"
   ]
  },
  {
   "cell_type": "code",
   "execution_count": 28,
   "metadata": {},
   "outputs": [
    {
     "name": "stdout",
     "output_type": "stream",
     "text": [
      "blue     3\n",
      "green    4\n",
      "pred     5\n",
      "white    8\n",
      "dtype: int64\n",
      "white    8\n",
      "pred     5\n",
      "green    4\n",
      "blue     3\n",
      "dtype: int64\n"
     ]
    }
   ],
   "source": [
    "import pandas as pd\n",
    "\n",
    "A = pd.Series([5,3,8,4], index= ['pred','blue','white','green'])\n",
    "A = A.sort_index()\n",
    "print(A)\n",
    "B = A.sort_index(ascending= False)\n",
    "print(B)\n"
   ]
  },
  {
   "attachments": {},
   "cell_type": "markdown",
   "metadata": {},
   "source": [
    "Outra forma é a ordenação feita com valores"
   ]
  },
  {
   "cell_type": "code",
   "execution_count": 29,
   "metadata": {},
   "outputs": [
    {
     "name": "stdout",
     "output_type": "stream",
     "text": [
      "0    1\n",
      "1    2\n",
      "3    3\n",
      "2    4\n",
      "5    6\n",
      "4    7\n",
      "dtype: int64\n"
     ]
    }
   ],
   "source": [
    "import pandas as pd\n",
    "\n",
    "A = pd.Series([1, 2, 4, 3, 7, 6])\n",
    "A = A.sort_values()\n",
    "print(A)"
   ]
  },
  {
   "attachments": {},
   "cell_type": "markdown",
   "metadata": {},
   "source": [
    "Em DataFrames, pode-se ordenar uma das colunas, passando no argumento: by = 'nome_index'"
   ]
  },
  {
   "cell_type": "code",
   "execution_count": 30,
   "metadata": {},
   "outputs": [
    {
     "name": "stdout",
     "output_type": "stream",
     "text": [
      "       2  1  0\n",
      "red    2  1  0\n",
      "blue   5  4  3\n",
      "green  8  7  6\n"
     ]
    }
   ],
   "source": [
    "import pandas as pd\n",
    "import numpy as np\n",
    "\n",
    "A = pd.DataFrame(np.arange(9).reshape(3,3), index= ['red','blue','green'])\n",
    "A = A.sort_values(ascending= False, by= 'green', axis= 1)\n",
    "print(A)"
   ]
  },
  {
   "attachments": {},
   "cell_type": "markdown",
   "metadata": {},
   "source": [
    "#### Correlação e Covariância:\n",
    "\n",
    "A covariância mede a relação entre as medidas.           \n",
    "Se uma medida aumenta, enquanto outra diminui, a covariância é negativa.                                \n",
    "Se as duas medidas aumentam ou diminuem, a cov é positiva.                                              \n",
    "Se as medidas são independentes, a cov é 0.             \n",
    "\n",
    "* A correlação mede o grau de associação de variáveis e varia de -1 a 1.                                      \n",
    "* Se corr > 0, as variáveis tendem a aumentar juntas      \n",
    "* Se corr < 0, as variáveis tendem a diminuir juntas      \n",
    "* Se corr = 0, as variáveis são independentes         "
   ]
  },
  {
   "cell_type": "code",
   "execution_count": 31,
   "metadata": {},
   "outputs": [
    {
     "name": "stdout",
     "output_type": "stream",
     "text": [
      "0.7745966692414834 0.8571428571428571\n"
     ]
    }
   ],
   "source": [
    "import pandas as pd\n",
    "\n",
    "A = pd.Series([3, 4, 3, 4, 5, 4, 3, 2], index= ['2006', '2007', '2008', '2009', '2010', '2011', '2012', '2013'])\n",
    "B = pd.Series([1, 2, 3, 4, 4, 3, 2, 1], index= ['2006', '2007', '2008', '2009', '2010', '2011', '2012', '2013'])\n",
    "C = A.corr(B)\n",
    "D = A.cov(B)\n",
    "print(C, D)"
   ]
  },
  {
   "attachments": {},
   "cell_type": "markdown",
   "metadata": {},
   "source": [
    "Para DataFrames, aplicar:"
   ]
  },
  {
   "cell_type": "code",
   "execution_count": 32,
   "metadata": {},
   "outputs": [
    {
     "name": "stdout",
     "output_type": "stream",
     "text": [
      "            ball       pen    pencil     paper\n",
      "ball    2.000000 -0.666667  2.000000 -2.333333\n",
      "pen    -0.666667  2.916667 -0.333333 -1.333333\n",
      "pencil  2.000000 -0.333333  6.000000 -3.666667\n",
      "paper  -2.333333 -1.333333 -3.666667  4.666667\n",
      "            ball       pen    pencil     paper\n",
      "ball    1.000000 -0.276026  0.577350 -0.763763\n",
      "pen    -0.276026  1.000000 -0.079682 -0.361403\n",
      "pencil  0.577350 -0.079682  1.000000 -0.692935\n",
      "paper  -0.763763 -0.361403 -0.692935  1.000000\n"
     ]
    }
   ],
   "source": [
    "import pandas as pd\n",
    "\n",
    "frame2 = pd.DataFrame([[1, 4, 3, 6], [4, 5, 6, 1], [3, 3, 1, 5], [4, 1, 6, 4]], index = ['red', 'blue', 'yellow', 'white'], columns = ['ball', 'pen', 'pencil', 'paper'])\n",
    "print(frame2.cov())\n",
    "print(frame2.corr())"
   ]
  },
  {
   "attachments": {},
   "cell_type": "markdown",
   "metadata": {},
   "source": [
    "O DataFrame de saída contém a coluna de frame2 nas linhas e colunas, de forma que é possível analisar qual a cov() entre as duas variáveis, por exemplo entre pen e pencil."
   ]
  },
  {
   "attachments": {},
   "cell_type": "markdown",
   "metadata": {},
   "source": [
    "Para verificar a correlação entre DataFrame e Series, usar: corrwith()."
   ]
  },
  {
   "cell_type": "code",
   "execution_count": 33,
   "metadata": {},
   "outputs": [
    {
     "name": "stdout",
     "output_type": "stream",
     "text": [
      "0    0.816497\n",
      "1   -0.169031\n",
      "2    0.942809\n",
      "3   -0.801784\n",
      "dtype: float64\n"
     ]
    }
   ],
   "source": [
    "import pandas as pd\n",
    "\n",
    "A = pd.Series([3, 4, 3, 4], index= ['red', 'blue', 'yellow', 'white'])\n",
    "frame2 = pd.DataFrame([[1, 4, 3, 6], [4, 5, 6, 1], [3, 3, 1, 5], [4, 1, 6, 4]], index = ['red', 'blue', 'yellow', 'white'])\n",
    "print(frame2.corrwith(A))"
   ]
  },
  {
   "attachments": {},
   "cell_type": "markdown",
   "metadata": {},
   "source": [
    "### Atribuindo a NaN:\n",
    "\n",
    "#### Inserindo NaN:                                      \n",
    "Para deixar valores inexistentes, usar: np.NaN (np.nan)\n",
    "\n",
    "#### Retirando NaN:                                          \n",
    "Retirar todos NaN, usar: A.dropna()\n",
    "                     \n",
    "Em DataFrames, usar dropna() retirará toda linha e coluna correspondente, o que não é desejado. \n",
    "\n",
    "Para isto, usar: dropna(how = 'all'). Ele irá retirar colunas e linhas em que NaN em toda coluna ou linha."
   ]
  },
  {
   "cell_type": "code",
   "execution_count": 34,
   "metadata": {},
   "outputs": [
    {
     "name": "stdout",
     "output_type": "stream",
     "text": [
      "red       0.0\n",
      "blue      1.0\n",
      "yellow    2.0\n",
      "white     NaN\n",
      "green     9.0\n",
      "dtype: float64\n",
      "red       0.0\n",
      "blue      1.0\n",
      "yellow    2.0\n",
      "green     9.0\n",
      "dtype: float64\n"
     ]
    }
   ],
   "source": [
    "import pandas as pd\n",
    "import numpy as np\n",
    "\n",
    "ser = pd.Series([0,1,2,np.NaN,9], index=['red','blue','yellow','white','green'])\n",
    "print(ser)\n",
    "ser = ser.dropna()\n",
    "print(ser)"
   ]
  },
  {
   "attachments": {},
   "cell_type": "markdown",
   "metadata": {},
   "source": [
    "#### Completando NaN com valores:\n",
    "\n",
    "É possível atribuir em NaN.                         \n",
    "\n",
    "* fillna(0) irá completar NaN com 0's.                    \n",
    "Ou pode-se criar condições de atribuição, como:\n"
   ]
  },
  {
   "cell_type": "code",
   "execution_count": 35,
   "metadata": {},
   "outputs": [
    {
     "name": "stdout",
     "output_type": "stream",
     "text": [
      "       ball  mug  pen\n",
      "blue    6.0  0.0  6.0\n",
      "green   0.0  0.0  0.0\n",
      "red     2.0  0.0  5.0\n",
      "       ball  mug   pen\n",
      "blue    6.0  0.0   6.0\n",
      "green   1.0  0.0  99.0\n",
      "red     2.0  0.0   5.0\n"
     ]
    }
   ],
   "source": [
    "import pandas as pd\n",
    "import numpy as np\n",
    "\n",
    "frame3 = pd.DataFrame([[6,np.nan,6],[np.nan,np.nan,np.nan],[2,np.nan,5]], index = ['blue','green','red'], columns = ['ball','mug','pen'])\n",
    "frame3 = frame3.fillna(0)\n",
    "print(frame3)\n",
    "frame3 = pd.DataFrame([[6,np.nan,6],[np.nan,np.nan,np.nan],[2,np.nan,5]], index = ['blue','green','red'], columns = ['ball','mug','pen'])\n",
    "frame3 = frame3.fillna({'ball': 1, 'mug': 0, 'pen': 99})\n",
    "print(frame3)"
   ]
  },
  {
   "attachments": {},
   "cell_type": "markdown",
   "metadata": {},
   "source": [
    "#### Indexação hierarquica e nivelamento:\n",
    "\n",
    "É possível que index sejam classificados dentro de outro index."
   ]
  },
  {
   "cell_type": "code",
   "execution_count": 36,
   "metadata": {},
   "outputs": [
    {
     "name": "stdout",
     "output_type": "stream",
     "text": [
      "white  up       0.186825\n",
      "       down     0.778229\n",
      "       right    0.991649\n",
      "blue   up       0.036796\n",
      "       down     0.839120\n",
      "red    up       0.610899\n",
      "       down     0.625179\n",
      "       left     0.138235\n",
      "dtype: float64\n"
     ]
    }
   ],
   "source": [
    "import pandas as pd\n",
    "\n",
    "A = pd.Series(np.random.rand(8), index = [['white', 'white', 'white', 'blue', 'blue', 'red', 'red', 'red'], ['up', 'down', 'right', 'up', 'down', 'up', 'down', 'left']])\n",
    "print(A)"
   ]
  },
  {
   "attachments": {},
   "cell_type": "markdown",
   "metadata": {},
   "source": [
    "Desta forma, pesquisar por ['white'] exibirá todos os sub-index.                                            \n",
    "Ou exibir em quais hierarquias estão 'up', com [:,'up']"
   ]
  },
  {
   "attachments": {},
   "cell_type": "markdown",
   "metadata": {},
   "source": [
    "A função unstack() transforma Series com hierarquia em DataFrame, separando as hierarquias em linhas e os index em colunas.\n",
    "\n",
    "Ao contrário, para transformar DataFrame em Series com hierarquia, fazer: stack()\n",
    "\n",
    "Também é possível criar um DataFrame com hierarquias."
   ]
  },
  {
   "cell_type": "code",
   "execution_count": 37,
   "metadata": {},
   "outputs": [
    {
     "name": "stdout",
     "output_type": "stream",
     "text": [
      "white  up       0.421902\n",
      "       down     0.678594\n",
      "       right    0.239047\n",
      "blue   up       0.319667\n",
      "       down     0.168398\n",
      "red    up       0.684030\n",
      "       down     0.162130\n",
      "       left     0.209750\n",
      "dtype: float64\n",
      "           down     left     right        up\n",
      "blue   0.168398      NaN       NaN  0.319667\n",
      "red    0.162130  0.20975       NaN  0.684030\n",
      "white  0.678594      NaN  0.239047  0.421902\n",
      "blue   down     0.168398\n",
      "       up       0.319667\n",
      "red    down     0.162130\n",
      "       left     0.209750\n",
      "       up       0.684030\n",
      "white  down     0.678594\n",
      "       right    0.239047\n",
      "       up       0.421902\n",
      "dtype: float64\n"
     ]
    }
   ],
   "source": [
    "import pandas as pd\n",
    "\n",
    "A = pd.Series(np.random.rand(8), index = [['white', 'white', 'white', 'blue', 'blue', 'red', 'red', 'red'], ['up', 'down', 'right', 'up', 'down', 'up', 'down', 'left']])\n",
    "print(A)\n",
    "A = A.unstack()\n",
    "print(A)\n",
    "A = A.stack()\n",
    "print(A)"
   ]
  },
  {
   "attachments": {},
   "cell_type": "markdown",
   "metadata": {},
   "source": [
    "#### Reordenando e Ordenando hierarquias:\n",
    "\n",
    "* A função swaplevel() invertará a hierarquia com os index.\n",
    "\n",
    "* A função sort_index() e as outras funcionam em hierarquias."
   ]
  },
  {
   "cell_type": "code",
   "execution_count": 38,
   "metadata": {},
   "outputs": [
    {
     "name": "stdout",
     "output_type": "stream",
     "text": [
      "objetos            pen               paper          \n",
      "id                   1         2         1         2\n",
      "cores status                                        \n",
      "white up      0.460140  0.748252  0.618406 -0.066918\n",
      "      down   -0.542575 -1.612018 -0.460214 -1.173706\n",
      "red   up      0.767797 -1.125576  0.528123  1.046724\n",
      "      down    1.119737 -3.216311 -0.263997 -0.822912\n",
      "\n",
      "\n",
      "objetos            pen               paper          \n",
      "id                   1         2         1         2\n",
      "cores status                                        \n",
      "white up      0.460140  0.748252  0.618406 -0.066918\n",
      "      down   -0.542575 -1.612018 -0.460214 -1.173706\n",
      "red   up      0.767797 -1.125576  0.528123  1.046724\n",
      "      down    1.119737 -3.216311 -0.263997 -0.822912\n",
      "\n",
      "\n",
      "objetos            pen               paper          \n",
      "id                   1         2         1         2\n",
      "cores status                                        \n",
      "white up      0.460140  0.748252  0.618406 -0.066918\n",
      "      down   -0.542575 -1.612018 -0.460214 -1.173706\n",
      "red   up      0.767797 -1.125576  0.528123  1.046724\n",
      "      down    1.119737 -3.216311 -0.263997 -0.822912\n"
     ]
    }
   ],
   "source": [
    "import pandas as pd\n",
    "\n",
    "mframe = pd.DataFrame(np.random.randn(16).reshape(4,4), index=[['white','white','red','red'], ['up','down','up','down']], columns=[['pen','pen','paper','paper'],[1,2,1,2]])\n",
    "mframe.columns.names = ['objetos', 'id']\n",
    "mframe.index.names = ['cores','status']\n",
    "print(mframe)\n",
    "mframe.swaplevel('cores','status')\n",
    "print('\\n')\n",
    "print(mframe)\n",
    "print('\\n')\n",
    "mframe.sort_index(level= 'cores')\n",
    "print(mframe)"
   ]
  },
  {
   "attachments": {},
   "cell_type": "markdown",
   "metadata": {},
   "source": [
    "#### Resumo Estatístico por Nível:\n",
    "\n",
    "Pode-se aplicar as funções estáticas por nível, com: frame.sum(level = 'color')                             \n",
    "Para aplicar as funções nas colunas, axis = 1"
   ]
  },
  {
   "cell_type": "code",
   "execution_count": 39,
   "metadata": {},
   "outputs": [
    {
     "name": "stdout",
     "output_type": "stream",
     "text": [
      "                   pen               paper          \n",
      "                     1         2         1         2\n",
      "cores status                                        \n",
      "white up     -0.126902  0.088752  0.285032 -1.740524\n",
      "      down    0.431891 -0.977951  0.143439  0.056516\n",
      "red   up     -0.310485 -0.373489 -0.064544  1.201429\n",
      "      down    2.201486  1.406032 -1.688875 -1.870495\n",
      "\n",
      "\n",
      "                   pen               paper          \n",
      "                     1         2         1         2\n",
      "cores status                                        \n",
      "white up     -0.126902  0.088752  0.285032 -1.740524\n",
      "      down    0.431891 -0.977951  0.143439  0.056516\n",
      "red   up     -0.310485 -0.373489 -0.064544  1.201429\n",
      "      down    2.201486  1.406032 -1.688875 -1.870495\n"
     ]
    }
   ],
   "source": [
    "import pandas as pd\n",
    "\n",
    "mframe = pd.DataFrame(np.random.randn(16).reshape(4,4), index=[['white','white','red','red'], ['up','down','up','down']], columns=[['pen','pen','paper','paper'],[1,2,1,2]])\n",
    "mframe.index.names = ['cores','status']\n",
    "print(mframe)\n",
    "print('\\n')\n",
    "mframe.groupby(level= 'cores').sum()\n",
    "print(mframe)"
   ]
  },
  {
   "attachments": {},
   "cell_type": "markdown",
   "metadata": {},
   "source": [
    "### Pandas: Lendo e Escrevendo Dados:\n",
    "\n",
    "#### CSV e arquivo de texto:"
   ]
  },
  {
   "cell_type": "code",
   "execution_count": 40,
   "metadata": {},
   "outputs": [
    {
     "ename": "FileNotFoundError",
     "evalue": "[Errno 2] No such file or directory: 'nome.csv'",
     "output_type": "error",
     "traceback": [
      "\u001b[1;31m---------------------------------------------------------------------------\u001b[0m",
      "\u001b[1;31mFileNotFoundError\u001b[0m                         Traceback (most recent call last)",
      "Cell \u001b[1;32mIn[40], line 3\u001b[0m\n\u001b[0;32m      1\u001b[0m \u001b[39mimport\u001b[39;00m \u001b[39mpandas\u001b[39;00m \u001b[39mas\u001b[39;00m \u001b[39mpd\u001b[39;00m\n\u001b[1;32m----> 3\u001b[0m A \u001b[39m=\u001b[39m pd\u001b[39m.\u001b[39;49mread_csv(\u001b[39m'\u001b[39;49m\u001b[39mnome.csv\u001b[39;49m\u001b[39m'\u001b[39;49m, sep\u001b[39m=\u001b[39;49m \u001b[39m'\u001b[39;49m\u001b[39m,\u001b[39;49m\u001b[39m'\u001b[39;49m)\n",
      "File \u001b[1;32m~\\AppData\\Roaming\\Python\\Python310\\site-packages\\pandas\\util\\_decorators.py:211\u001b[0m, in \u001b[0;36mdeprecate_kwarg.<locals>._deprecate_kwarg.<locals>.wrapper\u001b[1;34m(*args, **kwargs)\u001b[0m\n\u001b[0;32m    209\u001b[0m     \u001b[39melse\u001b[39;00m:\n\u001b[0;32m    210\u001b[0m         kwargs[new_arg_name] \u001b[39m=\u001b[39m new_arg_value\n\u001b[1;32m--> 211\u001b[0m \u001b[39mreturn\u001b[39;00m func(\u001b[39m*\u001b[39margs, \u001b[39m*\u001b[39m\u001b[39m*\u001b[39mkwargs)\n",
      "File \u001b[1;32m~\\AppData\\Roaming\\Python\\Python310\\site-packages\\pandas\\util\\_decorators.py:331\u001b[0m, in \u001b[0;36mdeprecate_nonkeyword_arguments.<locals>.decorate.<locals>.wrapper\u001b[1;34m(*args, **kwargs)\u001b[0m\n\u001b[0;32m    325\u001b[0m \u001b[39mif\u001b[39;00m \u001b[39mlen\u001b[39m(args) \u001b[39m>\u001b[39m num_allow_args:\n\u001b[0;32m    326\u001b[0m     warnings\u001b[39m.\u001b[39mwarn(\n\u001b[0;32m    327\u001b[0m         msg\u001b[39m.\u001b[39mformat(arguments\u001b[39m=\u001b[39m_format_argument_list(allow_args)),\n\u001b[0;32m    328\u001b[0m         \u001b[39mFutureWarning\u001b[39;00m,\n\u001b[0;32m    329\u001b[0m         stacklevel\u001b[39m=\u001b[39mfind_stack_level(),\n\u001b[0;32m    330\u001b[0m     )\n\u001b[1;32m--> 331\u001b[0m \u001b[39mreturn\u001b[39;00m func(\u001b[39m*\u001b[39margs, \u001b[39m*\u001b[39m\u001b[39m*\u001b[39mkwargs)\n",
      "File \u001b[1;32m~\\AppData\\Roaming\\Python\\Python310\\site-packages\\pandas\\io\\parsers\\readers.py:950\u001b[0m, in \u001b[0;36mread_csv\u001b[1;34m(filepath_or_buffer, sep, delimiter, header, names, index_col, usecols, squeeze, prefix, mangle_dupe_cols, dtype, engine, converters, true_values, false_values, skipinitialspace, skiprows, skipfooter, nrows, na_values, keep_default_na, na_filter, verbose, skip_blank_lines, parse_dates, infer_datetime_format, keep_date_col, date_parser, dayfirst, cache_dates, iterator, chunksize, compression, thousands, decimal, lineterminator, quotechar, quoting, doublequote, escapechar, comment, encoding, encoding_errors, dialect, error_bad_lines, warn_bad_lines, on_bad_lines, delim_whitespace, low_memory, memory_map, float_precision, storage_options)\u001b[0m\n\u001b[0;32m    935\u001b[0m kwds_defaults \u001b[39m=\u001b[39m _refine_defaults_read(\n\u001b[0;32m    936\u001b[0m     dialect,\n\u001b[0;32m    937\u001b[0m     delimiter,\n\u001b[1;32m   (...)\u001b[0m\n\u001b[0;32m    946\u001b[0m     defaults\u001b[39m=\u001b[39m{\u001b[39m\"\u001b[39m\u001b[39mdelimiter\u001b[39m\u001b[39m\"\u001b[39m: \u001b[39m\"\u001b[39m\u001b[39m,\u001b[39m\u001b[39m\"\u001b[39m},\n\u001b[0;32m    947\u001b[0m )\n\u001b[0;32m    948\u001b[0m kwds\u001b[39m.\u001b[39mupdate(kwds_defaults)\n\u001b[1;32m--> 950\u001b[0m \u001b[39mreturn\u001b[39;00m _read(filepath_or_buffer, kwds)\n",
      "File \u001b[1;32m~\\AppData\\Roaming\\Python\\Python310\\site-packages\\pandas\\io\\parsers\\readers.py:605\u001b[0m, in \u001b[0;36m_read\u001b[1;34m(filepath_or_buffer, kwds)\u001b[0m\n\u001b[0;32m    602\u001b[0m _validate_names(kwds\u001b[39m.\u001b[39mget(\u001b[39m\"\u001b[39m\u001b[39mnames\u001b[39m\u001b[39m\"\u001b[39m, \u001b[39mNone\u001b[39;00m))\n\u001b[0;32m    604\u001b[0m \u001b[39m# Create the parser.\u001b[39;00m\n\u001b[1;32m--> 605\u001b[0m parser \u001b[39m=\u001b[39m TextFileReader(filepath_or_buffer, \u001b[39m*\u001b[39m\u001b[39m*\u001b[39mkwds)\n\u001b[0;32m    607\u001b[0m \u001b[39mif\u001b[39;00m chunksize \u001b[39mor\u001b[39;00m iterator:\n\u001b[0;32m    608\u001b[0m     \u001b[39mreturn\u001b[39;00m parser\n",
      "File \u001b[1;32m~\\AppData\\Roaming\\Python\\Python310\\site-packages\\pandas\\io\\parsers\\readers.py:1442\u001b[0m, in \u001b[0;36mTextFileReader.__init__\u001b[1;34m(self, f, engine, **kwds)\u001b[0m\n\u001b[0;32m   1439\u001b[0m     \u001b[39mself\u001b[39m\u001b[39m.\u001b[39moptions[\u001b[39m\"\u001b[39m\u001b[39mhas_index_names\u001b[39m\u001b[39m\"\u001b[39m] \u001b[39m=\u001b[39m kwds[\u001b[39m\"\u001b[39m\u001b[39mhas_index_names\u001b[39m\u001b[39m\"\u001b[39m]\n\u001b[0;32m   1441\u001b[0m \u001b[39mself\u001b[39m\u001b[39m.\u001b[39mhandles: IOHandles \u001b[39m|\u001b[39m \u001b[39mNone\u001b[39;00m \u001b[39m=\u001b[39m \u001b[39mNone\u001b[39;00m\n\u001b[1;32m-> 1442\u001b[0m \u001b[39mself\u001b[39m\u001b[39m.\u001b[39m_engine \u001b[39m=\u001b[39m \u001b[39mself\u001b[39;49m\u001b[39m.\u001b[39;49m_make_engine(f, \u001b[39mself\u001b[39;49m\u001b[39m.\u001b[39;49mengine)\n",
      "File \u001b[1;32m~\\AppData\\Roaming\\Python\\Python310\\site-packages\\pandas\\io\\parsers\\readers.py:1735\u001b[0m, in \u001b[0;36mTextFileReader._make_engine\u001b[1;34m(self, f, engine)\u001b[0m\n\u001b[0;32m   1733\u001b[0m     \u001b[39mif\u001b[39;00m \u001b[39m\"\u001b[39m\u001b[39mb\u001b[39m\u001b[39m\"\u001b[39m \u001b[39mnot\u001b[39;00m \u001b[39min\u001b[39;00m mode:\n\u001b[0;32m   1734\u001b[0m         mode \u001b[39m+\u001b[39m\u001b[39m=\u001b[39m \u001b[39m\"\u001b[39m\u001b[39mb\u001b[39m\u001b[39m\"\u001b[39m\n\u001b[1;32m-> 1735\u001b[0m \u001b[39mself\u001b[39m\u001b[39m.\u001b[39mhandles \u001b[39m=\u001b[39m get_handle(\n\u001b[0;32m   1736\u001b[0m     f,\n\u001b[0;32m   1737\u001b[0m     mode,\n\u001b[0;32m   1738\u001b[0m     encoding\u001b[39m=\u001b[39;49m\u001b[39mself\u001b[39;49m\u001b[39m.\u001b[39;49moptions\u001b[39m.\u001b[39;49mget(\u001b[39m\"\u001b[39;49m\u001b[39mencoding\u001b[39;49m\u001b[39m\"\u001b[39;49m, \u001b[39mNone\u001b[39;49;00m),\n\u001b[0;32m   1739\u001b[0m     compression\u001b[39m=\u001b[39;49m\u001b[39mself\u001b[39;49m\u001b[39m.\u001b[39;49moptions\u001b[39m.\u001b[39;49mget(\u001b[39m\"\u001b[39;49m\u001b[39mcompression\u001b[39;49m\u001b[39m\"\u001b[39;49m, \u001b[39mNone\u001b[39;49;00m),\n\u001b[0;32m   1740\u001b[0m     memory_map\u001b[39m=\u001b[39;49m\u001b[39mself\u001b[39;49m\u001b[39m.\u001b[39;49moptions\u001b[39m.\u001b[39;49mget(\u001b[39m\"\u001b[39;49m\u001b[39mmemory_map\u001b[39;49m\u001b[39m\"\u001b[39;49m, \u001b[39mFalse\u001b[39;49;00m),\n\u001b[0;32m   1741\u001b[0m     is_text\u001b[39m=\u001b[39;49mis_text,\n\u001b[0;32m   1742\u001b[0m     errors\u001b[39m=\u001b[39;49m\u001b[39mself\u001b[39;49m\u001b[39m.\u001b[39;49moptions\u001b[39m.\u001b[39;49mget(\u001b[39m\"\u001b[39;49m\u001b[39mencoding_errors\u001b[39;49m\u001b[39m\"\u001b[39;49m, \u001b[39m\"\u001b[39;49m\u001b[39mstrict\u001b[39;49m\u001b[39m\"\u001b[39;49m),\n\u001b[0;32m   1743\u001b[0m     storage_options\u001b[39m=\u001b[39;49m\u001b[39mself\u001b[39;49m\u001b[39m.\u001b[39;49moptions\u001b[39m.\u001b[39;49mget(\u001b[39m\"\u001b[39;49m\u001b[39mstorage_options\u001b[39;49m\u001b[39m\"\u001b[39;49m, \u001b[39mNone\u001b[39;49;00m),\n\u001b[0;32m   1744\u001b[0m )\n\u001b[0;32m   1745\u001b[0m \u001b[39massert\u001b[39;00m \u001b[39mself\u001b[39m\u001b[39m.\u001b[39mhandles \u001b[39mis\u001b[39;00m \u001b[39mnot\u001b[39;00m \u001b[39mNone\u001b[39;00m\n\u001b[0;32m   1746\u001b[0m f \u001b[39m=\u001b[39m \u001b[39mself\u001b[39m\u001b[39m.\u001b[39mhandles\u001b[39m.\u001b[39mhandle\n",
      "File \u001b[1;32m~\\AppData\\Roaming\\Python\\Python310\\site-packages\\pandas\\io\\common.py:856\u001b[0m, in \u001b[0;36mget_handle\u001b[1;34m(path_or_buf, mode, encoding, compression, memory_map, is_text, errors, storage_options)\u001b[0m\n\u001b[0;32m    851\u001b[0m \u001b[39melif\u001b[39;00m \u001b[39misinstance\u001b[39m(handle, \u001b[39mstr\u001b[39m):\n\u001b[0;32m    852\u001b[0m     \u001b[39m# Check whether the filename is to be opened in binary mode.\u001b[39;00m\n\u001b[0;32m    853\u001b[0m     \u001b[39m# Binary mode does not support 'encoding' and 'newline'.\u001b[39;00m\n\u001b[0;32m    854\u001b[0m     \u001b[39mif\u001b[39;00m ioargs\u001b[39m.\u001b[39mencoding \u001b[39mand\u001b[39;00m \u001b[39m\"\u001b[39m\u001b[39mb\u001b[39m\u001b[39m\"\u001b[39m \u001b[39mnot\u001b[39;00m \u001b[39min\u001b[39;00m ioargs\u001b[39m.\u001b[39mmode:\n\u001b[0;32m    855\u001b[0m         \u001b[39m# Encoding\u001b[39;00m\n\u001b[1;32m--> 856\u001b[0m         handle \u001b[39m=\u001b[39m \u001b[39mopen\u001b[39;49m(\n\u001b[0;32m    857\u001b[0m             handle,\n\u001b[0;32m    858\u001b[0m             ioargs\u001b[39m.\u001b[39;49mmode,\n\u001b[0;32m    859\u001b[0m             encoding\u001b[39m=\u001b[39;49mioargs\u001b[39m.\u001b[39;49mencoding,\n\u001b[0;32m    860\u001b[0m             errors\u001b[39m=\u001b[39;49merrors,\n\u001b[0;32m    861\u001b[0m             newline\u001b[39m=\u001b[39;49m\u001b[39m\"\u001b[39;49m\u001b[39m\"\u001b[39;49m,\n\u001b[0;32m    862\u001b[0m         )\n\u001b[0;32m    863\u001b[0m     \u001b[39melse\u001b[39;00m:\n\u001b[0;32m    864\u001b[0m         \u001b[39m# Binary mode\u001b[39;00m\n\u001b[0;32m    865\u001b[0m         handle \u001b[39m=\u001b[39m \u001b[39mopen\u001b[39m(handle, ioargs\u001b[39m.\u001b[39mmode)\n",
      "\u001b[1;31mFileNotFoundError\u001b[0m: [Errno 2] No such file or directory: 'nome.csv'"
     ]
    }
   ],
   "source": [
    "import pandas as pd\n",
    "\n",
    "A = pd.read_csv('nome.csv', sep= ',')"
   ]
  },
  {
   "attachments": {},
   "cell_type": "markdown",
   "metadata": {},
   "source": [
    "Para abrir o documento csv sem cabeçalho, adicionar o argumento: header= none\n",
    "\n",
    "Para abrir o documento csv e adicionar um cabeçalho: names= ['coluna1','coluna2']"
   ]
  },
  {
   "attachments": {},
   "cell_type": "markdown",
   "metadata": {},
   "source": [
    "Em TXT, os dados podem estar em separadores que não seja a vírgula."
   ]
  },
  {
   "cell_type": "code",
   "execution_count": null,
   "metadata": {},
   "outputs": [],
   "source": [
    "import pandas as pd\n",
    "\n",
    "A = pd.read_table('nome.txt', sep='.')"
   ]
  },
  {
   "attachments": {},
   "cell_type": "markdown",
   "metadata": {},
   "source": [
    "Metacaracteres que podem ser usados como seperadores:"
   ]
  },
  {
   "cell_type": "code",
   "execution_count": null,
   "metadata": {},
   "outputs": [
    {
     "name": "stdout",
     "output_type": "stream",
     "text": [
      "                                                          \n",
      "      .                                    Caractere único\n",
      "     \\d                                             Dígito\n",
      "     \\D                               Caractere não dígito\n",
      "     \\s                                   Espaço em branco\n",
      "     \\S                            Caractere não em branco\n",
      "     \\n                           Caractere não nova linha\n",
      "     \\t                                                Tab\n",
      "  \\uxxx  Unicode especificado pelo número hexadecimal xxxx\n"
     ]
    }
   ],
   "source": [
    "import pandas as pd\n",
    "\n",
    "df = pd.DataFrame([['.','Caractere único'],['\\d','Dígito'],['\\D','Caractere não dígito'],['\\s','Espaço em branco'],['\\S','Caractere não em branco'],['\\n','Caractere não nova linha'],['\\t','Tab'],['\\\\uxxx','Unicode especificado pelo número hexadecimal xxxx']], columns= ['',''], index=['','','','','','','',''])\n",
    "print(df)"
   ]
  },
  {
   "attachments": {},
   "cell_type": "markdown",
   "metadata": {},
   "source": [
    "Pode-se ignorar linhas na leitura destes documentos."
   ]
  },
  {
   "cell_type": "code",
   "execution_count": null,
   "metadata": {},
   "outputs": [],
   "source": [
    "import pandas as pd\n",
    "\n",
    "A = pd.read_table('nome.txt', sep= ',', skiprows=[0, 1, 3, 6])"
   ]
  },
  {
   "attachments": {},
   "cell_type": "markdown",
   "metadata": {},
   "source": [
    "Pode-se adicionar a quantidade de linhas a serem consideradas também"
   ]
  },
  {
   "cell_type": "code",
   "execution_count": null,
   "metadata": {},
   "outputs": [],
   "source": [
    "import pandas as pd\n",
    "\n",
    "A = pd.read_table('nome.txt' ,sep=',', nrows= 3)"
   ]
  },
  {
   "attachments": {},
   "cell_type": "markdown",
   "metadata": {},
   "source": [
    "#### Escrevendo Dados em CSV:"
   ]
  },
  {
   "cell_type": "code",
   "execution_count": null,
   "metadata": {},
   "outputs": [],
   "source": [
    "import pandas as pd\n",
    "\n",
    "A = pd.Series(range(6))\n",
    "A.to_csv('nome.csv')"
   ]
  },
  {
   "attachments": {},
   "cell_type": "markdown",
   "metadata": {},
   "source": [
    "Salvando os dados desta forma incluirá as colunas e os index.\n",
    "\n",
    "Para retirá-los, adicionar os argumentos index= False e header= False na função to_csv"
   ]
  },
  {
   "attachments": {},
   "cell_type": "markdown",
   "metadata": {},
   "source": [
    "Na escrita, NaN são deixados em branco.\n",
    "\n",
    "Para deixá-los visíveis, adicionais: na_rep= 'NaN'"
   ]
  },
  {
   "attachments": {},
   "cell_type": "markdown",
   "metadata": {},
   "source": [
    "Lendo e Escrevendo Dados em Excel:"
   ]
  },
  {
   "cell_type": "code",
   "execution_count": null,
   "metadata": {},
   "outputs": [],
   "source": [
    "import pandas as pd\n",
    "\n",
    "A = pd.read_excel('nome.xlsx')\n",
    "A = pd.read_excel('nome.xlsx', 'Planilha2')\n",
    "A = pd.read_excel('nome.xlsx', 1)"
   ]
  },
  {
   "attachments": {},
   "cell_type": "markdown",
   "metadata": {},
   "source": [
    "Adicionar o argumento 'Planilha2' ao argumento fará com que os dados da segunda planilha sejam abertos.\n",
    "\n",
    "Este argumento pode ser o número da planilha, de 1 a última planilha"
   ]
  },
  {
   "attachments": {},
   "cell_type": "markdown",
   "metadata": {},
   "source": [
    "Para escrever:"
   ]
  },
  {
   "cell_type": "code",
   "execution_count": null,
   "metadata": {},
   "outputs": [],
   "source": [
    "import pandas as pd\n",
    "\n",
    "A.to_excel('nome.xlsx')"
   ]
  },
  {
   "attachments": {},
   "cell_type": "markdown",
   "metadata": {},
   "source": [
    "#### JSON Data:"
   ]
  },
  {
   "cell_type": "code",
   "execution_count": null,
   "metadata": {},
   "outputs": [],
   "source": [
    "import pandas as pd\n",
    "\n",
    "A.to_json('nome.json')\n",
    "A.read_json('nome.json')"
   ]
  },
  {
   "attachments": {},
   "cell_type": "markdown",
   "metadata": {},
   "source": [
    "Quando o JSON não possuir formato de tabela, ferramentas de conversão serão necessários = consultar o livro"
   ]
  },
  {
   "attachments": {},
   "cell_type": "markdown",
   "metadata": {},
   "source": [
    "#### Bancos de Dados SQL:\n",
    "\n",
    "Usar biblioteca ferramentas para configurar acesso ao banco de dados.\n",
    "\n",
    "Para salvar:                                            \n",
    "A.to_sql('colors', engine): sendo engine o perfil do sql\n",
    "A.read_sql('colors', engine)"
   ]
  },
  {
   "attachments": {},
   "cell_type": "markdown",
   "metadata": {},
   "source": [
    "### Manipulação de Dados com Pandas\n",
    "\n",
    "Preparação dos Dados\n",
    "\n",
    "#### Merging:\n",
    "\n",
    "Consiste em conectar as linhas de dados cuja colunas possuam mesmo nome.\n",
    "\n",
    "Linhas com colunas diferentes são ignoradas."
   ]
  },
  {
   "cell_type": "code",
   "execution_count": null,
   "metadata": {},
   "outputs": [
    {
     "data": {
      "text/html": [
       "<div>\n",
       "<style scoped>\n",
       "    .dataframe tbody tr th:only-of-type {\n",
       "        vertical-align: middle;\n",
       "    }\n",
       "\n",
       "    .dataframe tbody tr th {\n",
       "        vertical-align: top;\n",
       "    }\n",
       "\n",
       "    .dataframe thead th {\n",
       "        text-align: right;\n",
       "    }\n",
       "</style>\n",
       "<table border=\"1\" class=\"dataframe\">\n",
       "  <thead>\n",
       "    <tr style=\"text-align: right;\">\n",
       "      <th></th>\n",
       "      <th>id</th>\n",
       "      <th>price</th>\n",
       "      <th>color</th>\n",
       "    </tr>\n",
       "  </thead>\n",
       "  <tbody>\n",
       "    <tr>\n",
       "      <th>0</th>\n",
       "      <td>ball</td>\n",
       "      <td>12.33</td>\n",
       "      <td>red</td>\n",
       "    </tr>\n",
       "    <tr>\n",
       "      <th>1</th>\n",
       "      <td>pencil</td>\n",
       "      <td>11.44</td>\n",
       "      <td>white</td>\n",
       "    </tr>\n",
       "    <tr>\n",
       "      <th>2</th>\n",
       "      <td>pencil</td>\n",
       "      <td>11.44</td>\n",
       "      <td>red</td>\n",
       "    </tr>\n",
       "    <tr>\n",
       "      <th>3</th>\n",
       "      <td>pen</td>\n",
       "      <td>33.21</td>\n",
       "      <td>black</td>\n",
       "    </tr>\n",
       "  </tbody>\n",
       "</table>\n",
       "</div>"
      ],
      "text/plain": [
       "       id  price  color\n",
       "0    ball  12.33    red\n",
       "1  pencil  11.44  white\n",
       "2  pencil  11.44    red\n",
       "3     pen  33.21  black"
      ]
     },
     "execution_count": 2,
     "metadata": {},
     "output_type": "execute_result"
    }
   ],
   "source": [
    "import pandas as pd\n",
    "\n",
    "frame1 = pd.DataFrame({'id': ['ball','pencil','pen','mug','ashtray'], 'price': [12.33, 11.44, 33.21, 13.23, 33.62]})\n",
    "frame2 = pd.DataFrame({'id':['pencil','pencil','ball','pen'],'color':['white','red','red','black']})\n",
    "pd.merge(frame1, frame2)"
   ]
  },
  {
   "attachments": {},
   "cell_type": "markdown",
   "metadata": {},
   "source": [
    "Pode-se especificar qual a coluna de referência para fazer merge."
   ]
  },
  {
   "cell_type": "code",
   "execution_count": null,
   "metadata": {},
   "outputs": [
    {
     "data": {
      "text/html": [
       "<div>\n",
       "<style scoped>\n",
       "    .dataframe tbody tr th:only-of-type {\n",
       "        vertical-align: middle;\n",
       "    }\n",
       "\n",
       "    .dataframe tbody tr th {\n",
       "        vertical-align: top;\n",
       "    }\n",
       "\n",
       "    .dataframe thead th {\n",
       "        text-align: right;\n",
       "    }\n",
       "</style>\n",
       "<table border=\"1\" class=\"dataframe\">\n",
       "  <thead>\n",
       "    <tr style=\"text-align: right;\">\n",
       "      <th></th>\n",
       "      <th>id</th>\n",
       "      <th>price</th>\n",
       "      <th>color</th>\n",
       "    </tr>\n",
       "  </thead>\n",
       "  <tbody>\n",
       "    <tr>\n",
       "      <th>0</th>\n",
       "      <td>ball</td>\n",
       "      <td>12.33</td>\n",
       "      <td>red</td>\n",
       "    </tr>\n",
       "    <tr>\n",
       "      <th>1</th>\n",
       "      <td>pencil</td>\n",
       "      <td>11.44</td>\n",
       "      <td>white</td>\n",
       "    </tr>\n",
       "    <tr>\n",
       "      <th>2</th>\n",
       "      <td>pencil</td>\n",
       "      <td>11.44</td>\n",
       "      <td>red</td>\n",
       "    </tr>\n",
       "    <tr>\n",
       "      <th>3</th>\n",
       "      <td>pen</td>\n",
       "      <td>33.21</td>\n",
       "      <td>black</td>\n",
       "    </tr>\n",
       "  </tbody>\n",
       "</table>\n",
       "</div>"
      ],
      "text/plain": [
       "       id  price  color\n",
       "0    ball  12.33    red\n",
       "1  pencil  11.44  white\n",
       "2  pencil  11.44    red\n",
       "3     pen  33.21  black"
      ]
     },
     "execution_count": 4,
     "metadata": {},
     "output_type": "execute_result"
    }
   ],
   "source": [
    "import pandas as pd\n",
    "\n",
    "frame1 = pd.DataFrame({'id': ['ball','pencil','pen','mug','ashtray'], 'price': [12.33, 11.44, 33.21, 13.23, 33.62]})\n",
    "frame2 = pd.DataFrame({'id':['pencil','pencil','ball','pen'],'color':['white','red','red','black']})\n",
    "pd.merge(frame1, frame2, on = 'id')"
   ]
  },
  {
   "attachments": {},
   "cell_type": "markdown",
   "metadata": {},
   "source": [
    "Pode-se, também, especificar a forma de realizar merge. Sendo a opções:\n",
    "\n",
    "how = 'outer', 'left', 'right', 'inner' (padrão).\n",
    "\n",
    "Outer é a união do left e right joins e inner é a intersecção.\n",
    "\n",
    "Outra forma de realizar o merge é com a função join.\n",
    "\n",
    "Ela realiza join sobre o index e construirá o dataframe com index iguais e colunas diferentes.\n",
    "\n",
    "As colunas dos dataframes de união devem ser diferentes."
   ]
  },
  {
   "attachments": {},
   "cell_type": "markdown",
   "metadata": {},
   "source": [
    "#### Concantenação:\n",
    "\n",
    "Concantenação enfileira as linhas dos dataframes."
   ]
  },
  {
   "cell_type": "code",
   "execution_count": null,
   "metadata": {},
   "outputs": [
    {
     "name": "stdout",
     "output_type": "stream",
     "text": [
      "[[ 0  1  2  6  7  8]\n",
      " [ 3  4  5  9 10 11]\n",
      " [ 6  7  8 12 13 14]]\n",
      "[[ 0  1  2]\n",
      " [ 3  4  5]\n",
      " [ 6  7  8]\n",
      " [ 6  7  8]\n",
      " [ 9 10 11]\n",
      " [12 13 14]]\n"
     ]
    }
   ],
   "source": [
    "import pandas as pd\n",
    "import numpy as np\n",
    "\n",
    "array1 = np.arange(9).reshape((3,3))\n",
    "array2 = np.arange(9).reshape((3,3)) + 6\n",
    "print(np.concatenate([array1, array2], axis= 1))\n",
    "print(np.concatenate([array1, array2], axis= 0))"
   ]
  },
  {
   "attachments": {},
   "cell_type": "markdown",
   "metadata": {},
   "source": [
    "Para Series e DataFrames, usar pd.concat()."
   ]
  },
  {
   "cell_type": "code",
   "execution_count": null,
   "metadata": {},
   "outputs": [
    {
     "name": "stdout",
     "output_type": "stream",
     "text": [
      "1    0.050196\n",
      "2    0.062600\n",
      "3    0.019241\n",
      "4    0.454714\n",
      "5    0.966765\n",
      "6    0.459309\n",
      "7    0.507967\n",
      "8    0.670264\n",
      "dtype: float64\n"
     ]
    }
   ],
   "source": [
    "import pandas as pd\n",
    "\n",
    "ser1 = pd.Series(np.random.rand(4), index= [1,2,3,4])\n",
    "ser2 = pd.Series(np.random.rand(4), index= [5,6,7,8])\n",
    "print(pd.concat([ser1,ser2]))"
   ]
  },
  {
   "attachments": {},
   "cell_type": "markdown",
   "metadata": {},
   "source": [
    "Usar keys = [1,2] criará hierarquia para os dados vindos de cada dataframes.\n",
    "\n",
    "Se for concatenação por linhas, key será o nome da coluna"
   ]
  },
  {
   "attachments": {},
   "cell_type": "markdown",
   "metadata": {},
   "source": [
    "#### Combinação:\n",
    "\n",
    "Combinação servirá para realizar merge de dados, especificando prioridade quando houver index diferentes"
   ]
  },
  {
   "cell_type": "code",
   "execution_count": null,
   "metadata": {},
   "outputs": [
    {
     "data": {
      "text/plain": [
       "1    0.353151\n",
       "2    0.825721\n",
       "3    0.066095\n",
       "4    0.830340\n",
       "5    0.665087\n",
       "6    0.569584\n",
       "dtype: float64"
      ]
     },
     "execution_count": 13,
     "metadata": {},
     "output_type": "execute_result"
    }
   ],
   "source": [
    "import pandas as pd\n",
    "\n",
    "ser1 = pd.Series(np.random.rand(5), index= [1,2,3,4,5])\n",
    "ser2 = pd.Series(np.random.rand(4), index= [2,4,5,6])\n",
    "ser1.combine_first(ser2)"
   ]
  },
  {
   "attachments": {},
   "cell_type": "markdown",
   "metadata": {},
   "source": [
    "#### Pivotação:\n",
    "\n",
    "usar stack e unstack()\n",
    "\n",
    "#### Remoção:\n",
    "\n",
    "usar drop()"
   ]
  },
  {
   "attachments": {},
   "cell_type": "markdown",
   "metadata": {},
   "source": [
    "### Transformação de Dados\n",
    "\n",
    "#### Removendo Duplicatas:\n",
    "\n",
    "Detectando linhas duplicadas: A.duplicated() retornará valores booleanos\n",
    "\n",
    "Removendo duplicatas: drop_duplicates()"
   ]
  },
  {
   "attachments": {},
   "cell_type": "markdown",
   "metadata": {},
   "source": [
    "### Mapeamento\n",
    "\n",
    "#### Substituição por Mapeamento:\n",
    "\n",
    "Definir as substituições por dicionário:\n",
    "\n",
    "newcolors= {'rosso': 'red', 'verde': 'green'}\n",
    "\n",
    "Usar a função:\n",
    "\n",
    "A.replace(newcolors)\n",
    "\n",
    "Substituição de um único valor:\n",
    "\n",
    "A.replace(np.nan, 0)\n",
    "\n",
    "Adicionando valores por Mapeamento\n",
    "\n",
    "Definir o dicionário com os valores a serem adicionados."
   ]
  },
  {
   "cell_type": "code",
   "execution_count": null,
   "metadata": {},
   "outputs": [
    {
     "name": "stdout",
     "output_type": "stream",
     "text": [
      "   item  color  price\n",
      "0  ball  white    5.5\n",
      "1   mug    red    4.0\n"
     ]
    }
   ],
   "source": [
    "import pandas as pd\n",
    "\n",
    "frame = pd.DataFrame({'item': ['ball', 'mug'], 'color':['white','red']})\n",
    "prices = {'ball': 5.5, 'mug': 4}\n",
    "frame['price'] = frame['item'].map(prices)\n",
    "print(frame)"
   ]
  },
  {
   "attachments": {},
   "cell_type": "markdown",
   "metadata": {},
   "source": [
    "#### Renomeando index e colunas\n",
    "\n",
    "Criar dicionário com index"
   ]
  },
  {
   "cell_type": "code",
   "execution_count": null,
   "metadata": {},
   "outputs": [
    {
     "data": {
      "text/html": [
       "<div>\n",
       "<style scoped>\n",
       "    .dataframe tbody tr th:only-of-type {\n",
       "        vertical-align: middle;\n",
       "    }\n",
       "\n",
       "    .dataframe tbody tr th {\n",
       "        vertical-align: top;\n",
       "    }\n",
       "\n",
       "    .dataframe thead th {\n",
       "        text-align: right;\n",
       "    }\n",
       "</style>\n",
       "<table border=\"1\" class=\"dataframe\">\n",
       "  <thead>\n",
       "    <tr style=\"text-align: right;\">\n",
       "      <th></th>\n",
       "      <th>object</th>\n",
       "      <th>color</th>\n",
       "      <th>value</th>\n",
       "    </tr>\n",
       "  </thead>\n",
       "  <tbody>\n",
       "    <tr>\n",
       "      <th>first</th>\n",
       "      <td>ball</td>\n",
       "      <td>white</td>\n",
       "      <td>5.5</td>\n",
       "    </tr>\n",
       "    <tr>\n",
       "      <th>second</th>\n",
       "      <td>mug</td>\n",
       "      <td>red</td>\n",
       "      <td>4.0</td>\n",
       "    </tr>\n",
       "  </tbody>\n",
       "</table>\n",
       "</div>"
      ],
      "text/plain": [
       "       object  color  value\n",
       "first    ball  white    5.5\n",
       "second    mug    red    4.0"
      ]
     },
     "execution_count": 16,
     "metadata": {},
     "output_type": "execute_result"
    }
   ],
   "source": [
    "import pandas as pd\n",
    "\n",
    "reindex = {0: 'first', 1: 'second'}\n",
    "recolumn = {'item': 'object', 'price': 'value'}\n",
    "frame.rename(reindex)\n",
    "frame.rename(index= reindex, columns= recolumn)"
   ]
  },
  {
   "attachments": {},
   "cell_type": "markdown",
   "metadata": {},
   "source": [
    "Em casos de único valor:"
   ]
  },
  {
   "cell_type": "code",
   "execution_count": null,
   "metadata": {},
   "outputs": [
    {
     "data": {
      "text/html": [
       "<div>\n",
       "<style scoped>\n",
       "    .dataframe tbody tr th:only-of-type {\n",
       "        vertical-align: middle;\n",
       "    }\n",
       "\n",
       "    .dataframe tbody tr th {\n",
       "        vertical-align: top;\n",
       "    }\n",
       "\n",
       "    .dataframe thead th {\n",
       "        text-align: right;\n",
       "    }\n",
       "</style>\n",
       "<table border=\"1\" class=\"dataframe\">\n",
       "  <thead>\n",
       "    <tr style=\"text-align: right;\">\n",
       "      <th></th>\n",
       "      <th>object</th>\n",
       "      <th>color</th>\n",
       "      <th>price</th>\n",
       "    </tr>\n",
       "  </thead>\n",
       "  <tbody>\n",
       "    <tr>\n",
       "      <th>0</th>\n",
       "      <td>ball</td>\n",
       "      <td>white</td>\n",
       "      <td>5.5</td>\n",
       "    </tr>\n",
       "    <tr>\n",
       "      <th>reindex</th>\n",
       "      <td>mug</td>\n",
       "      <td>red</td>\n",
       "      <td>4.0</td>\n",
       "    </tr>\n",
       "  </tbody>\n",
       "</table>\n",
       "</div>"
      ],
      "text/plain": [
       "        object  color  price\n",
       "0         ball  white    5.5\n",
       "reindex    mug    red    4.0"
      ]
     },
     "execution_count": 17,
     "metadata": {},
     "output_type": "execute_result"
    }
   ],
   "source": [
    "import pandas as pd\n",
    "\n",
    "reindex = {0: 'first', 1: 'second'}\n",
    "recolumn = {'item': 'object', 'price': 'value'}\n",
    "frame.rename(reindex)\n",
    "frame.rename(index= {1: 'reindex'}, columns= {'item': 'object'})"
   ]
  },
  {
   "attachments": {},
   "cell_type": "markdown",
   "metadata": {},
   "source": [
    "Para fazer com que as mudanças sejam aplicadas no objeto da função, 'frame', usar:\n",
    "\n",
    "inplace = True"
   ]
  },
  {
   "attachments": {},
   "cell_type": "markdown",
   "metadata": {},
   "source": [
    "#### Discretização:\n",
    "\n",
    "Dividir os dados em intervalos.\n",
    "\n",
    "Exemplo: Dados de 0 a 100 divididos em intervalos de 0 a 25, 25 a 50, 50 a 75, 75 a 100."
   ]
  },
  {
   "cell_type": "code",
   "execution_count": null,
   "metadata": {},
   "outputs": [
    {
     "name": "stdout",
     "output_type": "stream",
     "text": [
      "[NaN, (0.0, 25.0], (0.0, 25.0], (0.0, 25.0], (0.0, 25.0], ..., (75, 100], (75, 100], (75, 100], (75, 100], (75, 100]]\n",
      "Length: 100\n",
      "Categories (4, interval[int64, right]): [(0, 25] < (25, 50] < (50, 75] < (75, 100]]\n"
     ]
    }
   ],
   "source": [
    "import pandas as pd\n",
    "import numpy as np\n",
    "\n",
    "dados = np.arange(0, 100)\n",
    "intervalo = [0, 25, 50, 75, 100]\n",
    "resultado = pd.cut(dados, intervalo)\n",
    "print(resultado)"
   ]
  },
  {
   "attachments": {},
   "cell_type": "markdown",
   "metadata": {},
   "source": [
    "Esta função retornará os intervalos de pertencimento de cada valor\n",
    "\n",
    "Para saber as ocorrências em cada intervalo, usar:\n",
    "\n",
    "pd.value_counts(resultado)"
   ]
  },
  {
   "attachments": {},
   "cell_type": "markdown",
   "metadata": {},
   "source": [
    "Pode-se nomear os intervalo:\n",
    "\n",
    "intervalo_nome = ['baixo', 'medio', 'alto', 'muito alto']\n",
    "pd.cut(resultados, intervalos, labels = intervalo_nomes)\n",
    "\n",
    "A função cut() também pode ser usada dividindo em intervalos iguais o nº de intervalos especificados.\n",
    "\n",
    "pd.cut(dados, 5)\n",
    "\n",
    "Os intervalos terão limites no valores mínimos e máximos dos valores de dados para cada intervalo.\n",
    "\n",
    "Outra função qcut() dividirá o intervalo em quantidade de valores iguais.\n",
    "\n",
    "pd.qcut(dados, 5)"
   ]
  },
  {
   "attachments": {},
   "cell_type": "markdown",
   "metadata": {},
   "source": [
    "#### Permutação:\n",
    "\n",
    "Reordena aleatoriamente Series e linhas de DataFrame."
   ]
  },
  {
   "cell_type": "code",
   "execution_count": null,
   "metadata": {},
   "outputs": [
    {
     "data": {
      "text/html": [
       "<div>\n",
       "<style scoped>\n",
       "    .dataframe tbody tr th:only-of-type {\n",
       "        vertical-align: middle;\n",
       "    }\n",
       "\n",
       "    .dataframe tbody tr th {\n",
       "        vertical-align: top;\n",
       "    }\n",
       "\n",
       "    .dataframe thead th {\n",
       "        text-align: right;\n",
       "    }\n",
       "</style>\n",
       "<table border=\"1\" class=\"dataframe\">\n",
       "  <thead>\n",
       "    <tr style=\"text-align: right;\">\n",
       "      <th></th>\n",
       "      <th>0</th>\n",
       "      <th>1</th>\n",
       "      <th>2</th>\n",
       "      <th>3</th>\n",
       "      <th>4</th>\n",
       "    </tr>\n",
       "  </thead>\n",
       "  <tbody>\n",
       "    <tr>\n",
       "      <th>3</th>\n",
       "      <td>15</td>\n",
       "      <td>16</td>\n",
       "      <td>17</td>\n",
       "      <td>18</td>\n",
       "      <td>19</td>\n",
       "    </tr>\n",
       "    <tr>\n",
       "      <th>4</th>\n",
       "      <td>20</td>\n",
       "      <td>21</td>\n",
       "      <td>22</td>\n",
       "      <td>23</td>\n",
       "      <td>24</td>\n",
       "    </tr>\n",
       "    <tr>\n",
       "      <th>1</th>\n",
       "      <td>5</td>\n",
       "      <td>6</td>\n",
       "      <td>7</td>\n",
       "      <td>8</td>\n",
       "      <td>9</td>\n",
       "    </tr>\n",
       "    <tr>\n",
       "      <th>2</th>\n",
       "      <td>10</td>\n",
       "      <td>11</td>\n",
       "      <td>12</td>\n",
       "      <td>13</td>\n",
       "      <td>14</td>\n",
       "    </tr>\n",
       "    <tr>\n",
       "      <th>0</th>\n",
       "      <td>0</td>\n",
       "      <td>1</td>\n",
       "      <td>2</td>\n",
       "      <td>3</td>\n",
       "      <td>4</td>\n",
       "    </tr>\n",
       "  </tbody>\n",
       "</table>\n",
       "</div>"
      ],
      "text/plain": [
       "    0   1   2   3   4\n",
       "3  15  16  17  18  19\n",
       "4  20  21  22  23  24\n",
       "1   5   6   7   8   9\n",
       "2  10  11  12  13  14\n",
       "0   0   1   2   3   4"
      ]
     },
     "execution_count": 20,
     "metadata": {},
     "output_type": "execute_result"
    }
   ],
   "source": [
    "import pandas as pd\n",
    "\n",
    "frame = pd.DataFrame(np.arange(25).reshape(5,5))\n",
    "new_order = np.random.permutation(5)\n",
    "frame.take(new_order)"
   ]
  },
  {
   "attachments": {},
   "cell_type": "markdown",
   "metadata": {},
   "source": [
    "#### Amostragem aleatória:"
   ]
  },
  {
   "cell_type": "code",
   "execution_count": null,
   "metadata": {},
   "outputs": [
    {
     "data": {
      "text/html": [
       "<div>\n",
       "<style scoped>\n",
       "    .dataframe tbody tr th:only-of-type {\n",
       "        vertical-align: middle;\n",
       "    }\n",
       "\n",
       "    .dataframe tbody tr th {\n",
       "        vertical-align: top;\n",
       "    }\n",
       "\n",
       "    .dataframe thead th {\n",
       "        text-align: right;\n",
       "    }\n",
       "</style>\n",
       "<table border=\"1\" class=\"dataframe\">\n",
       "  <thead>\n",
       "    <tr style=\"text-align: right;\">\n",
       "      <th></th>\n",
       "      <th>0</th>\n",
       "      <th>1</th>\n",
       "      <th>2</th>\n",
       "      <th>3</th>\n",
       "      <th>4</th>\n",
       "    </tr>\n",
       "  </thead>\n",
       "  <tbody>\n",
       "    <tr>\n",
       "      <th>2</th>\n",
       "      <td>10</td>\n",
       "      <td>11</td>\n",
       "      <td>12</td>\n",
       "      <td>13</td>\n",
       "      <td>14</td>\n",
       "    </tr>\n",
       "    <tr>\n",
       "      <th>3</th>\n",
       "      <td>15</td>\n",
       "      <td>16</td>\n",
       "      <td>17</td>\n",
       "      <td>18</td>\n",
       "      <td>19</td>\n",
       "    </tr>\n",
       "    <tr>\n",
       "      <th>4</th>\n",
       "      <td>20</td>\n",
       "      <td>21</td>\n",
       "      <td>22</td>\n",
       "      <td>23</td>\n",
       "      <td>24</td>\n",
       "    </tr>\n",
       "  </tbody>\n",
       "</table>\n",
       "</div>"
      ],
      "text/plain": [
       "    0   1   2   3   4\n",
       "2  10  11  12  13  14\n",
       "3  15  16  17  18  19\n",
       "4  20  21  22  23  24"
      ]
     },
     "execution_count": 24,
     "metadata": {},
     "output_type": "execute_result"
    }
   ],
   "source": [
    "import pandas as pd\n",
    "import numpy as np\n",
    "frame = pd.DataFrame(np.arange(25).reshape(5,5))\n",
    "amostra = np.random.randint(0, len(frame), size= 3)\n",
    "frame.take(amostra)"
   ]
  },
  {
   "attachments": {},
   "cell_type": "markdown",
   "metadata": {},
   "source": [
    "A diferença entre Permutação e Amostragem é que a permutação reordenará todo o dataframe, enquanto a amostragem tomará parte do\n",
    "dataframe."
   ]
  }
 ],
 "metadata": {
  "kernelspec": {
   "display_name": "Python 3",
   "language": "python",
   "name": "python3"
  },
  "language_info": {
   "codemirror_mode": {
    "name": "ipython",
    "version": 3
   },
   "file_extension": ".py",
   "mimetype": "text/x-python",
   "name": "python",
   "nbconvert_exporter": "python",
   "pygments_lexer": "ipython3",
   "version": "3.10.7"
  },
  "orig_nbformat": 4,
  "vscode": {
   "interpreter": {
    "hash": "916dbcbb3f70747c44a77c7bcd40155683ae19c65e1c03b4aa3499c5328201f1"
   }
  }
 },
 "nbformat": 4,
 "nbformat_minor": 2
}
