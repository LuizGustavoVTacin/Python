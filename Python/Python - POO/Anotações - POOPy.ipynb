{
 "cells": [
  {
   "attachments": {},
   "cell_type": "markdown",
   "metadata": {},
   "source": [
    "## POO:\n",
    "\n",
    "* Vantagens:\n",
    "    - Possibilidade de criação de arquivo importáveis"
   ]
  },
  {
   "attachments": {},
   "cell_type": "markdown",
   "metadata": {},
   "source": [
    "#### Definição de uma classe"
   ]
  },
  {
   "cell_type": "code",
   "execution_count": 1,
   "metadata": {},
   "outputs": [],
   "source": [
    "class Pessoa:\n",
    "    pass\n"
   ]
  },
  {
   "attachments": {},
   "cell_type": "markdown",
   "metadata": {},
   "source": [
    "#### Criação de Instâncias"
   ]
  },
  {
   "cell_type": "code",
   "execution_count": 2,
   "metadata": {},
   "outputs": [
    {
     "name": "stdout",
     "output_type": "stream",
     "text": [
      "False\n"
     ]
    }
   ],
   "source": [
    "p1 = Pessoa()\n",
    "p2 = Pessoa()\n",
    "print(p1 == p2)"
   ]
  },
  {
   "attachments": {},
   "cell_type": "markdown",
   "metadata": {},
   "source": [
    "As variáveis criadas por classes de mesmos parâmetros não serão iguais. Isto porque a classe deve ser entendida como o 'molde'. Internamente, as variáveis p1 e p2 são criadas em espaços de memória diferentes"
   ]
  },
  {
   "attachments": {},
   "cell_type": "markdown",
   "metadata": {},
   "source": [
    "#### Criação de instâncias\n",
    "\n",
    "Atributos são características da classe dados aos objetos. Atribuitos opcionais podem ser criados diretamente no objeto, como abaixo. \n",
    "\n",
    "Porém, atributos globais, que todo objeto deverá possuir, será declarado diretamente na classe."
   ]
  },
  {
   "cell_type": "code",
   "execution_count": 3,
   "metadata": {},
   "outputs": [
    {
     "name": "stdout",
     "output_type": "stream",
     "text": [
      "Luiz\n"
     ]
    }
   ],
   "source": [
    "p1.nome = 'Luiz'\n",
    "print(p1.nome)"
   ]
  },
  {
   "attachments": {},
   "cell_type": "markdown",
   "metadata": {},
   "source": [
    "### Importante!\n",
    "\n",
    "**Objeto é diferente de Instância**\n",
    "\n",
    "Class é um modelo para criação de objetos. Enquanto instância é um objeto criado a partir da classe.\n",
    "\n",
    "Classe é definição de um objeto, enquanto instância é um objeto real"
   ]
  },
  {
   "attachments": {},
   "cell_type": "markdown",
   "metadata": {},
   "source": [
    "#### Parâmetro *self*:\n",
    "\n",
    "Com a definição de self no argumento dos métodos, quando há utilização de um método sobre uma instância, a própria instância será passada como argumento.\n",
    "\n",
    "Ou seja, quando *self* é argumento da classe, fazer:\n",
    "\n",
    "```p1.Pessoa()```\n",
    "\n",
    "é equivalente a chamada\n",
    "\n",
    "```p1.Pessoa(p1)```"
   ]
  },
  {
   "attachments": {},
   "cell_type": "markdown",
   "metadata": {},
   "source": [
    "#### Método \\_\\_init__() e outros métodos\n",
    "\n",
    "O método __init__() é utilizado para inicializar atributos do objeto com valores iniciais.\n",
    "\n",
    "Outros métodos podem ser criados dentro de uma classe como função para adicionar outros atributos às instâncias."
   ]
  },
  {
   "cell_type": "code",
   "execution_count": 4,
   "metadata": {},
   "outputs": [],
   "source": [
    "class Pessoa1:\n",
    "    def __init__(self, nome, idade, comendo= False, falando= False):\n",
    "        self.nome = nome\n",
    "        self.idade = idade\n",
    "        self.comendo = comendo\n",
    "        self.falando = falando\n",
    "    def comer(self, alimento):\n",
    "        print(f'{self.nome} está comendo {alimento}')\n",
    "        self.comendo = True\n",
    "    def esta_falando(self, frase):\n",
    "        if self.comendo == True:\n",
    "            print(f'{self.nome} está comendo. Não se pode falar de boca cheia')\n",
    "            return\n",
    "        else:\n",
    "            self.falando = False\n",
    "            print(f'{self.nome} está falando: \\\"{frase}\\\" ')\n",
    "    def TerminouDeComer(self):\n",
    "        if self.comendo == True:\n",
    "            print(f'{self.nome} parou de comer')\n",
    "            self.comendo = False\n",
    "            return\n",
    "        else:\n",
    "            print(f'{self.nome} não está comendo nada')"
   ]
  },
  {
   "cell_type": "code",
   "execution_count": 5,
   "metadata": {},
   "outputs": [
    {
     "name": "stdout",
     "output_type": "stream",
     "text": [
      "Luiz está comendo lanche\n",
      "Luiz está comendo. Não se pode falar de boca cheia\n",
      "Luiz parou de comer\n",
      "Luiz está falando: \"Que sono!\" \n"
     ]
    }
   ],
   "source": [
    "p1 = Pessoa1('Luiz', 23)\n",
    "p1.comer('lanche')\n",
    "p1.esta_falando('Que sono!')\n",
    "p1.TerminouDeComer()\n",
    "p1.esta_falando('Que sono!')"
   ]
  },
  {
   "attachments": {},
   "cell_type": "markdown",
   "metadata": {},
   "source": [
    "#### Métodos de Classes\n",
    "\n",
    "Um método de classe é um método que é definido na classe em vez de em uma instância da classe. Ele é chamado pela classe, em vez de por uma instância, e pode ser usado para acessar ou modificar atributos da classe e criar novas instâncias da classe."
   ]
  },
  {
   "cell_type": "code",
   "execution_count": 6,
   "metadata": {},
   "outputs": [
    {
     "name": "stdout",
     "output_type": "stream",
     "text": [
      "Carlos 25\n",
      "João 37\n"
     ]
    }
   ],
   "source": [
    "import random\n",
    "\n",
    "class Pessoa:\n",
    "    def __init__(self, nome, idade):\n",
    "        self.nome = nome\n",
    "        self.idade = idade\n",
    "    \n",
    "    @classmethod\n",
    "    def gerar_pessoa(cls):\n",
    "        nomes = ['João', 'Maria', 'Pedro', 'Ana', 'Paulo', 'Luiza']\n",
    "        nome = random.choice(nomes)\n",
    "        idade = random.randint(18, 60)\n",
    "        return cls(nome, idade)\n",
    "\n",
    "p1 = Pessoa('Carlos', 25)\n",
    "p2 = Pessoa.gerar_pessoa()\n",
    "\n",
    "print(p1.nome, p1.idade)\n",
    "print(p2.nome, p2.idade)\n"
   ]
  },
  {
   "attachments": {},
   "cell_type": "markdown",
   "metadata": {},
   "source": [
    "#### Métodos Estáticos:\n",
    "\n",
    "Métodos estáticos são independentes da classe e da instância"
   ]
  },
  {
   "cell_type": "code",
   "execution_count": 7,
   "metadata": {},
   "outputs": [],
   "source": [
    "import random\n",
    "\n",
    "class Pessoa2:\n",
    "\n",
    "    ano_atual = 2023\n",
    "\n",
    "    def __init__(self, nome, idade):\n",
    "        self.nome = nome\n",
    "        self.idade = idade\n",
    "    \n",
    "    def get_ano_nasc(self):\n",
    "        print(self.ano_atual - self.idade)\n",
    "    \n",
    "    @classmethod\n",
    "    def por_ano_nascimento(cls, nome, ano_nasc):\n",
    "        idade = cls.ano_atual - ano_nasc\n",
    "        return cls(nome, idade)\n",
    "    \n",
    "    @staticmethod\n",
    "    def gerar_id():\n",
    "        rand = random.randint(10000, 199999)\n",
    "        return rand"
   ]
  },
  {
   "cell_type": "code",
   "execution_count": 8,
   "metadata": {},
   "outputs": [
    {
     "name": "stdout",
     "output_type": "stream",
     "text": [
      "Luiz 32\n",
      "1991\n",
      "75870 183080\n"
     ]
    }
   ],
   "source": [
    "p1 = Pessoa2('Luiz', 32)\n",
    "print(p1.nome, p1.idade)\n",
    "p1.get_ano_nasc()\n",
    "print(Pessoa2.gerar_id(), p1.gerar_id())"
   ]
  },
  {
   "attachments": {},
   "cell_type": "markdown",
   "metadata": {},
   "source": [
    "#### Property - Getters e Setters\n",
    "\n",
    "Getters e setters permitem que os programadores definam as regras de acesso a esses dados e garantam que o estado interno da classe permaneça consistente e válido"
   ]
  },
  {
   "cell_type": "code",
   "execution_count": 9,
   "metadata": {},
   "outputs": [],
   "source": [
    "class Produto:\n",
    "    def __init__(self, nome, preco):\n",
    "        self.nome = nome\n",
    "        self.preco = preco\n",
    "\n",
    "    def desconto(self, percentual):\n",
    "        self.preco = self.preco * (1 - (percentual / 100))\n",
    "\n",
    "    # Getter\n",
    "    @property\n",
    "    def preco(self):\n",
    "        return self._preco\n",
    "    \n",
    "    # Setter\n",
    "    @preco.setter\n",
    "    def preco(self, valor):\n",
    "        if isinstance(valor, str):\n",
    "            valor = float(valor.replace('R$', ''))\n",
    "        self._preco = valor\n"
   ]
  },
  {
   "cell_type": "code",
   "execution_count": 10,
   "metadata": {},
   "outputs": [
    {
     "name": "stdout",
     "output_type": "stream",
     "text": [
      "45.0\n",
      "13.5\n"
     ]
    }
   ],
   "source": [
    "p1 = Produto('Camiseta', 50)\n",
    "p1.desconto(10)\n",
    "print(p1.preco)\n",
    "\n",
    "p2 = Produto('Caneca', 'R$15')\n",
    "p2.desconto(10)\n",
    "print(p2.preco)"
   ]
  },
  {
   "attachments": {},
   "cell_type": "markdown",
   "metadata": {},
   "source": [
    "#### Atributos(Variáveis) de Classe\n",
    "\n",
    "Variáveis que estão disponíveis em toda classe, para todos os objetos. \n",
    "\n",
    "Podem ser alteradas chamando a classe.\n",
    "\n",
    "\\_\\_dict__ pode ser usada para obter os atributos de classe.\n",
    "\n"
   ]
  },
  {
   "cell_type": "code",
   "execution_count": 11,
   "metadata": {},
   "outputs": [],
   "source": [
    "class Valor:\n",
    "    PI = 3.1415"
   ]
  },
  {
   "cell_type": "code",
   "execution_count": 12,
   "metadata": {},
   "outputs": [
    {
     "name": "stdout",
     "output_type": "stream",
     "text": [
      "{'PI': 3.16}\n",
      "{}\n",
      "3.1415\n",
      "3.16\n"
     ]
    }
   ],
   "source": [
    "a1 = Valor()\n",
    "a2 = Valor()\n",
    "a1.PI = 3.16\n",
    "print(a1.__dict__)\n",
    "print(a2.__dict__)\n",
    "print(a2.PI)\n",
    "print(a1.PI)"
   ]
  },
  {
   "attachments": {},
   "cell_type": "markdown",
   "metadata": {},
   "source": [
    "#### Encapsulamento\n",
    "\n",
    "Encapsulamento protege o código do acesso indevido, de forma a deixar a utilização exclusiva pela classe.\n",
    "\n",
    "Em outras linguagens, essa proteção é feita pela introdução de modificadores de acesso, através das sintaxes: public, protected, private.\n",
    "\n",
    "* public: Métodos e atributos que são acessados dentro e fora daclasse\n",
    "\n",
    "* protected: Acesso feito pela classe ou filhas da classe\n",
    "\n",
    "* private: Acesso somente pela classe\n",
    "\n",
    "Em python, não existem estes modificadores de acesso. A proteção de dados acontece pela convenção da adição de _ ou __ antes do nome da variável. Isto não impede que os dados sejam acessados, mas indica ao dev que a variável não deve ser acessada diretamente.\n",
    "\n",
    "_: equivalente a protected\n",
    "__: equivalente a private"
   ]
  },
  {
   "cell_type": "code",
   "execution_count": 13,
   "metadata": {},
   "outputs": [],
   "source": [
    "class BaseDeDados:\n",
    "    \n",
    "    def __init__(self):\n",
    "        self.__dados = {}\n",
    "        self._dados = {}\n",
    "\n",
    "    def Inserir_cliente(self, id, nome):\n",
    "        if 'clientes' not in self.__dados:\n",
    "            self.__dados['clientes'] = {id: nome}\n",
    "            self._dados['clientes'] = {id: nome}\n",
    "        else:\n",
    "            self.__dados['clientes'].update({id: nome})\n",
    "            self._dados['clientes'].update({id: nome})\n",
    "    \n",
    "    def list_clientes(self):\n",
    "        for id, nome in self.__dados['clientes'].items():\n",
    "            print(id, nome)\n",
    "\n",
    "    def apaga_cliente(self):\n",
    "        del self.__dados['clientes'][id]"
   ]
  },
  {
   "cell_type": "code",
   "execution_count": 14,
   "metadata": {},
   "outputs": [
    {
     "name": "stdout",
     "output_type": "stream",
     "text": [
      "{'clientes': {1: 'Luiz'}}\n",
      "{'clientes': {1: 'Eu'}}\n"
     ]
    }
   ],
   "source": [
    "base = BaseDeDados()\n",
    "base1 = BaseDeDados()\n",
    "base.Inserir_cliente(1, 'Luiz')\n",
    "base1.Inserir_cliente(1, 'Eu')\n",
    "base1.__dados = 'Acesso indireto' ##Acesso fora da classe\n",
    "print(base._dados)\n",
    "print(base1._BaseDeDados__dados)"
   ]
  },
  {
   "attachments": {},
   "cell_type": "markdown",
   "metadata": {},
   "source": [
    "Com a convenção, para acessar os dados protegidos:\n",
    "\n",
    "Para _: Fazer base._dados                                   \n",
    "Para __: Fazer base._BaseDeDados__dados\n",
    "\n",
    "Para que uma classe acesse variáveis privadas (com __), é necessário incluir um getter na classe"
   ]
  },
  {
   "attachments": {},
   "cell_type": "markdown",
   "metadata": {},
   "source": [
    "#### \\_slots_\n",
    "\n",
    "_slots_ limitará a quantidade de atributos que um objeto possuirá. \n",
    "Ela é declarada como atributo de classe em um vetor, tal que o nome dos atributos são passados como strings."
   ]
  },
  {
   "attachments": {},
   "cell_type": "markdown",
   "metadata": {},
   "source": [
    "#### Associação de Classes:\n",
    "\n",
    "Duas classes estão associadas, mas não há dependência entre elas para existirem"
   ]
  },
  {
   "cell_type": "code",
   "execution_count": 15,
   "metadata": {},
   "outputs": [],
   "source": [
    "class Escritor:\n",
    "\n",
    "    def __init__(self, nome):\n",
    "        self.__nome = nome\n",
    "        self.__ferramenta = None\n",
    "    @property\n",
    "    def nome(self):\n",
    "        return self.__nome\n",
    "    @property\n",
    "    def ferramenta(self, ferramenta):\n",
    "        self.__ferramenta = ferramenta\n",
    "    @ferramenta.setter\n",
    "    def ferramenta(self, ferramenta):\n",
    "        self.__ferramenta = ferramenta\n",
    "\n",
    "class Caneta:\n",
    "    def __init__(self, marca):\n",
    "        self.__marca = marca\n",
    "    @property\n",
    "    def marca(self):\n",
    "        return self.__marca\n",
    "    def escrever(self):\n",
    "        print('Caneta está escrevendo...')\n",
    "class MaquinaDeEscrever:\n",
    "    def MaquinaEscrevendo(self):\n",
    "        print('Maquina está escrevendo...')"
   ]
  },
  {
   "cell_type": "code",
   "execution_count": 16,
   "metadata": {},
   "outputs": [
    {
     "name": "stdout",
     "output_type": "stream",
     "text": [
      "Luiz\n",
      "BIC\n",
      "Maquina está escrevendo...\n",
      "\n",
      "Caneta está escrevendo...\n"
     ]
    }
   ],
   "source": [
    "escritor = Escritor('Luiz')\n",
    "caneta = Caneta('BIC')\n",
    "maquina = MaquinaDeEscrever()\n",
    "print(escritor.nome)\n",
    "print(caneta.marca)\n",
    "maquina.MaquinaEscrevendo()\n",
    "print('')\n",
    "Escritor.ferramenta = caneta\n",
    "escritor.ferramenta.escrever()"
   ]
  },
  {
   "attachments": {},
   "cell_type": "markdown",
   "metadata": {},
   "source": [
    "#### Agregação de Classes\n",
    "\n",
    "Uma agregação é utilizar uma classe como parâmetro de outra classe. Uma das classes depende da outra para existir"
   ]
  },
  {
   "cell_type": "code",
   "execution_count": 17,
   "metadata": {},
   "outputs": [],
   "source": [
    "class CarrinhoDeCompras:\n",
    "    def __init__(self):\n",
    "        self.produtos = []\n",
    "    def inserir(self, produto):\n",
    "        self.produtos.append(produto)\n",
    "    def list(self):\n",
    "        for produto in self.produtos:\n",
    "            print(produto.nome, produto.valor)\n",
    "    def soma(self):\n",
    "        total = 0\n",
    "        for produto in self.produtos:\n",
    "            total += produto.valor\n",
    "        return total\n",
    "class Produto:\n",
    "    def __init__(self, nome, valor):\n",
    "        self.nome = nome\n",
    "        self.valor = valor"
   ]
  },
  {
   "cell_type": "code",
   "execution_count": 18,
   "metadata": {},
   "outputs": [
    {
     "name": "stdout",
     "output_type": "stream",
     "text": [
      "Camiseta 50\n",
      "Iphone 10000\n",
      "10050\n"
     ]
    }
   ],
   "source": [
    "carrinho = CarrinhoDeCompras()\n",
    "p1 = Produto('Camiseta', 50)\n",
    "p2 = Produto('Iphone', 10000)\n",
    "\n",
    "carrinho.inserir(p1)\n",
    "carrinho.inserir(p2)\n",
    "carrinho.list()\n",
    "print(carrinho.soma())"
   ]
  },
  {
   "attachments": {},
   "cell_type": "markdown",
   "metadata": {},
   "source": [
    "#### Composição de Classes\n",
    "\n",
    "Na agregação, toda Conta tem um Cliente. Porém, há clientes, independente da conta.\n",
    "\n",
    "Na composição, o histórico compõe a classe Conta."
   ]
  },
  {
   "cell_type": "code",
   "execution_count": 19,
   "metadata": {},
   "outputs": [],
   "source": [
    "class Cliente20:\n",
    "    def __init__(self, nome, idade):\n",
    "        self.nome = nome\n",
    "        self.idade = idade\n",
    "        self.enderecos = []\n",
    "\n",
    "    def insere_endereco(self, cidade, estado):\n",
    "        self.enderecos.append(Endereco(cidade, estado))\n",
    "\n",
    "    def lista_enderecos(self):\n",
    "        for endereco in self.enderecos:\n",
    "            print(endereco.cidade, endereco.estado)\n",
    "    def __del__(self):\n",
    "        print(f'{self.nome} foi apagado')\n",
    "\n",
    "class Endereco:\n",
    "    def __init__(self, cidade, estado):\n",
    "        self.cidade = cidade\n",
    "        self.estado = estado\n",
    "    def __del__(self):\n",
    "        print(f'{self.cidade/{self.estado}} foi apagado')"
   ]
  },
  {
   "cell_type": "code",
   "execution_count": 20,
   "metadata": {},
   "outputs": [
    {
     "name": "stderr",
     "output_type": "stream",
     "text": [
      "Exception ignored in: <function Endereco.__del__ at 0x7f56cc02c9d0>\n",
      "Traceback (most recent call last):\n",
      "  File \"/tmp/ipykernel_7280/1865585214.py\", line 21, in __del__\n",
      "TypeError: unsupported operand type(s) for /: 'str' and 'set'\n"
     ]
    },
    {
     "name": "stdout",
     "output_type": "stream",
     "text": [
      "Luiz\n",
      "BH MG\n",
      "Luiz foi apagado\n",
      "\n",
      "SP SP\n",
      "Eu\n"
     ]
    }
   ],
   "source": [
    "cliente1 = Cliente20('Luiz', 32)\n",
    "cliente1.insere_endereco('BH', 'MG')\n",
    "print(cliente1.nome)\n",
    "cliente1.lista_enderecos()\n",
    "del cliente1\n",
    "print()\n",
    "\n",
    "cliente2 = Cliente20('Eu', 31)\n",
    "cliente2.insere_endereco('SP', 'SP')\n",
    "cliente2.lista_enderecos()\n",
    "print(cliente2.nome)"
   ]
  },
  {
   "attachments": {},
   "cell_type": "markdown",
   "metadata": {},
   "source": [
    "#### Herança Simples\n",
    "\n"
   ]
  },
  {
   "cell_type": "code",
   "execution_count": 2,
   "metadata": {},
   "outputs": [],
   "source": [
    "class Pessoa:\n",
    "    def __init__(self, nome, idade):\n",
    "        self.nome = nome\n",
    "        self.idade = idade\n",
    "\n",
    "class Cliente(Pessoa):\n",
    "    def __init__(self, nome, idade):\n",
    "        super().__init__(nome, idade)"
   ]
  },
  {
   "cell_type": "code",
   "execution_count": 4,
   "metadata": {},
   "outputs": [
    {
     "name": "stdout",
     "output_type": "stream",
     "text": [
      "{'nome': 'Luiz', 'idade': 45}\n"
     ]
    }
   ],
   "source": [
    "c1 = Cliente('Luiz', 45)\n",
    "print(vars(c1))"
   ]
  },
  {
   "attachments": {},
   "cell_type": "markdown",
   "metadata": {},
   "source": [
    "#### Reescrevendo Métodos\n",
    "\n",
    "Em uma herança simples, quando um método de igual implementação é comum às classes, mas com valores diferentes, reecrevê-se os métodos"
   ]
  },
  {
   "cell_type": "code",
   "execution_count": 35,
   "metadata": {},
   "outputs": [],
   "source": [
    "class Funcionario:\n",
    "\tdef\t__init__(self,\tnome,\tcpf,\tsalario):\n",
    "\t\tself._nome\t=\tnome\n",
    "\t\tself._cpf\t=\tcpf\n",
    "\t\tself._salario\t=\tsalario\n",
    "\tdef\tget_bonificacao(self):\n",
    "\t\treturn\tself._salario\t*\t1.10\n",
    "\n",
    "class Gerente(Funcionario):\n",
    "\tdef\t__init__(self,\tnome,\tcpf,\tsalario,\tsenha,\tqtd_gerenciaveis):\n",
    "\t\tsuper().__init__(nome,\tcpf,\tsalario)\n",
    "\t\tself._senha\t=\tsenha\n",
    "\t\tself._qtd_gerenciaveis\t=\tqtd_gerenciaveis\n",
    "\tdef\tget_bonificacao(self):\n",
    "\t\treturn\tself._salario\t*\t1.15"
   ]
  },
  {
   "cell_type": "code",
   "execution_count": 37,
   "metadata": {},
   "outputs": [
    {
     "name": "stdout",
     "output_type": "stream",
     "text": [
      "2530.0\n",
      "5750.0\n"
     ]
    }
   ],
   "source": [
    "f1 = Funcionario('Eu', 1, 2300)\n",
    "print(f1.get_bonificacao())\n",
    "\n",
    "f2 = Gerente('Luiz', 2, 5000, 123, 5)\n",
    "print(f2.get_bonificacao())\n"
   ]
  },
  {
   "attachments": {},
   "cell_type": "markdown",
   "metadata": {},
   "source": [
    "#### Invocando Métodos\n",
    "\n",
    "Pode ser necessário resgatar da classe-mãe um método construído. Isto pode ser feito por herança também."
   ]
  },
  {
   "cell_type": "code",
   "execution_count": 39,
   "metadata": {},
   "outputs": [],
   "source": [
    "class Funcionario:\n",
    "\tdef\t__init__(self,\tnome,\tcpf,\tsalario):\n",
    "\t\tself._nome\t=\tnome\n",
    "\t\tself._cpf\t=\tcpf\n",
    "\t\tself._salario\t=\tsalario\n",
    "\tdef\tget_bonificacao(self):\n",
    "\t\treturn\tself._salario\t*\t1.10 + 1000\n",
    "\t\n",
    "class Gerente(Funcionario):\n",
    "\tdef\t__init__(self,\tnome,\tcpf,\tsalario,\tsenha,\tqtd_gerenciaveis):\n",
    "\t\tsuper().__init__(nome,\tcpf,\tsalario)\n",
    "\t\tself._senha\t=\tsenha\n",
    "\t\tself._qtd_gerenciaveis\t=\tqtd_gerenciaveis\n",
    "\tdef\tget_bonificacao(self):\n",
    "\t\treturn\tsuper().get_bonificacao() + 1000"
   ]
  },
  {
   "cell_type": "code",
   "execution_count": 40,
   "metadata": {},
   "outputs": [
    {
     "name": "stdout",
     "output_type": "stream",
     "text": [
      "3530.0\n",
      "7500.0\n"
     ]
    }
   ],
   "source": [
    "f1 = Funcionario('Eu', 1, 2300)\n",
    "print(f1.get_bonificacao())\n",
    "\n",
    "f2 = Gerente('Luiz', 2, 5000, 123, 5)\n",
    "print(f2.get_bonificacao())"
   ]
  },
  {
   "attachments": {},
   "cell_type": "markdown",
   "metadata": {},
   "source": [
    "#### Polimorfismo\n",
    "\n",
    "Polimorfirsmo refere-se a tecnica de instanciar classes de varias formas. No código abaixo, um método que recebe um funcionário como argumento pode receber um gerente como argumento. No caso abaixo, qualquer classe que possui o método get_bonificacao pode ser referencia"
   ]
  },
  {
   "cell_type": "code",
   "execution_count": 41,
   "metadata": {},
   "outputs": [],
   "source": [
    "class ControleDeBonificacoes:\n",
    "\tdef\t__init__(self,\ttotal_bonificacoes=0):\n",
    "\t\tself._total_bonificacoes = total_bonificacoes\n",
    "\tdef\tregistra(self,\tfuncionario):\n",
    "\t\tself._total_bonificacoes +=\tfuncionario.get_bonificacao()\n",
    "\t@property\n",
    "\tdef\ttotal_bonificacoes(self):\n",
    "\t\treturn\tself._total_bonificacoes"
   ]
  },
  {
   "cell_type": "code",
   "execution_count": 43,
   "metadata": {},
   "outputs": [
    {
     "name": "stdout",
     "output_type": "stream",
     "text": [
      "10700.0\n"
     ]
    }
   ],
   "source": [
    "funcionario = Funcionario('Eu', 1, 2000)\n",
    "gerente = Gerente('Luiz', 2, 5000, 123, 5)\n",
    "controle = ControleDeBonificacoes()\n",
    "controle.registra(funcionario)\n",
    "controle.registra(gerente)\n",
    "print(controle.total_bonificacoes)"
   ]
  },
  {
   "attachments": {},
   "cell_type": "markdown",
   "metadata": {},
   "source": [
    "#### Classes abstratas\n",
    "\n",
    "No exemplo de polimorfismo, Funcionario é uma classe que carrega atributos comuns às classes. Porém, ela não precisa ser instanciada. Criar a classe Funcionario como abstrata evitaria que ela seja instanciada, mas permite que as subclasses sejam chamadas com os atributos comuns de Funcionario."
   ]
  },
  {
   "cell_type": "code",
   "execution_count": 53,
   "metadata": {},
   "outputs": [],
   "source": [
    "import abc\n",
    "\n",
    "class Funcionario(abc.ABC):\n",
    "    def __init__(self, nome, cpf, salario):\n",
    "        self.nome = nome\n",
    "        self.cpf = cpf\n",
    "        self.salario = salario\n",
    "    @abc.abstractmethod\n",
    "    def get_bonificacao(self):\n",
    "        pass\n",
    "\n",
    "class Gerente(Funcionario):\n",
    "    def __init__(self, nome, cpf, salario):\n",
    "        super().__init__(nome, cpf, salario)\n",
    "        self._salario = salario\n",
    "    def get_bonificacao(self):\n",
    "        self._salario = self._salario * 1.2\n",
    "        return self._salario"
   ]
  },
  {
   "cell_type": "code",
   "execution_count": 56,
   "metadata": {},
   "outputs": [
    {
     "name": "stdout",
     "output_type": "stream",
     "text": [
      "6000.0\n"
     ]
    }
   ],
   "source": [
    "gerente = Gerente('Luiz', 1, 5000)\n",
    "print(gerente.get_bonificacao())"
   ]
  },
  {
   "cell_type": "code",
   "execution_count": 57,
   "metadata": {},
   "outputs": [
    {
     "ename": "TypeError",
     "evalue": "Can't instantiate abstract class Funcionario with abstract method get_bonificacao",
     "output_type": "error",
     "traceback": [
      "\u001b[1;31m---------------------------------------------------------------------------\u001b[0m",
      "\u001b[1;31mTypeError\u001b[0m                                 Traceback (most recent call last)",
      "Cell \u001b[1;32mIn[57], line 1\u001b[0m\n\u001b[1;32m----> 1\u001b[0m funcionario \u001b[39m=\u001b[39m Funcionario()\n",
      "\u001b[1;31mTypeError\u001b[0m: Can't instantiate abstract class Funcionario with abstract method get_bonificacao"
     ]
    }
   ],
   "source": [
    "funcionario = Funcionario()"
   ]
  }
 ],
 "metadata": {
  "kernelspec": {
   "display_name": "Python 3",
   "language": "python",
   "name": "python3"
  },
  "language_info": {
   "codemirror_mode": {
    "name": "ipython",
    "version": 3
   },
   "file_extension": ".py",
   "mimetype": "text/x-python",
   "name": "python",
   "nbconvert_exporter": "python",
   "pygments_lexer": "ipython3",
   "version": "3.10.7"
  },
  "orig_nbformat": 4
 },
 "nbformat": 4,
 "nbformat_minor": 2
}
